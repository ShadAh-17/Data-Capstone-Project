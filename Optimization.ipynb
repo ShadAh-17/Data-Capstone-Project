{
 "cells": [
  {
   "cell_type": "code",
   "execution_count": 1,
   "metadata": {},
   "outputs": [],
   "source": [
    "import numpy as np\n",
    "from scipy.optimize import minimize"
   ]
  },
  {
   "cell_type": "code",
   "execution_count": 10,
   "metadata": {},
   "outputs": [],
   "source": [
    "def objective(x):\n",
    "    x1 = x[0]\n",
    "    x2 = x[1]\n",
    "    x3 = x[2]\n",
    "    x4 = x[3]\n",
    "    return x1*x4*(x1+x2+x3)+x3\n",
    "\n",
    "def constraint1(x):\n",
    "    return x[0]*x[1]*x[2]*x[3]-25.0\n",
    "\n",
    "def constraint2(x):\n",
    "    sum_sq = 40\n",
    "    for i in range(4):\n",
    "        sum_sq = sum_sq - x[i]**2\n",
    "    return sum_sq"
   ]
  },
  {
   "cell_type": "code",
   "execution_count": 11,
   "metadata": {},
   "outputs": [
    {
     "name": "stdout",
     "output_type": "stream",
     "text": [
      "16\n"
     ]
    }
   ],
   "source": [
    "x0 = [1,5,5,1]\n",
    "print(objective(x0))"
   ]
  },
  {
   "cell_type": "code",
   "execution_count": 14,
   "metadata": {},
   "outputs": [],
   "source": [
    "b = (1.0,5.0)\n",
    "bnds = (b,b,b,b)\n",
    "con1 = {'type':'ineq','fun':constraint1}\n",
    "con2 = {'type': 'eq', 'fun': constraint2}\n",
    "cons = [con1,con2]"
   ]
  },
  {
   "cell_type": "code",
   "execution_count": 17,
   "metadata": {},
   "outputs": [],
   "source": [
    "sol = minimize(objective,x0,method='SLSQP',\n",
    "               bounds=bnds,constraints=cons)"
   ]
  },
  {
   "cell_type": "code",
   "execution_count": 18,
   "metadata": {},
   "outputs": [
    {
     "name": "stdout",
     "output_type": "stream",
     "text": [
      "     fun: 17.01401724563517\n",
      "     jac: array([14.57227015,  1.37940764,  2.37940764,  9.56415057])\n",
      " message: 'Optimization terminated successfully.'\n",
      "    nfev: 30\n",
      "     nit: 5\n",
      "    njev: 5\n",
      "  status: 0\n",
      " success: True\n",
      "       x: array([1.        , 4.7429961 , 3.82115462, 1.37940765])\n"
     ]
    }
   ],
   "source": [
    "print(sol)"
   ]
  },
  {
   "cell_type": "code",
   "execution_count": 20,
   "metadata": {},
   "outputs": [
    {
     "name": "stdout",
     "output_type": "stream",
     "text": [
      "17.01401724563517\n"
     ]
    }
   ],
   "source": [
    "print(sol.fun) # Objective function"
   ]
  },
  {
   "cell_type": "code",
   "execution_count": 21,
   "metadata": {},
   "outputs": [
    {
     "name": "stdout",
     "output_type": "stream",
     "text": [
      "[1.         4.7429961  3.82115462 1.37940765]\n"
     ]
    }
   ],
   "source": [
    "print(sol.x)"
   ]
  },
  {
   "cell_type": "code",
   "execution_count": null,
   "metadata": {},
   "outputs": [],
   "source": []
  },
  {
   "cell_type": "code",
   "execution_count": 93,
   "metadata": {},
   "outputs": [],
   "source": [
    "# Our problem\n",
    "def objective_(x):\n",
    "    x1 = x[0]\n",
    "    x2 = x[1]\n",
    "    x3 = x[2]\n",
    "    x4 = x[3]\n",
    "    x5 = x[4]\n",
    "    x6 = x[5]\n",
    "    return x1\n",
    "\n",
    "def constraint1(x):\n",
    "    return x[0]+x[1]+x[2]+x[3]+x[4]+x[5]-y\n",
    "\n",
    "def constraint2(x):\n",
    "\n",
    "    ((C4*(x[0]/y)/D2[0])*100)-3.2\n",
    "\n",
    "def constraint3(x):\n",
    "    ((C4*(x[1]/y)/D2[1])*100)-4.5\n",
    "\n",
    "def constraint4(x):\n",
    "    ((C4*(x[2]/y)/D2[2])*100)-205\n",
    "    \n",
    "def constraint5(x):\n",
    "    ((C4*(x[3]/y)/D2[3])*100)-120\n",
    "    \n",
    "def constraint6(x):\n",
    "    ((C4*(x[4]/y)/D2[4])*100)-7\n",
    "\n",
    "def constraint7(x):\n",
    "    ((C4*(x[5]/y)/D2[5])*100)-9.1"
   ]
  },
  {
   "cell_type": "code",
   "execution_count": 94,
   "metadata": {},
   "outputs": [],
   "source": [
    "# objective_((1,2,3,4,5,6))  # Problem"
   ]
  },
  {
   "cell_type": "code",
   "execution_count": 100,
   "metadata": {},
   "outputs": [],
   "source": [
    "b = (0,1.13)\n",
    "bnds = (b,b,b,b,b,b)\n",
    "con1 = {'type':'eq','fun':constraint1}\n",
    "con2 = {'type': 'eq', 'fun': constraint2}\n",
    "con3 = {'type': 'eq', 'fun': constraint3}\n",
    "con4 = {'type': 'eq', 'fun': constraint4}\n",
    "con5 = {'type': 'eq', 'fun': constraint5}\n",
    "con6 = {'type': 'eq', 'fun': constraint6}\n",
    "con7 = {'type': 'eq', 'fun': constraint7}\n",
    "cons = [con1,con2,con3,con4,con5,con6,con7]"
   ]
  },
  {
   "cell_type": "code",
   "execution_count": 101,
   "metadata": {},
   "outputs": [],
   "source": [
    "y = 1.13\n",
    "C4 = 27.01\n",
    "D2 = [32.2, 49.9, 11.9, 41.5, 42.7, 70.8]\n",
    "E = [3.2, 4.5, 205, 120, 7, 9.7]"
   ]
  },
  {
   "cell_type": "code",
   "execution_count": 102,
   "metadata": {},
   "outputs": [
    {
     "data": {
      "text/plain": [
       "0.05"
      ]
     },
     "execution_count": 102,
     "metadata": {},
     "output_type": "execute_result"
    }
   ],
   "source": [
    "x =(0.05, 0.03, 0.75, 0.15, 0.05, 0.1)\n",
    "objective_(x)"
   ]
  },
  {
   "cell_type": "code",
   "execution_count": 103,
   "metadata": {},
   "outputs": [],
   "source": [
    "sol = minimize(objective_,x,method='Nelder-Mead',\n",
    "               bounds=bnds,constraints=cons)"
   ]
  },
  {
   "cell_type": "code",
   "execution_count": 104,
   "metadata": {},
   "outputs": [
    {
     "data": {
      "text/plain": [
       " final_simplex: (array([[-1.46506443e+54,  3.65138468e+52,  3.22767447e+54,\n",
       "         8.98382294e+53,  6.32724489e+51,  4.95792143e+53],\n",
       "       [-1.05618552e+54,  2.63233450e+52,  2.32687586e+54,\n",
       "         6.47656415e+53,  4.56139971e+51,  3.57423520e+53],\n",
       "       [-9.57987437e+53,  2.38759510e+52,  2.11053626e+54,\n",
       "         5.87441027e+53,  4.13730687e+51,  3.24192326e+53],\n",
       "       [-7.61418980e+53,  1.89768692e+52,  1.67747749e+54,\n",
       "         4.66904607e+53,  3.28837713e+51,  2.57671636e+53],\n",
       "       [-6.90626599e+53,  1.72125085e+52,  1.52151523e+54,\n",
       "         4.23494488e+53,  2.98264264e+51,  2.33714802e+53],\n",
       "       [-5.48917638e+53,  1.36806915e+52,  1.20931709e+54,\n",
       "         3.36598089e+53,  2.37063726e+51,  1.85759102e+53],\n",
       "       [-4.97882416e+53,  1.24087391e+52,  1.09688170e+54,\n",
       "         3.05303125e+53,  2.15022897e+51,  1.68488283e+53]]), array([-1.46506443e+54, -1.05618552e+54, -9.57987437e+53, -7.61418980e+53,\n",
       "       -6.90626599e+53, -5.48917638e+53, -4.97882416e+53]))\n",
       "           fun: -1.4650644259356806e+54\n",
       "       message: 'Maximum number of function evaluations has been exceeded.'\n",
       "          nfev: 1200\n",
       "           nit: 797\n",
       "        status: 1\n",
       "       success: False\n",
       "             x: array([-1.46506443e+54,  3.65138468e+52,  3.22767447e+54,  8.98382294e+53,\n",
       "        6.32724489e+51,  4.95792143e+53])"
      ]
     },
     "execution_count": 104,
     "metadata": {},
     "output_type": "execute_result"
    }
   ],
   "source": [
    "sol"
   ]
  },
  {
   "cell_type": "code",
   "execution_count": null,
   "metadata": {},
   "outputs": [],
   "source": [
    "minimize"
   ]
  },
  {
   "cell_type": "code",
   "execution_count": null,
   "metadata": {},
   "outputs": [],
   "source": []
  },
  {
   "cell_type": "code",
   "execution_count": null,
   "metadata": {},
   "outputs": [],
   "source": []
  },
  {
   "cell_type": "code",
   "execution_count": null,
   "metadata": {},
   "outputs": [],
   "source": []
  },
  {
   "cell_type": "code",
   "execution_count": null,
   "metadata": {},
   "outputs": [],
   "source": []
  },
  {
   "cell_type": "code",
   "execution_count": null,
   "metadata": {},
   "outputs": [],
   "source": []
  },
  {
   "cell_type": "code",
   "execution_count": null,
   "metadata": {},
   "outputs": [],
   "source": []
  },
  {
   "cell_type": "code",
   "execution_count": null,
   "metadata": {},
   "outputs": [],
   "source": []
  },
  {
   "cell_type": "code",
   "execution_count": null,
   "metadata": {},
   "outputs": [],
   "source": []
  }
 ],
 "metadata": {
  "kernelspec": {
   "display_name": "Python 3",
   "language": "python",
   "name": "python3"
  },
  "language_info": {
   "codemirror_mode": {
    "name": "ipython",
    "version": 3
   },
   "file_extension": ".py",
   "mimetype": "text/x-python",
   "name": "python",
   "nbconvert_exporter": "python",
   "pygments_lexer": "ipython3",
   "version": "3.7.3"
  }
 },
 "nbformat": 4,
 "nbformat_minor": 2
}
