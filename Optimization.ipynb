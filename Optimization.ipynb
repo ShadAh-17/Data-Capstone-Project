{
 "cells": [
  {
   "cell_type": "code",
   "execution_count": 1,
   "metadata": {},
   "outputs": [],
   "source": [
    "import numpy as np\n",
    "from scipy.optimize import minimize"
   ]
  },
  {
   "cell_type": "code",
   "execution_count": 10,
   "metadata": {},
   "outputs": [],
   "source": [
    "def objective(x):\n",
    "    x1 = x[0]\n",
    "    x2 = x[1]\n",
    "    x3 = x[2]\n",
    "    x4 = x[3]\n",
    "    return x1*x4*(x1+x2+x3)+x3\n",
    "\n",
    "def constraint1(x):\n",
    "    return x[0]*x[1]*x[2]*x[3]-25.0\n",
    "\n",
    "def constraint2(x):\n",
    "    sum_sq = 40\n",
    "    for i in range(4):\n",
    "        sum_sq = sum_sq - x[i]**2\n",
    "    return sum_sq"
   ]
  },
  {
   "cell_type": "code",
   "execution_count": 11,
   "metadata": {},
   "outputs": [
    {
     "name": "stdout",
     "output_type": "stream",
     "text": [
      "16\n"
     ]
    }
   ],
   "source": [
    "x0 = [1,5,5,1]\n",
    "print(objective(x0))"
   ]
  },
  {
   "cell_type": "code",
   "execution_count": 14,
   "metadata": {},
   "outputs": [],
   "source": [
    "b = (1.0,5.0)\n",
    "bnds = (b,b,b,b)\n",
    "con1 = {'type':'ineq','fun':constraint1}\n",
    "con2 = {'type': 'eq', 'fun': constraint2}\n",
    "cons = [con1,con2]"
   ]
  },
  {
   "cell_type": "code",
   "execution_count": 17,
   "metadata": {},
   "outputs": [],
   "source": [
    "sol = minimize(objective,x0,method='SLSQP',\n",
    "               bounds=bnds,constraints=cons)"
   ]
  },
  {
   "cell_type": "code",
   "execution_count": 18,
   "metadata": {},
   "outputs": [
    {
     "name": "stdout",
     "output_type": "stream",
     "text": [
      "     fun: 17.01401724563517\n",
      "     jac: array([14.57227015,  1.37940764,  2.37940764,  9.56415057])\n",
      " message: 'Optimization terminated successfully.'\n",
      "    nfev: 30\n",
      "     nit: 5\n",
      "    njev: 5\n",
      "  status: 0\n",
      " success: True\n",
      "       x: array([1.        , 4.7429961 , 3.82115462, 1.37940765])\n"
     ]
    }
   ],
   "source": [
    "print(sol)"
   ]
  },
  {
   "cell_type": "code",
   "execution_count": 20,
   "metadata": {},
   "outputs": [
    {
     "name": "stdout",
     "output_type": "stream",
     "text": [
      "17.01401724563517\n"
     ]
    }
   ],
   "source": [
    "print(sol.fun) # Objective function"
   ]
  },
  {
   "cell_type": "code",
   "execution_count": 21,
   "metadata": {},
   "outputs": [
    {
     "name": "stdout",
     "output_type": "stream",
     "text": [
      "[1.         4.7429961  3.82115462 1.37940765]\n"
     ]
    }
   ],
   "source": [
    "print(sol.x)"
   ]
  },
  {
   "cell_type": "code",
   "execution_count": null,
   "metadata": {},
   "outputs": [],
   "source": []
  },
  {
   "cell_type": "code",
   "execution_count": 105,
   "metadata": {},
   "outputs": [],
   "source": [
    "# Our problem\n",
    "def objective_(x):\n",
    "    x1 = x[0]\n",
    "    x2 = x[1]\n",
    "    x3 = x[2]\n",
    "    x4 = x[3]\n",
    "    x5 = x[4]\n",
    "    x6 = x[5]\n",
    "    return x1\n",
    "\n",
    "def constraint1(x):\n",
    "    return x[0]+x[1]+x[2]+x[3]+x[4]+x[5]-y\n",
    "\n",
    "def constraint2(x):\n",
    "    return ((C4*(x[0]/y)/D2[0])*100)-3.2\n",
    "\n",
    "def constraint3(x):\n",
    "    return ((C4*(x[1]/y)/D2[1])*100)-4.5\n",
    "\n",
    "def constraint4(x):\n",
    "    return ((C4*(x[2]/y)/D2[2])*100)-205\n",
    "    \n",
    "def constraint5(x):\n",
    "    return ((C4*(x[3]/y)/D2[3])*100)-120\n",
    "    \n",
    "def constraint6(x):\n",
    "    return ((C4*(x[4]/y)/D2[4])*100)-7\n",
    "\n",
    "def constraint7(x):\n",
    "    return ((C4*(x[5]/y)/D2[5])*100)-9.1"
   ]
  },
  {
   "cell_type": "code",
   "execution_count": 94,
   "metadata": {},
   "outputs": [],
   "source": [
    "# objective_((1,2,3,4,5,6))  # Problem"
   ]
  },
  {
   "cell_type": "code",
   "execution_count": 106,
   "metadata": {},
   "outputs": [],
   "source": [
    "b = (0.01,0.99)\n",
    "bnds = (b,b,b,b,b,b)\n",
    "con1 = {'type':'eq','fun':constraint1}\n",
    "con2 = {'type': 'eq', 'fun': constraint2}\n",
    "con3 = {'type': 'eq', 'fun': constraint3}\n",
    "con4 = {'type': 'eq', 'fun': constraint4}\n",
    "con5 = {'type': 'eq', 'fun': constraint5}\n",
    "con6 = {'type': 'eq', 'fun': constraint6}\n",
    "con7 = {'type': 'eq', 'fun': constraint7}\n",
    "cons = [con1,con2,con3,con4,con5,con6,con7]"
   ]
  },
  {
   "cell_type": "code",
   "execution_count": 107,
   "metadata": {},
   "outputs": [],
   "source": [
    "y = 1.13\n",
    "C4 = 27.01\n",
    "D2 = [32.2, 49.9, 11.9, 41.5, 42.7, 70.8]\n",
    "E = [3.2, 4.5, 205, 120, 7, 9.7]"
   ]
  },
  {
   "cell_type": "code",
   "execution_count": 108,
   "metadata": {},
   "outputs": [
    {
     "data": {
      "text/plain": [
       "0.05"
      ]
     },
     "execution_count": 108,
     "metadata": {},
     "output_type": "execute_result"
    }
   ],
   "source": [
    "x =(0.05, 0.03, 0.75, 0.15, 0.05, 0.1)\n",
    "objective_(x)"
   ]
  },
  {
   "cell_type": "code",
   "execution_count": 109,
   "metadata": {},
   "outputs": [],
   "source": [
    "sol = minimize(objective_,x,method='Nelder-Mead',\n",
    "               bounds=bnds,constraints=cons)"
   ]
  },
  {
   "cell_type": "code",
   "execution_count": 111,
   "metadata": {},
   "outputs": [
    {
     "data": {
      "text/plain": [
       "array([-1.46506443e+54,  3.65138468e+52,  3.22767447e+54,  8.98382294e+53,\n",
       "        6.32724489e+51,  4.95792143e+53])"
      ]
     },
     "execution_count": 111,
     "metadata": {},
     "output_type": "execute_result"
    }
   ],
   "source": [
    "sol.x"
   ]
  },
  {
   "cell_type": "code",
   "execution_count": null,
   "metadata": {},
   "outputs": [],
   "source": [
    "minimize"
   ]
  },
  {
   "cell_type": "code",
   "execution_count": null,
   "metadata": {},
   "outputs": [],
   "source": []
  },
  {
   "cell_type": "code",
   "execution_count": null,
   "metadata": {},
   "outputs": [],
   "source": []
  },
  {
   "cell_type": "code",
   "execution_count": null,
   "metadata": {},
   "outputs": [],
   "source": []
  },
  {
   "cell_type": "markdown",
   "metadata": {},
   "source": [
    "## MEthod -2"
   ]
  },
  {
   "cell_type": "code",
   "execution_count": 246,
   "metadata": {},
   "outputs": [
    {
     "name": "stdout",
     "output_type": "stream",
     "text": [
      "0.48177\n"
     ]
    }
   ],
   "source": [
    "# Program to find coefficient \n",
    "# of variation of given array. \n",
    "import math \n",
    "\n",
    "# Function to find mean of \n",
    "# given array. \n",
    "def mean(arr, n): \n",
    "    sum = 0\n",
    "    for i in range(0, n): \n",
    "        sum = sum + arr[i] \n",
    "    return (sum / n) \n",
    "\n",
    "# Function to find standard \n",
    "# deviation of given array. \n",
    "def standardDeviation(arr, n): \n",
    "    sum = 0\n",
    "    for i in range(0, n): \n",
    "        sum = (sum + (arr[i] - mean(arr, n)) * (arr[i] - mean(arr, n))) \n",
    "    \n",
    "    return math.sqrt(sum / (n - 1)) \n",
    "\n",
    "\n",
    "# Function to find coefficient \n",
    "# of variation. \n",
    "def coefficientOfVariation(arr, n): \n",
    "    return (standardDeviation(arr, n) / mean(arr, n)) \n",
    "\n",
    "\n",
    "# Driver Program \n",
    "arr = [15, 36, 53.67, 25.45,67.8, 56, 78.09] \n",
    "n = len(arr) \n",
    "\n",
    "print(round(coefficientOfVariation(arr, n), 5)) \n",
    "\n",
    "# This code is contributed by Smitha Dinesh Semwal \n"
   ]
  },
  {
   "cell_type": "code",
   "execution_count": 317,
   "metadata": {},
   "outputs": [
    {
     "data": {
      "text/plain": [
       "15"
      ]
     },
     "execution_count": 317,
     "metadata": {},
     "output_type": "execute_result"
    }
   ],
   "source": [
    "D2 = [32.2, 60.5, 67.1, 8.3, 8.6, 17.5, 2.8, 2.6, 4.42, 6.88, 56.1, 53.4, 10.1, 28.19, 10.32]\n",
    "len(D2)"
   ]
  },
  {
   "cell_type": "code",
   "execution_count": 318,
   "metadata": {},
   "outputs": [
    {
     "data": {
      "text/plain": [
       "15"
      ]
     },
     "execution_count": 318,
     "metadata": {},
     "output_type": "execute_result"
    }
   ],
   "source": [
    "C4 = [27.01, 16.7, 5.1, 6.4, 8.4, 4.57, 1.90, 1.97, 6.15, 10.46, 23.9, 13.2, 8.4, 18.23, 6.0]\n",
    "len(C4)"
   ]
  },
  {
   "cell_type": "code",
   "execution_count": 319,
   "metadata": {},
   "outputs": [],
   "source": [
    "# For Columns\n",
    "x=0.01\n",
    "m=[]\n",
    "cov={}\n",
    "while x<1.0:\n",
    "    x=round(x,2)\n",
    "    m=[]\n",
    "    for i in range(15):\n",
    "        if D2[i]!=0:\n",
    "            m.append(C4[i]*(x/1.13)/D2[i])\n",
    "        else:\n",
    "            m.append(0)\n",
    "    cov[x]=coefficientOfVariation(m,len(m))\n",
    "#     cov.append(round(variation(m, axis = 0),3))\n",
    "    x+=0.01"
   ]
  },
  {
   "cell_type": "code",
   "execution_count": 320,
   "metadata": {},
   "outputs": [
    {
     "data": {
      "text/plain": [
       "[0.85]"
      ]
     },
     "execution_count": 320,
     "metadata": {},
     "output_type": "execute_result"
    }
   ],
   "source": [
    "temp=min(cov.values())\n",
    "res = [key for key in cov if cov[key] == temp] \n",
    "res"
   ]
  },
  {
   "cell_type": "code",
   "execution_count": 235,
   "metadata": {},
   "outputs": [],
   "source": []
  },
  {
   "cell_type": "code",
   "execution_count": 305,
   "metadata": {},
   "outputs": [
    {
     "data": {
      "text/plain": [
       "15"
      ]
     },
     "execution_count": 305,
     "metadata": {},
     "output_type": "execute_result"
    }
   ],
   "source": [
    "#For E2\n",
    "E2 = [49.9, 61.0, 44.5, 3.3, 9.9, 3.9, 3.8, 4.0, 1.62, 1.87, 31.2, 33.2, 2.8, 7.44, 1.93]  # Heat Exchangers\n",
    "len(E2)"
   ]
  },
  {
   "cell_type": "code",
   "execution_count": 306,
   "metadata": {},
   "outputs": [
    {
     "data": {
      "text/plain": [
       "15"
      ]
     },
     "execution_count": 306,
     "metadata": {},
     "output_type": "execute_result"
    }
   ],
   "source": [
    "F2 = [11.9, 11.7, 7.4, 4.3, 5.4, 1.5, 0.9, 0.4, 4.62, 3.75, 19.3, 15.2, 3.8, 5.11, 6.56]  #Pumps\n",
    "len(F2)"
   ]
  },
  {
   "cell_type": "code",
   "execution_count": 307,
   "metadata": {},
   "outputs": [
    {
     "data": {
      "text/plain": [
       "15"
      ]
     },
     "execution_count": 307,
     "metadata": {},
     "output_type": "execute_result"
    }
   ],
   "source": [
    "G2 = [41.5, 105.2, 12.8, 16.5, 38.6, 15, 0, 4.3, 3.35, 2.79, 54.3, 42.7, 0.1, 26.01, 0.44]  #Compressors\n",
    "len(G2)"
   ]
  },
  {
   "cell_type": "code",
   "execution_count": 308,
   "metadata": {},
   "outputs": [
    {
     "data": {
      "text/plain": [
       "15"
      ]
     },
     "execution_count": 308,
     "metadata": {},
     "output_type": "execute_result"
    }
   ],
   "source": [
    "H2 = [42.7, 51.2, 0, 0, 0, 0.6, 0, 1.8, 0, 0, 0, 0, 0, 1.55, 2.94]   #Furnance\n",
    "len(H2)"
   ]
  },
  {
   "cell_type": "code",
   "execution_count": 309,
   "metadata": {},
   "outputs": [
    {
     "data": {
      "text/plain": [
       "15"
      ]
     },
     "execution_count": 309,
     "metadata": {},
     "output_type": "execute_result"
    }
   ],
   "source": [
    "I2 = [70.8, 37.5, 6.7, 62.3, 77.9, 0.6, 4.1, 0.6, 21.86, 51.87, 79.7, 57.1, 95.8, 45.80, 10.37] #Misc\n",
    "len(I2)"
   ]
  },
  {
   "cell_type": "code",
   "execution_count": null,
   "metadata": {},
   "outputs": [],
   "source": []
  },
  {
   "cell_type": "code",
   "execution_count": 315,
   "metadata": {},
   "outputs": [],
   "source": [
    "# For Heat Exchangers\n",
    "x=0.01\n",
    "m=[]\n",
    "cov={}\n",
    "while x<1.0:\n",
    "    x=round(x,2)\n",
    "    m=[]\n",
    "    for i in range(15):\n",
    "        if E2[i]!=0:\n",
    "            m.append(C4[i]*(x/1.13)/E2[i])\n",
    "        else:\n",
    "            m.append(0)\n",
    "    cov[x]=coefficientOfVariation(m,len(m))\n",
    "#     cov.append(round(variation(m, axis = 0),3))\n",
    "    x+=0.01"
   ]
  },
  {
   "cell_type": "code",
   "execution_count": 316,
   "metadata": {},
   "outputs": [
    {
     "data": {
      "text/plain": [
       "[0.05, 0.1, 0.2, 0.4, 0.8]"
      ]
     },
     "execution_count": 316,
     "metadata": {},
     "output_type": "execute_result"
    }
   ],
   "source": [
    "temp=min(cov.values())\n",
    "res = [key for key in cov if cov[key] == temp] \n",
    "res"
   ]
  },
  {
   "cell_type": "code",
   "execution_count": 321,
   "metadata": {},
   "outputs": [],
   "source": [
    "# For Pumps\n",
    "x=0.01\n",
    "m=[]\n",
    "cov={}\n",
    "while x<1.0:\n",
    "    x=round(x,2)\n",
    "    m=[]\n",
    "    for i in range(15):\n",
    "        if F2[i]!=0:\n",
    "            m.append(C4[i]*(x/1.13)/F2[i])\n",
    "        else:\n",
    "            m.append(0)\n",
    "    cov[x]=coefficientOfVariation(m,len(m))\n",
    "#     cov.append(round(variation(m, axis = 0),3))\n",
    "    x+=0.01"
   ]
  },
  {
   "cell_type": "code",
   "execution_count": 322,
   "metadata": {},
   "outputs": [
    {
     "data": {
      "text/plain": [
       "[0.83]"
      ]
     },
     "execution_count": 322,
     "metadata": {},
     "output_type": "execute_result"
    }
   ],
   "source": [
    "temp=min(cov.values())\n",
    "res = [key for key in cov if cov[key] == temp] \n",
    "res"
   ]
  },
  {
   "cell_type": "code",
   "execution_count": 323,
   "metadata": {},
   "outputs": [
    {
     "data": {
      "text/plain": [
       "[0.17, 0.34, 0.45, 0.65, 0.68, 0.9]"
      ]
     },
     "execution_count": 323,
     "metadata": {},
     "output_type": "execute_result"
    }
   ],
   "source": [
    "# For Compressors\n",
    "x=0.01\n",
    "m=[]\n",
    "cov={}\n",
    "while x<1.0:\n",
    "    x=round(x,2)\n",
    "    m=[]\n",
    "    for i in range(15):\n",
    "        if G2[i]!=0:\n",
    "            m.append(C4[i]*(x/1.13)/G2[i])\n",
    "        else:\n",
    "            m.append(0)\n",
    "    cov[x]=coefficientOfVariation(m,len(m))\n",
    "#     cov.append(round(variation(m, axis = 0),3))\n",
    "    x+=0.01\n",
    "    \n",
    "temp=min(cov.values())\n",
    "res = [key for key in cov if cov[key] == temp] \n",
    "res"
   ]
  },
  {
   "cell_type": "code",
   "execution_count": 324,
   "metadata": {},
   "outputs": [
    {
     "data": {
      "text/plain": [
       "[0.35, 0.49, 0.57, 0.7, 0.71, 0.98]"
      ]
     },
     "execution_count": 324,
     "metadata": {},
     "output_type": "execute_result"
    }
   ],
   "source": [
    "# For Furnaces\n",
    "x=0.01\n",
    "m=[]\n",
    "cov={}\n",
    "while x<1.0:\n",
    "    x=round(x,2)\n",
    "    m=[]\n",
    "    for i in range(15):\n",
    "        if H2[i]!=0:\n",
    "            m.append(C4[i]*(x/1.13)/H2[i])\n",
    "        else:\n",
    "            m.append(0)\n",
    "    cov[x]=coefficientOfVariation(m,len(m))\n",
    "#     cov.append(round(variation(m, axis = 0),3))\n",
    "    x+=0.01\n",
    "    \n",
    "temp=min(cov.values())\n",
    "res = [key for key in cov if cov[key] == temp] \n",
    "res"
   ]
  },
  {
   "cell_type": "code",
   "execution_count": 328,
   "metadata": {},
   "outputs": [],
   "source": [
    "# For rest in similar way_For particulars_B\n",
    "C6 = [50.98, 64.4, 17.3, 16.9, 14.5, 12.79, 4.28, 2.79, 10.97, 20.25, 50.7, 39.3, 4.5, 27.20, 12.50]\n",
    "\n",
    "\n",
    "# for Part. C\n",
    "C8 = [11.00, 16.2, 5.1, 2.2, 2.7, 2.74, 0.96, 0.66, 0.17, 1.59, 4.0, 3.0, 1.3, 4.86, 1.54]\n",
    "\n",
    "# For Part. D\n",
    "C10 = [0.0, 0.6, 0.8, 0.0, 0.0, 0.0, 0.0, 0.0, 0.24, 1.24, 1.7, 0.1, 0.0, 0.16, 0.0]\n",
    "\n",
    "# For Part. E\n",
    "C12 = [60.37, 88.7, 25.5, 13.3, 10.3, 6.42, 3.16, 2.75, 11.32, 16.34, 67.2, 55.8, 2.2, 33.09, 16.80]\n",
    "\n",
    "# For Part. F\n",
    "C14 = [7.15, 2.3, 0.3, 0.3, 0.1, 0.05, 0.00, 0.00, 0.1, 0.0, 0.5, 0.0, 0.0, 1.21, 0.50]\n",
    "\n",
    "# For Part. G\n",
    "C16 = [48.32, 35.8, 10.5, 14.9, 9.8, 4.45, 1.86, 1.46, 6.31, 11.62, 35.3, 21.0, 10.2, 16.94, 8.34]\n",
    "\n",
    "# For Part. H\n",
    "C18 = [20.63, 25.1, 5.1, 7.7, 6.1, 5.21, 1.35, 1.81, 1.71, 6.54, 19.2, 10.0, 12.0, 22.16, 6.03]\n",
    "\n",
    "# For Part. I\n",
    "C20 = [3.82, 6.9, 1.9, 1.0, 0.7, 1.17, 0.80, 0.44, 1.44, 2.64, 2.5, 7.2, 1.2, 2.67, 1.25]\n",
    "\n",
    "# For Part. J\n",
    "C22 = [223.92, 269.90, 54.20, 52.60, 47.40, 44.58, 12.82, 10.26, 12.41, 30.58, 80.11, 80.12, 19.38, 147.84, 39.5]\n"
   ]
  },
  {
   "cell_type": "code",
   "execution_count": 329,
   "metadata": {},
   "outputs": [
    {
     "name": "stdout",
     "output_type": "stream",
     "text": [
      "C6 15\n",
      "C8 15\n",
      "C10 15\n",
      "C12 15\n",
      "C14 15\n",
      "C16 15\n",
      "C18 15\n",
      "C20 15\n",
      "C22 15\n"
     ]
    }
   ],
   "source": [
    "print('C6',len(C6))\n",
    "print('C8',len(C8))\n",
    "print('C10',len(C10))\n",
    "print('C12',len(C12))\n",
    "print('C14',len(C14))\n",
    "print('C16',len(C16))\n",
    "print('C18',len(C18))\n",
    "print('C20',len(C20))\n",
    "print('C22',len(C22))"
   ]
  },
  {
   "cell_type": "markdown",
   "metadata": {},
   "source": [
    "### For Particulars B"
   ]
  },
  {
   "cell_type": "code",
   "execution_count": 330,
   "metadata": {},
   "outputs": [
    {
     "data": {
      "text/plain": [
       "[0.31, 0.39, 0.41, 0.43, 0.47, 0.62, 0.78, 0.82, 0.86, 0.91, 0.94]"
      ]
     },
     "execution_count": 330,
     "metadata": {},
     "output_type": "execute_result"
    }
   ],
   "source": [
    "# For Columns\n",
    "x=0.01\n",
    "m=[]\n",
    "cov={}\n",
    "while x<1.0:\n",
    "    x=round(x,2)\n",
    "    m=[]\n",
    "    for i in range(15):\n",
    "        if D2[i]!=0:\n",
    "            m.append(C6[i]*(x/0.67)/D2[i])\n",
    "        else:\n",
    "            m.append(0)\n",
    "    cov[x]=coefficientOfVariation(m,len(m))\n",
    "#     cov.append(round(variation(m, axis = 0),3))\n",
    "    x+=0.01\n",
    "    \n",
    "    \n",
    "temp=min(cov.values())\n",
    "res = [key for key in cov if cov[key] == temp] \n",
    "res"
   ]
  },
  {
   "cell_type": "code",
   "execution_count": 331,
   "metadata": {},
   "outputs": [
    {
     "data": {
      "text/plain": [
       "[0.17, 0.34, 0.59, 0.68, 0.77, 0.89]"
      ]
     },
     "execution_count": 331,
     "metadata": {},
     "output_type": "execute_result"
    }
   ],
   "source": [
    "# For Heat Exchangers\n",
    "x=0.01\n",
    "m=[]\n",
    "cov={}\n",
    "while x<1.0:\n",
    "    x=round(x,2)\n",
    "    m=[]\n",
    "    for i in range(15):\n",
    "        if E2[i]!=0:\n",
    "            m.append(C6[i]*(x/0.67)/E2[i])\n",
    "        else:\n",
    "            m.append(0)\n",
    "    cov[x]=coefficientOfVariation(m,len(m))\n",
    "#     cov.append(round(variation(m, axis = 0),3))\n",
    "    x+=0.01\n",
    "    \n",
    "temp=min(cov.values())\n",
    "res = [key for key in cov if cov[key] == temp] \n",
    "res"
   ]
  },
  {
   "cell_type": "code",
   "execution_count": 332,
   "metadata": {},
   "outputs": [
    {
     "data": {
      "text/plain": [
       "[0.69, 0.71]"
      ]
     },
     "execution_count": 332,
     "metadata": {},
     "output_type": "execute_result"
    }
   ],
   "source": [
    "# For Pumps\n",
    "x=0.01\n",
    "m=[]\n",
    "cov={}\n",
    "while x<1.0:\n",
    "    x=round(x,2)\n",
    "    m=[]\n",
    "    for i in range(15):\n",
    "        if F2[i]!=0:\n",
    "            m.append(C6[i]*(x/0.67)/F2[i])\n",
    "        else:\n",
    "            m.append(0)\n",
    "    cov[x]=coefficientOfVariation(m,len(m))\n",
    "#     cov.append(round(variation(m, axis = 0),3))\n",
    "    x+=0.01\n",
    "    \n",
    "temp=min(cov.values())\n",
    "res = [key for key in cov if cov[key] == temp] \n",
    "res"
   ]
  },
  {
   "cell_type": "code",
   "execution_count": 333,
   "metadata": {},
   "outputs": [
    {
     "data": {
      "text/plain": [
       "[0.63]"
      ]
     },
     "execution_count": 333,
     "metadata": {},
     "output_type": "execute_result"
    }
   ],
   "source": [
    "# For Compressors\n",
    "x=0.01\n",
    "m=[]\n",
    "cov={}\n",
    "while x<1.0:\n",
    "    x=round(x,2)\n",
    "    m=[]\n",
    "    for i in range(15):\n",
    "        if G2[i]!=0:\n",
    "            m.append(C6[i]*(x/0.67)/G2[i])\n",
    "        else:\n",
    "            m.append(0)\n",
    "    cov[x]=coefficientOfVariation(m,len(m))\n",
    "#     cov.append(round(variation(m, axis = 0),3))\n",
    "    x+=0.01\n",
    "    \n",
    "temp=min(cov.values())\n",
    "res = [key for key in cov if cov[key] == temp] \n",
    "res"
   ]
  },
  {
   "cell_type": "code",
   "execution_count": 334,
   "metadata": {},
   "outputs": [
    {
     "data": {
      "text/plain": [
       "[0.27, 0.47, 0.54, 0.61, 0.94]"
      ]
     },
     "execution_count": 334,
     "metadata": {},
     "output_type": "execute_result"
    }
   ],
   "source": [
    "# For Furnaces\n",
    "x=0.01\n",
    "m=[]\n",
    "cov={}\n",
    "while x<1.0:\n",
    "    x=round(x,2)\n",
    "    m=[]\n",
    "    for i in range(15):\n",
    "        if H2[i]!=0:\n",
    "            m.append(C6[i]*(x/0.67)/H2[i])\n",
    "        else:\n",
    "            m.append(0)\n",
    "    cov[x]=coefficientOfVariation(m,len(m))\n",
    "#     cov.append(round(variation(m, axis = 0),3))\n",
    "    x+=0.01\n",
    "    \n",
    "temp=min(cov.values())\n",
    "res = [key for key in cov if cov[key] == temp] \n",
    "res"
   ]
  },
  {
   "cell_type": "code",
   "execution_count": 335,
   "metadata": {},
   "outputs": [
    {
     "data": {
      "text/plain": [
       "[0.79]"
      ]
     },
     "execution_count": 335,
     "metadata": {},
     "output_type": "execute_result"
    }
   ],
   "source": [
    "# For Misc\n",
    "x=0.01\n",
    "m=[]\n",
    "cov={}\n",
    "while x<1.0:\n",
    "    x=round(x,2)\n",
    "    m=[]\n",
    "    for i in range(15):\n",
    "        if I2[i]!=0:\n",
    "            m.append(C6[i]*(x/0.67)/I2[i])\n",
    "        else:\n",
    "            m.append(0)\n",
    "    cov[x]=coefficientOfVariation(m,len(m))\n",
    "#     cov.append(round(variation(m, axis = 0),3))\n",
    "    x+=0.01\n",
    "    \n",
    "temp=min(cov.values())\n",
    "res = [key for key in cov if cov[key] == temp] \n",
    "res"
   ]
  },
  {
   "cell_type": "code",
   "execution_count": null,
   "metadata": {},
   "outputs": [],
   "source": []
  },
  {
   "cell_type": "markdown",
   "metadata": {},
   "source": [
    "### For Particulars C"
   ]
  },
  {
   "cell_type": "code",
   "execution_count": 344,
   "metadata": {},
   "outputs": [
    {
     "data": {
      "text/plain": [
       "[0.13, 0.26, 0.52]"
      ]
     },
     "execution_count": 344,
     "metadata": {},
     "output_type": "execute_result"
    }
   ],
   "source": [
    "# For Columns\n",
    "x=0.01\n",
    "m=[]\n",
    "cov={}\n",
    "while x<1.0:\n",
    "    x=round(x,2)\n",
    "    m=[]\n",
    "    for i in range(15):\n",
    "        if D2[i]!=0:\n",
    "            m.append(C8[i]*(x/0.67)/D2[i])\n",
    "        else:\n",
    "            m.append(0)\n",
    "    cov[x]=coefficientOfVariation(m,len(m))\n",
    "#     cov.append(round(variation(m, axis = 0),3))\n",
    "    x+=0.01\n",
    "    \n",
    "    \n",
    "temp=min(cov.values())\n",
    "res = [key for key in cov if cov[key] == temp] \n",
    "res"
   ]
  },
  {
   "cell_type": "code",
   "execution_count": 345,
   "metadata": {},
   "outputs": [
    {
     "data": {
      "text/plain": [
       "[0.79]"
      ]
     },
     "execution_count": 345,
     "metadata": {},
     "output_type": "execute_result"
    }
   ],
   "source": [
    "# For Heat Exchangers\n",
    "x=0.01\n",
    "m=[]\n",
    "cov={}\n",
    "while x<1.0:\n",
    "    x=round(x,2)\n",
    "    m=[]\n",
    "    for i in range(15):\n",
    "        if E2[i]!=0:\n",
    "            m.append(C8[i]*(x/0.67)/E2[i])\n",
    "        else:\n",
    "            m.append(0)\n",
    "    cov[x]=coefficientOfVariation(m,len(m))\n",
    "#     cov.append(round(variation(m, axis = 0),3))\n",
    "    x+=0.01\n",
    "    \n",
    "temp=min(cov.values())\n",
    "res = [key for key in cov if cov[key] == temp] \n",
    "res"
   ]
  },
  {
   "cell_type": "code",
   "execution_count": 346,
   "metadata": {},
   "outputs": [
    {
     "data": {
      "text/plain": [
       "[0.21, 0.42, 0.84]"
      ]
     },
     "execution_count": 346,
     "metadata": {},
     "output_type": "execute_result"
    }
   ],
   "source": [
    "# For Pumps\n",
    "x=0.01\n",
    "m=[]\n",
    "cov={}\n",
    "while x<1.0:\n",
    "    x=round(x,2)\n",
    "    m=[]\n",
    "    for i in range(15):\n",
    "        if F2[i]!=0:\n",
    "            m.append(C8[i]*(x/0.67)/F2[i])\n",
    "        else:\n",
    "            m.append(0)\n",
    "    cov[x]=coefficientOfVariation(m,len(m))\n",
    "#     cov.append(round(variation(m, axis = 0),3))\n",
    "    x+=0.01\n",
    "    \n",
    "temp=min(cov.values())\n",
    "res = [key for key in cov if cov[key] == temp] \n",
    "res"
   ]
  },
  {
   "cell_type": "code",
   "execution_count": 347,
   "metadata": {},
   "outputs": [
    {
     "data": {
      "text/plain": [
       "[0.03, 0.06, 0.12, 0.24, 0.25, 0.48, 0.5, 0.77, 0.89, 0.96]"
      ]
     },
     "execution_count": 347,
     "metadata": {},
     "output_type": "execute_result"
    }
   ],
   "source": [
    "# For Compressors\n",
    "x=0.01\n",
    "m=[]\n",
    "cov={}\n",
    "while x<1.0:\n",
    "    x=round(x,2)\n",
    "    m=[]\n",
    "    for i in range(15):\n",
    "        if G2[i]!=0:\n",
    "            m.append(C8[i]*(x/0.67)/G2[i])\n",
    "        else:\n",
    "            m.append(0)\n",
    "    cov[x]=coefficientOfVariation(m,len(m))\n",
    "#     cov.append(round(variation(m, axis = 0),3))\n",
    "    x+=0.01\n",
    "    \n",
    "temp=min(cov.values())\n",
    "res = [key for key in cov if cov[key] == temp] \n",
    "res"
   ]
  },
  {
   "cell_type": "code",
   "execution_count": 348,
   "metadata": {},
   "outputs": [
    {
     "data": {
      "text/plain": [
       "[0.31, 0.59, 0.62]"
      ]
     },
     "execution_count": 348,
     "metadata": {},
     "output_type": "execute_result"
    }
   ],
   "source": [
    "# For Furnaces\n",
    "x=0.01\n",
    "m=[]\n",
    "cov={}\n",
    "while x<1.0:\n",
    "    x=round(x,2)\n",
    "    m=[]\n",
    "    for i in range(15):\n",
    "        if H2[i]!=0:\n",
    "            m.append(C8[i]*(x/0.67)/H2[i])\n",
    "        else:\n",
    "            m.append(0)\n",
    "    cov[x]=coefficientOfVariation(m,len(m))\n",
    "#     cov.append(round(variation(m, axis = 0),3))\n",
    "    x+=0.01\n",
    "    \n",
    "temp=min(cov.values())\n",
    "res = [key for key in cov if cov[key] == temp] \n",
    "res"
   ]
  },
  {
   "cell_type": "code",
   "execution_count": 349,
   "metadata": {},
   "outputs": [
    {
     "data": {
      "text/plain": [
       "[0.47, 0.79, 0.94]"
      ]
     },
     "execution_count": 349,
     "metadata": {},
     "output_type": "execute_result"
    }
   ],
   "source": [
    "# For Misc\n",
    "x=0.01\n",
    "m=[]\n",
    "cov={}\n",
    "while x<1.0:\n",
    "    x=round(x,2)\n",
    "    m=[]\n",
    "    for i in range(15):\n",
    "        if I2[i]!=0:\n",
    "            m.append(C8[i]*(x/0.67)/I2[i])\n",
    "        else:\n",
    "            m.append(0)\n",
    "    cov[x]=coefficientOfVariation(m,len(m))\n",
    "#     cov.append(round(variation(m, axis = 0),3))\n",
    "    x+=0.01\n",
    "    \n",
    "temp=min(cov.values())\n",
    "res = [key for key in cov if cov[key] == temp] \n",
    "res"
   ]
  },
  {
   "cell_type": "markdown",
   "metadata": {},
   "source": [
    "### For Particulars E"
   ]
  },
  {
   "cell_type": "code",
   "execution_count": 350,
   "metadata": {},
   "outputs": [
    {
     "data": {
      "text/plain": [
       "[0.89]"
      ]
     },
     "execution_count": 350,
     "metadata": {},
     "output_type": "execute_result"
    }
   ],
   "source": [
    "# For Columns\n",
    "x=0.01\n",
    "m=[]\n",
    "cov={}\n",
    "while x<1.0:\n",
    "    x=round(x,2)\n",
    "    m=[]\n",
    "    for i in range(15):\n",
    "        if D2[i]!=0:\n",
    "            m.append(C12[i]*(x/1.8)/D2[i])\n",
    "        else:\n",
    "            m.append(0)\n",
    "    cov[x]=coefficientOfVariation(m,len(m))\n",
    "#     cov.append(round(variation(m, axis = 0),3))\n",
    "    x+=0.01\n",
    "    \n",
    "    \n",
    "temp=min(cov.values())\n",
    "res = [key for key in cov if cov[key] == temp] \n",
    "res"
   ]
  },
  {
   "cell_type": "code",
   "execution_count": 351,
   "metadata": {},
   "outputs": [
    {
     "data": {
      "text/plain": [
       "[0.31, 0.62]"
      ]
     },
     "execution_count": 351,
     "metadata": {},
     "output_type": "execute_result"
    }
   ],
   "source": [
    "# For Heat Exchangers\n",
    "x=0.01\n",
    "m=[]\n",
    "cov={}\n",
    "while x<1.0:\n",
    "    x=round(x,2)\n",
    "    m=[]\n",
    "    for i in range(15):\n",
    "        if E2[i]!=0:\n",
    "            m.append(C12[i]*(x/1.8)/E2[i])\n",
    "        else:\n",
    "            m.append(0)\n",
    "    cov[x]=coefficientOfVariation(m,len(m))\n",
    "#     cov.append(round(variation(m, axis = 0),3))\n",
    "    x+=0.01\n",
    "    \n",
    "temp=min(cov.values())\n",
    "res = [key for key in cov if cov[key] == temp] \n",
    "res"
   ]
  },
  {
   "cell_type": "code",
   "execution_count": 352,
   "metadata": {},
   "outputs": [
    {
     "data": {
      "text/plain": [
       "[0.35, 0.7]"
      ]
     },
     "execution_count": 352,
     "metadata": {},
     "output_type": "execute_result"
    }
   ],
   "source": [
    "# For Pumps\n",
    "x=0.01\n",
    "m=[]\n",
    "cov={}\n",
    "while x<1.0:\n",
    "    x=round(x,2)\n",
    "    m=[]\n",
    "    for i in range(15):\n",
    "        if F2[i]!=0:\n",
    "            m.append(C12[i]*(x/1.8)/F2[i])\n",
    "        else:\n",
    "            m.append(0)\n",
    "    cov[x]=coefficientOfVariation(m,len(m))\n",
    "#     cov.append(round(variation(m, axis = 0),3))\n",
    "    x+=0.01\n",
    "    \n",
    "temp=min(cov.values())\n",
    "res = [key for key in cov if cov[key] == temp] \n",
    "res"
   ]
  },
  {
   "cell_type": "code",
   "execution_count": 353,
   "metadata": {},
   "outputs": [
    {
     "data": {
      "text/plain": [
       "[0.39, 0.47, 0.78, 0.94]"
      ]
     },
     "execution_count": 353,
     "metadata": {},
     "output_type": "execute_result"
    }
   ],
   "source": [
    "# For Compressors\n",
    "x=0.01\n",
    "m=[]\n",
    "cov={}\n",
    "while x<1.0:\n",
    "    x=round(x,2)\n",
    "    m=[]\n",
    "    for i in range(15):\n",
    "        if G2[i]!=0:\n",
    "            m.append(C12[i]*(x/1.8)/G2[i])\n",
    "        else:\n",
    "            m.append(0)\n",
    "    cov[x]=coefficientOfVariation(m,len(m))\n",
    "#     cov.append(round(variation(m, axis = 0),3))\n",
    "    x+=0.01\n",
    "    \n",
    "temp=min(cov.values())\n",
    "res = [key for key in cov if cov[key] == temp] \n",
    "res"
   ]
  },
  {
   "cell_type": "code",
   "execution_count": 354,
   "metadata": {},
   "outputs": [
    {
     "data": {
      "text/plain": [
       "[0.11, 0.13, 0.22, 0.26, 0.29, 0.44, 0.52, 0.58, 0.67, 0.71, 0.79, 0.88]"
      ]
     },
     "execution_count": 354,
     "metadata": {},
     "output_type": "execute_result"
    }
   ],
   "source": [
    "# For Furnaces\n",
    "x=0.01\n",
    "m=[]\n",
    "cov={}\n",
    "while x<1.0:\n",
    "    x=round(x,2)\n",
    "    m=[]\n",
    "    for i in range(15):\n",
    "        if H2[i]!=0:\n",
    "            m.append(C12[i]*(x/1.8)/H2[i])\n",
    "        else:\n",
    "            m.append(0)\n",
    "    cov[x]=coefficientOfVariation(m,len(m))\n",
    "#     cov.append(round(variation(m, axis = 0),3))\n",
    "    x+=0.01\n",
    "    \n",
    "temp=min(cov.values())\n",
    "res = [key for key in cov if cov[key] == temp] \n",
    "res"
   ]
  },
  {
   "cell_type": "code",
   "execution_count": 355,
   "metadata": {},
   "outputs": [
    {
     "data": {
      "text/plain": [
       "[0.01,\n",
       " 0.02,\n",
       " 0.04,\n",
       " 0.08,\n",
       " 0.16,\n",
       " 0.19,\n",
       " 0.27,\n",
       " 0.32,\n",
       " 0.38,\n",
       " 0.54,\n",
       " 0.59,\n",
       " 0.64,\n",
       " 0.76,\n",
       " 0.77]"
      ]
     },
     "execution_count": 355,
     "metadata": {},
     "output_type": "execute_result"
    }
   ],
   "source": [
    "# For Misc\n",
    "x=0.01\n",
    "m=[]\n",
    "cov={}\n",
    "while x<1.0:\n",
    "    x=round(x,2)\n",
    "    m=[]\n",
    "    for i in range(15):\n",
    "        if I2[i]!=0:\n",
    "            m.append(C12[i]*(x/1.8)/I2[i])\n",
    "        else:\n",
    "            m.append(0)\n",
    "    cov[x]=coefficientOfVariation(m,len(m))\n",
    "#     cov.append(round(variation(m, axis = 0),3))\n",
    "    x+=0.01\n",
    "    \n",
    "temp=min(cov.values())\n",
    "res = [key for key in cov if cov[key] == temp] \n",
    "res"
   ]
  },
  {
   "cell_type": "markdown",
   "metadata": {},
   "source": [
    "### For Particulars F"
   ]
  },
  {
   "cell_type": "code",
   "execution_count": 356,
   "metadata": {},
   "outputs": [
    {
     "data": {
      "text/plain": [
       "[0.05, 0.1, 0.2, 0.4, 0.8]"
      ]
     },
     "execution_count": 356,
     "metadata": {},
     "output_type": "execute_result"
    }
   ],
   "source": [
    "# For Columns\n",
    "x=0.01\n",
    "m=[]\n",
    "cov={}\n",
    "while x<1.0:\n",
    "    x=round(x,2)\n",
    "    m=[]\n",
    "    for i in range(15):\n",
    "        if D2[i]!=0:\n",
    "            m.append(C14[i]*(x/0.18)/D2[i])\n",
    "        else:\n",
    "            m.append(0)\n",
    "    cov[x]=coefficientOfVariation(m,len(m))\n",
    "#     cov.append(round(variation(m, axis = 0),3))\n",
    "    x+=0.01\n",
    "    \n",
    "    \n",
    "temp=min(cov.values())\n",
    "res = [key for key in cov if cov[key] == temp] \n",
    "res"
   ]
  },
  {
   "cell_type": "code",
   "execution_count": 357,
   "metadata": {},
   "outputs": [
    {
     "data": {
      "text/plain": [
       "[0.03,\n",
       " 0.06,\n",
       " 0.07,\n",
       " 0.11,\n",
       " 0.12,\n",
       " 0.14,\n",
       " 0.17,\n",
       " 0.21,\n",
       " 0.22,\n",
       " 0.24,\n",
       " 0.28,\n",
       " 0.33,\n",
       " 0.34,\n",
       " 0.42,\n",
       " 0.44,\n",
       " 0.47,\n",
       " 0.48,\n",
       " 0.56,\n",
       " 0.61,\n",
       " 0.63,\n",
       " 0.66,\n",
       " 0.68,\n",
       " 0.71,\n",
       " 0.77,\n",
       " 0.79,\n",
       " 0.81,\n",
       " 0.84,\n",
       " 0.87,\n",
       " 0.88,\n",
       " 0.94,\n",
       " 0.95,\n",
       " 0.96,\n",
       " 0.99]"
      ]
     },
     "execution_count": 357,
     "metadata": {},
     "output_type": "execute_result"
    }
   ],
   "source": [
    "# For Heat Exchangers\n",
    "x=0.01\n",
    "m=[]\n",
    "cov={}\n",
    "while x<1.0:\n",
    "    x=round(x,2)\n",
    "    m=[]\n",
    "    for i in range(15):\n",
    "        if E2[i]!=0:\n",
    "            m.append(C14[i]*(x/0.18)/E2[i])\n",
    "        else:\n",
    "            m.append(0)\n",
    "    cov[x]=coefficientOfVariation(m,len(m))\n",
    "#     cov.append(round(variation(m, axis = 0),3))\n",
    "    x+=0.01\n",
    "    \n",
    "temp=min(cov.values())\n",
    "res = [key for key in cov if cov[key] == temp] \n",
    "res"
   ]
  },
  {
   "cell_type": "code",
   "execution_count": 358,
   "metadata": {},
   "outputs": [
    {
     "data": {
      "text/plain": [
       "[0.01, 0.02, 0.04, 0.08, 0.16, 0.32, 0.64]"
      ]
     },
     "execution_count": 358,
     "metadata": {},
     "output_type": "execute_result"
    }
   ],
   "source": [
    "# For Pumps\n",
    "x=0.01\n",
    "m=[]\n",
    "cov={}\n",
    "while x<1.0:\n",
    "    x=round(x,2)\n",
    "    m=[]\n",
    "    for i in range(15):\n",
    "        if F2[i]!=0:\n",
    "            m.append(C14[i]*(x/0.18)/F2[i])\n",
    "        else:\n",
    "            m.append(0)\n",
    "    cov[x]=coefficientOfVariation(m,len(m))\n",
    "#     cov.append(round(variation(m, axis = 0),3))\n",
    "    x+=0.01\n",
    "    \n",
    "temp=min(cov.values())\n",
    "res = [key for key in cov if cov[key] == temp] \n",
    "res"
   ]
  },
  {
   "cell_type": "code",
   "execution_count": 359,
   "metadata": {},
   "outputs": [
    {
     "data": {
      "text/plain": [
       "[0.71]"
      ]
     },
     "execution_count": 359,
     "metadata": {},
     "output_type": "execute_result"
    }
   ],
   "source": [
    "# For Compressors\n",
    "x=0.01\n",
    "m=[]\n",
    "cov={}\n",
    "while x<1.0:\n",
    "    x=round(x,2)\n",
    "    m=[]\n",
    "    for i in range(15):\n",
    "        if G2[i]!=0:\n",
    "            m.append(C14[i]*(x/0.18)/G2[i])\n",
    "        else:\n",
    "            m.append(0)\n",
    "    cov[x]=coefficientOfVariation(m,len(m))\n",
    "#     cov.append(round(variation(m, axis = 0),3))\n",
    "    x+=0.01\n",
    "    \n",
    "temp=min(cov.values())\n",
    "res = [key for key in cov if cov[key] == temp] \n",
    "res"
   ]
  },
  {
   "cell_type": "code",
   "execution_count": 360,
   "metadata": {},
   "outputs": [
    {
     "data": {
      "text/plain": [
       "[0.25, 0.5]"
      ]
     },
     "execution_count": 360,
     "metadata": {},
     "output_type": "execute_result"
    }
   ],
   "source": [
    "# For Furnaces\n",
    "x=0.01\n",
    "m=[]\n",
    "cov={}\n",
    "while x<1.0:\n",
    "    x=round(x,2)\n",
    "    m=[]\n",
    "    for i in range(15):\n",
    "        if H2[i]!=0:\n",
    "            m.append(C14[i]*(x/0.18)/H2[i])\n",
    "        else:\n",
    "            m.append(0)\n",
    "    cov[x]=coefficientOfVariation(m,len(m))\n",
    "#     cov.append(round(variation(m, axis = 0),3))\n",
    "    x+=0.01\n",
    "    \n",
    "temp=min(cov.values())\n",
    "res = [key for key in cov if cov[key] == temp] \n",
    "res"
   ]
  },
  {
   "cell_type": "code",
   "execution_count": 361,
   "metadata": {},
   "outputs": [
    {
     "data": {
      "text/plain": [
       "[0.21, 0.37, 0.41, 0.42, 0.59, 0.61, 0.74, 0.82, 0.84]"
      ]
     },
     "execution_count": 361,
     "metadata": {},
     "output_type": "execute_result"
    }
   ],
   "source": [
    "# For Misc\n",
    "x=0.01\n",
    "m=[]\n",
    "cov={}\n",
    "while x<1.0:\n",
    "    x=round(x,2)\n",
    "    m=[]\n",
    "    for i in range(15):\n",
    "        if I2[i]!=0:\n",
    "            m.append(C14[i]*(x/0.18)/I2[i])\n",
    "        else:\n",
    "            m.append(0)\n",
    "    cov[x]=coefficientOfVariation(m,len(m))\n",
    "#     cov.append(round(variation(m, axis = 0),3))\n",
    "    x+=0.01\n",
    "    \n",
    "temp=min(cov.values())\n",
    "res = [key for key in cov if cov[key] == temp] \n",
    "res"
   ]
  },
  {
   "cell_type": "markdown",
   "metadata": {},
   "source": [
    "### For Particulars G"
   ]
  },
  {
   "cell_type": "code",
   "execution_count": 362,
   "metadata": {},
   "outputs": [
    {
     "data": {
      "text/plain": [
       "[0.29, 0.51, 0.58, 0.83, 0.99]"
      ]
     },
     "execution_count": 362,
     "metadata": {},
     "output_type": "execute_result"
    }
   ],
   "source": [
    "# For Columns\n",
    "x=0.01\n",
    "m=[]\n",
    "cov={}\n",
    "while x<1.0:\n",
    "    x=round(x,2)\n",
    "    m=[]\n",
    "    for i in range(15):\n",
    "        if D2[i]!=0:\n",
    "            m.append(C16[i]*(x/0.75)/D2[i])\n",
    "        else:\n",
    "            m.append(0)\n",
    "    cov[x]=coefficientOfVariation(m,len(m))\n",
    "#     cov.append(round(variation(m, axis = 0),3))\n",
    "    x+=0.01\n",
    "    \n",
    "    \n",
    "temp=min(cov.values())\n",
    "res = [key for key in cov if cov[key] == temp] \n",
    "res"
   ]
  },
  {
   "cell_type": "code",
   "execution_count": 363,
   "metadata": {},
   "outputs": [
    {
     "data": {
      "text/plain": [
       "[0.89]"
      ]
     },
     "execution_count": 363,
     "metadata": {},
     "output_type": "execute_result"
    }
   ],
   "source": [
    "# For Heat Exchangers\n",
    "x=0.01\n",
    "m=[]\n",
    "cov={}\n",
    "while x<1.0:\n",
    "    x=round(x,2)\n",
    "    m=[]\n",
    "    for i in range(15):\n",
    "        if E2[i]!=0:\n",
    "            m.append(C16[i]*(x/0.75)/E2[i])\n",
    "        else:\n",
    "            m.append(0)\n",
    "    cov[x]=coefficientOfVariation(m,len(m))\n",
    "#     cov.append(round(variation(m, axis = 0),3))\n",
    "    x+=0.01\n",
    "    \n",
    "temp=min(cov.values())\n",
    "res = [key for key in cov if cov[key] == temp] \n",
    "res"
   ]
  },
  {
   "cell_type": "code",
   "execution_count": 364,
   "metadata": {},
   "outputs": [
    {
     "data": {
      "text/plain": [
       "[0.35, 0.55, 0.7]"
      ]
     },
     "execution_count": 364,
     "metadata": {},
     "output_type": "execute_result"
    }
   ],
   "source": [
    "# For Pumps\n",
    "x=0.01\n",
    "m=[]\n",
    "cov={}\n",
    "while x<1.0:\n",
    "    x=round(x,2)\n",
    "    m=[]\n",
    "    for i in range(15):\n",
    "        if F2[i]!=0:\n",
    "            m.append(C16[i]*(x/0.75)/F2[i])\n",
    "        else:\n",
    "            m.append(0)\n",
    "    cov[x]=coefficientOfVariation(m,len(m))\n",
    "#     cov.append(round(variation(m, axis = 0),3))\n",
    "    x+=0.01\n",
    "    \n",
    "temp=min(cov.values())\n",
    "res = [key for key in cov if cov[key] == temp] \n",
    "res"
   ]
  },
  {
   "cell_type": "code",
   "execution_count": 365,
   "metadata": {},
   "outputs": [
    {
     "data": {
      "text/plain": [
       "[0.03,\n",
       " 0.06,\n",
       " 0.12,\n",
       " 0.17,\n",
       " 0.24,\n",
       " 0.34,\n",
       " 0.41,\n",
       " 0.45,\n",
       " 0.48,\n",
       " 0.53,\n",
       " 0.55,\n",
       " 0.59,\n",
       " 0.61,\n",
       " 0.67,\n",
       " 0.68,\n",
       " 0.73,\n",
       " 0.77,\n",
       " 0.82,\n",
       " 0.85,\n",
       " 0.9,\n",
       " 0.96]"
      ]
     },
     "execution_count": 365,
     "metadata": {},
     "output_type": "execute_result"
    }
   ],
   "source": [
    "# For Compressors\n",
    "x=0.01\n",
    "m=[]\n",
    "cov={}\n",
    "while x<1.0:\n",
    "    x=round(x,2)\n",
    "    m=[]\n",
    "    for i in range(15):\n",
    "        if G2[i]!=0:\n",
    "            m.append(C16[i]*(x/0.75)/G2[i])\n",
    "        else:\n",
    "            m.append(0)\n",
    "    cov[x]=coefficientOfVariation(m,len(m))\n",
    "#     cov.append(round(variation(m, axis = 0),3))\n",
    "    x+=0.01\n",
    "    \n",
    "temp=min(cov.values())\n",
    "res = [key for key in cov if cov[key] == temp] \n",
    "res"
   ]
  },
  {
   "cell_type": "code",
   "execution_count": 367,
   "metadata": {},
   "outputs": [
    {
     "data": {
      "text/plain": [
       "[0.75, 0.93]"
      ]
     },
     "execution_count": 367,
     "metadata": {},
     "output_type": "execute_result"
    }
   ],
   "source": [
    "# For Furnaces\n",
    "x=0.01\n",
    "m=[]\n",
    "cov={}\n",
    "while x<1.0:\n",
    "    x=round(x,2)\n",
    "    m=[]\n",
    "    for i in range(15):\n",
    "        if H2[i]!=0:\n",
    "            m.append(C16[i]*(x/0.75)/H2[i])\n",
    "        else:\n",
    "            m.append(0)\n",
    "    cov[x]=coefficientOfVariation(m,len(m))\n",
    "#     cov.append(round(variation(m, axis = 0),3))\n",
    "    x+=0.01\n",
    "    \n",
    "temp=min(cov.values())\n",
    "res = [key for key in cov if cov[key] == temp] \n",
    "res"
   ]
  },
  {
   "cell_type": "code",
   "execution_count": 366,
   "metadata": {},
   "outputs": [
    {
     "data": {
      "text/plain": [
       "[0.51]"
      ]
     },
     "execution_count": 366,
     "metadata": {},
     "output_type": "execute_result"
    }
   ],
   "source": [
    "# For Misc\n",
    "x=0.01\n",
    "m=[]\n",
    "cov={}\n",
    "while x<1.0:\n",
    "    x=round(x,2)\n",
    "    m=[]\n",
    "    for i in range(15):\n",
    "        if I2[i]!=0:\n",
    "            m.append(C16[i]*(x/0.75)/I2[i])\n",
    "        else:\n",
    "            m.append(0)\n",
    "    cov[x]=coefficientOfVariation(m,len(m))\n",
    "#     cov.append(round(variation(m, axis = 0),3))\n",
    "    x+=0.01\n",
    "    \n",
    "temp=min(cov.values())\n",
    "res = [key for key in cov if cov[key] == temp] \n",
    "res"
   ]
  },
  {
   "cell_type": "markdown",
   "metadata": {},
   "source": [
    "### Particulars H"
   ]
  },
  {
   "cell_type": "code",
   "execution_count": 368,
   "metadata": {},
   "outputs": [
    {
     "data": {
      "text/plain": [
       "[0.05,\n",
       " 0.09,\n",
       " 0.1,\n",
       " 0.15,\n",
       " 0.18,\n",
       " 0.19,\n",
       " 0.2,\n",
       " 0.21,\n",
       " 0.25,\n",
       " 0.3,\n",
       " 0.31,\n",
       " 0.33,\n",
       " 0.35,\n",
       " 0.36,\n",
       " 0.38,\n",
       " 0.39,\n",
       " 0.4,\n",
       " 0.42,\n",
       " 0.43,\n",
       " 0.5,\n",
       " 0.55,\n",
       " 0.59,\n",
       " 0.6,\n",
       " 0.62,\n",
       " 0.63,\n",
       " 0.65,\n",
       " 0.66,\n",
       " 0.69,\n",
       " 0.7,\n",
       " 0.72,\n",
       " 0.73,\n",
       " 0.76,\n",
       " 0.78,\n",
       " 0.8,\n",
       " 0.83,\n",
       " 0.84,\n",
       " 0.86,\n",
       " 0.95]"
      ]
     },
     "execution_count": 368,
     "metadata": {},
     "output_type": "execute_result"
    }
   ],
   "source": [
    "# For Columns\n",
    "x=0.01\n",
    "m=[]\n",
    "cov={}\n",
    "while x<1.0:\n",
    "    x=round(x,2)\n",
    "    m=[]\n",
    "    for i in range(15):\n",
    "        if D2[i]!=0:\n",
    "            m.append(C18[i]*(x/0.4)/D2[i])\n",
    "        else:\n",
    "            m.append(0)\n",
    "    cov[x]=coefficientOfVariation(m,len(m))\n",
    "#     cov.append(round(variation(m, axis = 0),3))\n",
    "    x+=0.01\n",
    "    \n",
    "    \n",
    "temp=min(cov.values())\n",
    "res = [key for key in cov if cov[key] == temp] \n",
    "res"
   ]
  },
  {
   "cell_type": "code",
   "execution_count": 369,
   "metadata": {},
   "outputs": [
    {
     "data": {
      "text/plain": [
       "[0.83]"
      ]
     },
     "execution_count": 369,
     "metadata": {},
     "output_type": "execute_result"
    }
   ],
   "source": [
    "# For Heat Exchangers\n",
    "x=0.01\n",
    "m=[]\n",
    "cov={}\n",
    "while x<1.0:\n",
    "    x=round(x,2)\n",
    "    m=[]\n",
    "    for i in range(15):\n",
    "        if E2[i]!=0:\n",
    "            m.append(C18[i]*(x/0.4)/E2[i])\n",
    "        else:\n",
    "            m.append(0)\n",
    "    cov[x]=coefficientOfVariation(m,len(m))\n",
    "#     cov.append(round(variation(m, axis = 0),3))\n",
    "    x+=0.01\n",
    "    \n",
    "temp=min(cov.values())\n",
    "res = [key for key in cov if cov[key] == temp] \n",
    "res"
   ]
  },
  {
   "cell_type": "code",
   "execution_count": 370,
   "metadata": {},
   "outputs": [
    {
     "data": {
      "text/plain": [
       "[0.29, 0.58]"
      ]
     },
     "execution_count": 370,
     "metadata": {},
     "output_type": "execute_result"
    }
   ],
   "source": [
    "# For Pumps\n",
    "x=0.01\n",
    "m=[]\n",
    "cov={}\n",
    "while x<1.0:\n",
    "    x=round(x,2)\n",
    "    m=[]\n",
    "    for i in range(15):\n",
    "        if F2[i]!=0:\n",
    "            m.append(C18[i]*(x/0.4)/F2[i])\n",
    "        else:\n",
    "            m.append(0)\n",
    "    cov[x]=coefficientOfVariation(m,len(m))\n",
    "#     cov.append(round(variation(m, axis = 0),3))\n",
    "    x+=0.01\n",
    "    \n",
    "temp=min(cov.values())\n",
    "res = [key for key in cov if cov[key] == temp] \n",
    "res"
   ]
  },
  {
   "cell_type": "code",
   "execution_count": 371,
   "metadata": {},
   "outputs": [
    {
     "data": {
      "text/plain": [
       "[0.53, 0.63]"
      ]
     },
     "execution_count": 371,
     "metadata": {},
     "output_type": "execute_result"
    }
   ],
   "source": [
    "# For Compressors\n",
    "x=0.01\n",
    "m=[]\n",
    "cov={}\n",
    "while x<1.0:\n",
    "    x=round(x,2)\n",
    "    m=[]\n",
    "    for i in range(15):\n",
    "        if G2[i]!=0:\n",
    "            m.append(C18[i]*(x/0.4)/G2[i])\n",
    "        else:\n",
    "            m.append(0)\n",
    "    cov[x]=coefficientOfVariation(m,len(m))\n",
    "#     cov.append(round(variation(m, axis = 0),3))\n",
    "    x+=0.01\n",
    "    \n",
    "temp=min(cov.values())\n",
    "res = [key for key in cov if cov[key] == temp] \n",
    "res"
   ]
  },
  {
   "cell_type": "code",
   "execution_count": 372,
   "metadata": {},
   "outputs": [
    {
     "data": {
      "text/plain": [
       "[0.11, 0.22, 0.27, 0.44, 0.54, 0.61, 0.88]"
      ]
     },
     "execution_count": 372,
     "metadata": {},
     "output_type": "execute_result"
    }
   ],
   "source": [
    "# For Furnaces\n",
    "x=0.01\n",
    "m=[]\n",
    "cov={}\n",
    "while x<1.0:\n",
    "    x=round(x,2)\n",
    "    m=[]\n",
    "    for i in range(15):\n",
    "        if H2[i]!=0:\n",
    "            m.append(C18[i]*(x/0.4)/H2[i])\n",
    "        else:\n",
    "            m.append(0)\n",
    "    cov[x]=coefficientOfVariation(m,len(m))\n",
    "#     cov.append(round(variation(m, axis = 0),3))\n",
    "    x+=0.01\n",
    "    \n",
    "temp=min(cov.values())\n",
    "res = [key for key in cov if cov[key] == temp] \n",
    "res"
   ]
  },
  {
   "cell_type": "code",
   "execution_count": 373,
   "metadata": {},
   "outputs": [
    {
     "data": {
      "text/plain": [
       "[0.65]"
      ]
     },
     "execution_count": 373,
     "metadata": {},
     "output_type": "execute_result"
    }
   ],
   "source": [
    "# For Misc\n",
    "x=0.01\n",
    "m=[]\n",
    "cov={}\n",
    "while x<1.0:\n",
    "    x=round(x,2)\n",
    "    m=[]\n",
    "    for i in range(15):\n",
    "        if I2[i]!=0:\n",
    "            m.append(C18[i]*(x/0.4)/I2[i])\n",
    "        else:\n",
    "            m.append(0)\n",
    "    cov[x]=coefficientOfVariation(m,len(m))\n",
    "#     cov.append(round(variation(m, axis = 0),3))\n",
    "    x+=0.01\n",
    "    \n",
    "temp=min(cov.values())\n",
    "res = [key for key in cov if cov[key] == temp] \n",
    "res"
   ]
  },
  {
   "cell_type": "markdown",
   "metadata": {},
   "source": [
    "### Particulars I"
   ]
  },
  {
   "cell_type": "code",
   "execution_count": 374,
   "metadata": {},
   "outputs": [
    {
     "data": {
      "text/plain": [
       "[0.31, 0.62]"
      ]
     },
     "execution_count": 374,
     "metadata": {},
     "output_type": "execute_result"
    }
   ],
   "source": [
    "# For Columns\n",
    "x=0.01\n",
    "m=[]\n",
    "cov={}\n",
    "while x<1.0:\n",
    "    x=round(x,2)\n",
    "    m=[]\n",
    "    for i in range(15):\n",
    "        if D2[i]!=0:\n",
    "            m.append(C20[i]*(x/0.53)/D2[i])\n",
    "        else:\n",
    "            m.append(0)\n",
    "    cov[x]=coefficientOfVariation(m,len(m))\n",
    "#     cov.append(round(variation(m, axis = 0),3))\n",
    "    x+=0.01\n",
    "    \n",
    "    \n",
    "temp=min(cov.values())\n",
    "res = [key for key in cov if cov[key] == temp] \n",
    "res"
   ]
  },
  {
   "cell_type": "code",
   "execution_count": 375,
   "metadata": {},
   "outputs": [
    {
     "data": {
      "text/plain": [
       "[0.87]"
      ]
     },
     "execution_count": 375,
     "metadata": {},
     "output_type": "execute_result"
    }
   ],
   "source": [
    "# For Heat Exchangers\n",
    "x=0.01\n",
    "m=[]\n",
    "cov={}\n",
    "while x<1.0:\n",
    "    x=round(x,2)\n",
    "    m=[]\n",
    "    for i in range(15):\n",
    "        if E2[i]!=0:\n",
    "            m.append(C20[i]*(x/0.53)/E2[i])\n",
    "        else:\n",
    "            m.append(0)\n",
    "    cov[x]=coefficientOfVariation(m,len(m))\n",
    "#     cov.append(round(variation(m, axis = 0),3))\n",
    "    x+=0.01\n",
    "    \n",
    "temp=min(cov.values())\n",
    "res = [key for key in cov if cov[key] == temp] \n",
    "res"
   ]
  },
  {
   "cell_type": "code",
   "execution_count": 376,
   "metadata": {},
   "outputs": [
    {
     "data": {
      "text/plain": [
       "[0.05, 0.1, 0.17, 0.2, 0.23, 0.34, 0.4, 0.46, 0.63, 0.68, 0.8, 0.85, 0.92]"
      ]
     },
     "execution_count": 376,
     "metadata": {},
     "output_type": "execute_result"
    }
   ],
   "source": [
    "# For Pumps\n",
    "x=0.01\n",
    "m=[]\n",
    "cov={}\n",
    "while x<1.0:\n",
    "    x=round(x,2)\n",
    "    m=[]\n",
    "    for i in range(15):\n",
    "        if F2[i]!=0:\n",
    "            m.append(C20[i]*(x/0.53)/F2[i])\n",
    "        else:\n",
    "            m.append(0)\n",
    "    cov[x]=coefficientOfVariation(m,len(m))\n",
    "#     cov.append(round(variation(m, axis = 0),3))\n",
    "    x+=0.01\n",
    "    \n",
    "temp=min(cov.values())\n",
    "res = [key for key in cov if cov[key] == temp] \n",
    "res"
   ]
  },
  {
   "cell_type": "code",
   "execution_count": 377,
   "metadata": {},
   "outputs": [
    {
     "data": {
      "text/plain": [
       "[0.41, 0.82, 0.93]"
      ]
     },
     "execution_count": 377,
     "metadata": {},
     "output_type": "execute_result"
    }
   ],
   "source": [
    "# For Compressors\n",
    "x=0.01\n",
    "m=[]\n",
    "cov={}\n",
    "while x<1.0:\n",
    "    x=round(x,2)\n",
    "    m=[]\n",
    "    for i in range(15):\n",
    "        if G2[i]!=0:\n",
    "            m.append(C20[i]*(x/0.53)/G2[i])\n",
    "        else:\n",
    "            m.append(0)\n",
    "    cov[x]=coefficientOfVariation(m,len(m))\n",
    "#     cov.append(round(variation(m, axis = 0),3))\n",
    "    x+=0.01\n",
    "    \n",
    "temp=min(cov.values())\n",
    "res = [key for key in cov if cov[key] == temp] \n",
    "res"
   ]
  },
  {
   "cell_type": "code",
   "execution_count": 378,
   "metadata": {},
   "outputs": [
    {
     "data": {
      "text/plain": [
       "[0.59, 0.91, 0.99]"
      ]
     },
     "execution_count": 378,
     "metadata": {},
     "output_type": "execute_result"
    }
   ],
   "source": [
    "# For Furnaces\n",
    "x=0.01\n",
    "m=[]\n",
    "cov={}\n",
    "while x<1.0:\n",
    "    x=round(x,2)\n",
    "    m=[]\n",
    "    for i in range(15):\n",
    "        if H2[i]!=0:\n",
    "            m.append(C20[i]*(x/0.53)/H2[i])\n",
    "        else:\n",
    "            m.append(0)\n",
    "    cov[x]=coefficientOfVariation(m,len(m))\n",
    "#     cov.append(round(variation(m, axis = 0),3))\n",
    "    x+=0.01\n",
    "    \n",
    "temp=min(cov.values())\n",
    "res = [key for key in cov if cov[key] == temp] \n",
    "res"
   ]
  },
  {
   "cell_type": "code",
   "execution_count": 379,
   "metadata": {},
   "outputs": [
    {
     "data": {
      "text/plain": [
       "[0.59]"
      ]
     },
     "execution_count": 379,
     "metadata": {},
     "output_type": "execute_result"
    }
   ],
   "source": [
    "# For Misc\n",
    "x=0.01\n",
    "m=[]\n",
    "cov={}\n",
    "while x<1.0:\n",
    "    x=round(x,2)\n",
    "    m=[]\n",
    "    for i in range(15):\n",
    "        if I2[i]!=0:\n",
    "            m.append(C20[i]*(x/0.53)/I2[i])\n",
    "        else:\n",
    "            m.append(0)\n",
    "    cov[x]=coefficientOfVariation(m,len(m))\n",
    "#     cov.append(round(variation(m, axis = 0),3))\n",
    "    x+=0.01\n",
    "    \n",
    "temp=min(cov.values())\n",
    "res = [key for key in cov if cov[key] == temp] \n",
    "res"
   ]
  },
  {
   "cell_type": "markdown",
   "metadata": {},
   "source": [
    "### Particulars J"
   ]
  },
  {
   "cell_type": "code",
   "execution_count": 380,
   "metadata": {},
   "outputs": [
    {
     "data": {
      "text/plain": [
       "[0.51]"
      ]
     },
     "execution_count": 380,
     "metadata": {},
     "output_type": "execute_result"
    }
   ],
   "source": [
    "# For Columns\n",
    "x=0.01\n",
    "m=[]\n",
    "cov={}\n",
    "while x<1.0:\n",
    "    x=round(x,2)\n",
    "    m=[]\n",
    "    for i in range(15):\n",
    "        if D2[i]!=0:\n",
    "            m.append(C22[i]*(x/1.99)/D2[i])\n",
    "        else:\n",
    "            m.append(0)\n",
    "    cov[x]=coefficientOfVariation(m,len(m))\n",
    "#     cov.append(round(variation(m, axis = 0),3))\n",
    "    x+=0.01\n",
    "    \n",
    "    \n",
    "temp=min(cov.values())\n",
    "res = [key for key in cov if cov[key] == temp] \n",
    "res"
   ]
  },
  {
   "cell_type": "code",
   "execution_count": 381,
   "metadata": {},
   "outputs": [
    {
     "data": {
      "text/plain": [
       "[0.09, 0.18, 0.36, 0.72]"
      ]
     },
     "execution_count": 381,
     "metadata": {},
     "output_type": "execute_result"
    }
   ],
   "source": [
    "# For Heat Exchangers\n",
    "x=0.01\n",
    "m=[]\n",
    "cov={}\n",
    "while x<1.0:\n",
    "    x=round(x,2)\n",
    "    m=[]\n",
    "    for i in range(15):\n",
    "        if E2[i]!=0:\n",
    "            m.append(C22[i]*(x/1.99)/E2[i])\n",
    "        else:\n",
    "            m.append(0)\n",
    "    cov[x]=coefficientOfVariation(m,len(m))\n",
    "#     cov.append(round(variation(m, axis = 0),3))\n",
    "    x+=0.01\n",
    "    \n",
    "temp=min(cov.values())\n",
    "res = [key for key in cov if cov[key] == temp] \n",
    "res"
   ]
  },
  {
   "cell_type": "code",
   "execution_count": 382,
   "metadata": {},
   "outputs": [
    {
     "data": {
      "text/plain": [
       "[0.03, 0.06, 0.12, 0.24, 0.48, 0.96]"
      ]
     },
     "execution_count": 382,
     "metadata": {},
     "output_type": "execute_result"
    }
   ],
   "source": [
    "# For Pumps\n",
    "x=0.01\n",
    "m=[]\n",
    "cov={}\n",
    "while x<1.0:\n",
    "    x=round(x,2)\n",
    "    m=[]\n",
    "    for i in range(15):\n",
    "        if F2[i]!=0:\n",
    "            m.append(C22[i]*(x/1.99)/F2[i])\n",
    "        else:\n",
    "            m.append(0)\n",
    "    cov[x]=coefficientOfVariation(m,len(m))\n",
    "#     cov.append(round(variation(m, axis = 0),3))\n",
    "    x+=0.01\n",
    "    \n",
    "temp=min(cov.values())\n",
    "res = [key for key in cov if cov[key] == temp] \n",
    "res"
   ]
  },
  {
   "cell_type": "code",
   "execution_count": 383,
   "metadata": {},
   "outputs": [
    {
     "data": {
      "text/plain": [
       "[0.11, 0.13, 0.22, 0.26, 0.33, 0.44, 0.52, 0.53, 0.57, 0.66, 0.71, 0.83, 0.88]"
      ]
     },
     "execution_count": 383,
     "metadata": {},
     "output_type": "execute_result"
    }
   ],
   "source": [
    "# For Compressors\n",
    "x=0.01\n",
    "m=[]\n",
    "cov={}\n",
    "while x<1.0:\n",
    "    x=round(x,2)\n",
    "    m=[]\n",
    "    for i in range(15):\n",
    "        if G2[i]!=0:\n",
    "            m.append(C22[i]*(x/1.99)/G2[i])\n",
    "        else:\n",
    "            m.append(0)\n",
    "    cov[x]=coefficientOfVariation(m,len(m))\n",
    "#     cov.append(round(variation(m, axis = 0),3))\n",
    "    x+=0.01\n",
    "    \n",
    "temp=min(cov.values())\n",
    "res = [key for key in cov if cov[key] == temp] \n",
    "res"
   ]
  },
  {
   "cell_type": "code",
   "execution_count": 384,
   "metadata": {},
   "outputs": [
    {
     "data": {
      "text/plain": [
       "[0.71]"
      ]
     },
     "execution_count": 384,
     "metadata": {},
     "output_type": "execute_result"
    }
   ],
   "source": [
    "# For Furnaces\n",
    "x=0.01\n",
    "m=[]\n",
    "cov={}\n",
    "while x<1.0:\n",
    "    x=round(x,2)\n",
    "    m=[]\n",
    "    for i in range(15):\n",
    "        if H2[i]!=0:\n",
    "            m.append(C22[i]*(x/1.99)/H2[i])\n",
    "        else:\n",
    "            m.append(0)\n",
    "    cov[x]=coefficientOfVariation(m,len(m))\n",
    "#     cov.append(round(variation(m, axis = 0),3))\n",
    "    x+=0.01\n",
    "    \n",
    "temp=min(cov.values())\n",
    "res = [key for key in cov if cov[key] == temp] \n",
    "res"
   ]
  },
  {
   "cell_type": "code",
   "execution_count": 385,
   "metadata": {},
   "outputs": [
    {
     "data": {
      "text/plain": [
       "[0.07, 0.14, 0.28, 0.56]"
      ]
     },
     "execution_count": 385,
     "metadata": {},
     "output_type": "execute_result"
    }
   ],
   "source": [
    "# For Misc\n",
    "x=0.01\n",
    "m=[]\n",
    "cov={}\n",
    "while x<1.0:\n",
    "    x=round(x,2)\n",
    "    m=[]\n",
    "    for i in range(15):\n",
    "        if I2[i]!=0:\n",
    "            m.append(C22[i]*(x/1.99)/I2[i])\n",
    "        else:\n",
    "            m.append(0)\n",
    "    cov[x]=coefficientOfVariation(m,len(m))\n",
    "#     cov.append(round(variation(m, axis = 0),3))\n",
    "    x+=0.01\n",
    "    \n",
    "temp=min(cov.values())\n",
    "res = [key for key in cov if cov[key] == temp] \n",
    "res"
   ]
  },
  {
   "cell_type": "code",
   "execution_count": null,
   "metadata": {},
   "outputs": [],
   "source": []
  }
 ],
 "metadata": {
  "kernelspec": {
   "display_name": "Python 3",
   "language": "python",
   "name": "python3"
  },
  "language_info": {
   "codemirror_mode": {
    "name": "ipython",
    "version": 3
   },
   "file_extension": ".py",
   "mimetype": "text/x-python",
   "name": "python",
   "nbconvert_exporter": "python",
   "pygments_lexer": "ipython3",
   "version": "3.7.3"
  }
 },
 "nbformat": 4,
 "nbformat_minor": 2
}
