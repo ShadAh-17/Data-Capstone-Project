{
 "cells": [
  {
   "cell_type": "code",
   "execution_count": 1,
   "metadata": {},
   "outputs": [],
   "source": [
    "import numpy as np\n",
    "from scipy.optimize import minimize"
   ]
  },
  {
   "cell_type": "code",
   "execution_count": 10,
   "metadata": {},
   "outputs": [],
   "source": [
    "def objective(x):\n",
    "    x1 = x[0]\n",
    "    x2 = x[1]\n",
    "    x3 = x[2]\n",
    "    x4 = x[3]\n",
    "    return x1*x4*(x1+x2+x3)+x3\n",
    "\n",
    "def constraint1(x):\n",
    "    return x[0]*x[1]*x[2]*x[3]-25.0\n",
    "\n",
    "def constraint2(x):\n",
    "    sum_sq = 40\n",
    "    for i in range(4):\n",
    "        sum_sq = sum_sq - x[i]**2\n",
    "    return sum_sq"
   ]
  },
  {
   "cell_type": "code",
   "execution_count": 11,
   "metadata": {},
   "outputs": [
    {
     "name": "stdout",
     "output_type": "stream",
     "text": [
      "16\n"
     ]
    }
   ],
   "source": [
    "x0 = [1,5,5,1]\n",
    "print(objective(x0))"
   ]
  },
  {
   "cell_type": "code",
   "execution_count": 14,
   "metadata": {},
   "outputs": [],
   "source": [
    "b = (1.0,5.0)\n",
    "bnds = (b,b,b,b)\n",
    "con1 = {'type':'ineq','fun':constraint1}\n",
    "con2 = {'type': 'eq', 'fun': constraint2}\n",
    "cons = [con1,con2]"
   ]
  },
  {
   "cell_type": "code",
   "execution_count": 17,
   "metadata": {},
   "outputs": [],
   "source": [
    "sol = minimize(objective,x0,method='SLSQP',\n",
    "               bounds=bnds,constraints=cons)"
   ]
  },
  {
   "cell_type": "code",
   "execution_count": 18,
   "metadata": {},
   "outputs": [
    {
     "name": "stdout",
     "output_type": "stream",
     "text": [
      "     fun: 17.01401724563517\n",
      "     jac: array([14.57227015,  1.37940764,  2.37940764,  9.56415057])\n",
      " message: 'Optimization terminated successfully.'\n",
      "    nfev: 30\n",
      "     nit: 5\n",
      "    njev: 5\n",
      "  status: 0\n",
      " success: True\n",
      "       x: array([1.        , 4.7429961 , 3.82115462, 1.37940765])\n"
     ]
    }
   ],
   "source": [
    "print(sol)"
   ]
  },
  {
   "cell_type": "code",
   "execution_count": 20,
   "metadata": {},
   "outputs": [
    {
     "name": "stdout",
     "output_type": "stream",
     "text": [
      "17.01401724563517\n"
     ]
    }
   ],
   "source": [
    "print(sol.fun) # Objective function"
   ]
  },
  {
   "cell_type": "code",
   "execution_count": 21,
   "metadata": {},
   "outputs": [
    {
     "name": "stdout",
     "output_type": "stream",
     "text": [
      "[1.         4.7429961  3.82115462 1.37940765]\n"
     ]
    }
   ],
   "source": [
    "print(sol.x)"
   ]
  },
  {
   "cell_type": "code",
   "execution_count": null,
   "metadata": {},
   "outputs": [],
   "source": []
  },
  {
   "cell_type": "code",
   "execution_count": 105,
   "metadata": {},
   "outputs": [],
   "source": [
    "# Our problem\n",
    "def objective_(x):\n",
    "    x1 = x[0]\n",
    "    x2 = x[1]\n",
    "    x3 = x[2]\n",
    "    x4 = x[3]\n",
    "    x5 = x[4]\n",
    "    x6 = x[5]\n",
    "    return x1\n",
    "\n",
    "def constraint1(x):\n",
    "    return x[0]+x[1]+x[2]+x[3]+x[4]+x[5]-y\n",
    "\n",
    "def constraint2(x):\n",
    "    return ((C4*(x[0]/y)/D2[0])*100)-3.2\n",
    "\n",
    "def constraint3(x):\n",
    "    return ((C4*(x[1]/y)/D2[1])*100)-4.5\n",
    "\n",
    "def constraint4(x):\n",
    "    return ((C4*(x[2]/y)/D2[2])*100)-205\n",
    "    \n",
    "def constraint5(x):\n",
    "    return ((C4*(x[3]/y)/D2[3])*100)-120\n",
    "    \n",
    "def constraint6(x):\n",
    "    return ((C4*(x[4]/y)/D2[4])*100)-7\n",
    "\n",
    "def constraint7(x):\n",
    "    return ((C4*(x[5]/y)/D2[5])*100)-9.1"
   ]
  },
  {
   "cell_type": "code",
   "execution_count": 94,
   "metadata": {},
   "outputs": [],
   "source": [
    "# objective_((1,2,3,4,5,6))  # Problem"
   ]
  },
  {
   "cell_type": "code",
   "execution_count": 106,
   "metadata": {},
   "outputs": [],
   "source": [
    "b = (0.01,0.99)\n",
    "bnds = (b,b,b,b,b,b)\n",
    "con1 = {'type':'eq','fun':constraint1}\n",
    "con2 = {'type': 'eq', 'fun': constraint2}\n",
    "con3 = {'type': 'eq', 'fun': constraint3}\n",
    "con4 = {'type': 'eq', 'fun': constraint4}\n",
    "con5 = {'type': 'eq', 'fun': constraint5}\n",
    "con6 = {'type': 'eq', 'fun': constraint6}\n",
    "con7 = {'type': 'eq', 'fun': constraint7}\n",
    "cons = [con1,con2,con3,con4,con5,con6,con7]"
   ]
  },
  {
   "cell_type": "code",
   "execution_count": 107,
   "metadata": {},
   "outputs": [],
   "source": [
    "y = 1.13\n",
    "C4 = 27.01\n",
    "D2 = [32.2, 49.9, 11.9, 41.5, 42.7, 70.8]\n",
    "E = [3.2, 4.5, 205, 120, 7, 9.7]"
   ]
  },
  {
   "cell_type": "code",
   "execution_count": 108,
   "metadata": {},
   "outputs": [
    {
     "data": {
      "text/plain": [
       "0.05"
      ]
     },
     "execution_count": 108,
     "metadata": {},
     "output_type": "execute_result"
    }
   ],
   "source": [
    "x =(0.05, 0.03, 0.75, 0.15, 0.05, 0.1)\n",
    "objective_(x)"
   ]
  },
  {
   "cell_type": "code",
   "execution_count": 109,
   "metadata": {},
   "outputs": [],
   "source": [
    "sol = minimize(objective_,x,method='Nelder-Mead',\n",
    "               bounds=bnds,constraints=cons)"
   ]
  },
  {
   "cell_type": "code",
   "execution_count": 111,
   "metadata": {},
   "outputs": [
    {
     "data": {
      "text/plain": [
       "array([-1.46506443e+54,  3.65138468e+52,  3.22767447e+54,  8.98382294e+53,\n",
       "        6.32724489e+51,  4.95792143e+53])"
      ]
     },
     "execution_count": 111,
     "metadata": {},
     "output_type": "execute_result"
    }
   ],
   "source": [
    "sol.x"
   ]
  },
  {
   "cell_type": "code",
   "execution_count": null,
   "metadata": {},
   "outputs": [],
   "source": [
    "minimize"
   ]
  },
  {
   "cell_type": "code",
   "execution_count": null,
   "metadata": {},
   "outputs": [],
   "source": []
  },
  {
   "cell_type": "code",
   "execution_count": null,
   "metadata": {},
   "outputs": [],
   "source": []
  },
  {
   "cell_type": "code",
   "execution_count": null,
   "metadata": {},
   "outputs": [],
   "source": []
  },
  {
   "cell_type": "markdown",
   "metadata": {},
   "source": [
    "## MEthod -2"
   ]
  },
  {
   "cell_type": "code",
   "execution_count": 1,
   "metadata": {},
   "outputs": [],
   "source": [
    "# Program to find coefficient \n",
    "# of variation of given array. \n",
    "import math \n",
    "\n",
    "# Function to find mean of \n",
    "# given array. \n",
    "def mean(arr, n): \n",
    "    sum = 0\n",
    "    for i in range(0, n): \n",
    "        sum = sum + arr[i] \n",
    "    return (sum / n) \n",
    "\n",
    "# Function to find standard \n",
    "# deviation of given array. \n",
    "def standardDeviation(arr, n): \n",
    "    sum = 0\n",
    "    for i in range(0, n): \n",
    "        sum = (sum + (arr[i] - mean(arr, n)) * (arr[i] - mean(arr, n))) \n",
    "    \n",
    "    return math.sqrt(sum / (n - 1)) \n",
    "\n",
    "\n",
    "# Function to find coefficient \n",
    "# of variation. \n",
    "def coefficientOfVariation(arr, n): \n",
    "    return (standardDeviation(arr, n) / mean(arr, n)) \n",
    "\n"
   ]
  },
  {
   "cell_type": "code",
   "execution_count": 3,
   "metadata": {},
   "outputs": [],
   "source": [
    "from scipy.stats import variation\n",
    "import numpy as np"
   ]
  },
  {
   "cell_type": "code",
   "execution_count": 53,
   "metadata": {},
   "outputs": [
    {
     "name": "stdout",
     "output_type": "stream",
     "text": [
      "cov. for columns 0.6160067253807264\n",
      "15\n",
      "Cov using stats library 0.595119035711904\n"
     ]
    }
   ],
   "source": [
    "# For Particulars A- for columns\n",
    "arr=[4,1,0,4,5,1,4,3,6,7,2,1,4,3,3]\n",
    "print('cov. for columns',coefficientOfVariation(arr,len(arr)))\n",
    "print(len(arr))\n",
    "print('Cov using stats library',variation(arr,axis=0))"
   ]
  },
  {
   "cell_type": "code",
   "execution_count": 54,
   "metadata": {},
   "outputs": [
    {
     "name": "stdout",
     "output_type": "stream",
     "text": [
      "15\n",
      "cov. for columns 1.0138377726069427\n",
      "Cov using stats library 0.9794603414909832\n"
     ]
    }
   ],
   "source": [
    "# For heat exchanger\n",
    "arr =[1,1,0,5,2,3,2,1,11,16,2,1,8,7,8]\n",
    "print(len(arr))\n",
    "print('cov. for columns',coefficientOfVariation(arr,len(arr)))\n",
    "print('Cov using stats library',variation(arr,axis=0))"
   ]
  },
  {
   "cell_type": "code",
   "execution_count": 58,
   "metadata": {},
   "outputs": [
    {
     "name": "stdout",
     "output_type": "stream",
     "text": [
      "15\n",
      "cov. for columns 0.5532823760312596\n",
      "Cov using stats library 0.5345215572063892\n"
     ]
    }
   ],
   "source": [
    "# For Pumps\n",
    "arr = [151,95,48,103,108,202,163,327,92,193,86,61,153,237,61]\n",
    "print(len(arr))\n",
    "print('cov. for columns',coefficientOfVariation(arr,len(arr)))\n",
    "print('Cov using stats library',variation(arr,axis=0))"
   ]
  },
  {
   "cell_type": "code",
   "execution_count": 59,
   "metadata": {},
   "outputs": [
    {
     "name": "stdout",
     "output_type": "stream",
     "text": [
      "15\n",
      "cov. for columns 3.1775532119692644\n",
      "Cov using stats library 3.0698080483807306\n"
     ]
    }
   ],
   "source": [
    "# For Compressor\n",
    "arr = [9,2,6,5,3,4,0,6,25,52,6,4,1490,9,181]\n",
    "print(len(arr))\n",
    "print('cov. for columns',coefficientOfVariation(arr,len(arr)))\n",
    "print('Cov using stats library',variation(arr,axis=0))"
   ]
  },
  {
   "cell_type": "code",
   "execution_count": 60,
   "metadata": {},
   "outputs": [
    {
     "name": "stdout",
     "output_type": "stream",
     "text": [
      "15\n",
      "cov. for columns 2.199201134447429\n",
      "Cov using stats library 2.1246301453283274\n"
     ]
    }
   ],
   "source": [
    "# For Furnace\n",
    "arr = [3,1,0,0,0,34,0,5,0,0,0,0,0,52,9]\n",
    "print(len(arr))\n",
    "print('cov. for columns',coefficientOfVariation(arr,len(arr)))\n",
    "print('Cov using stats library',variation(arr,axis=0))"
   ]
  },
  {
   "cell_type": "code",
   "execution_count": 61,
   "metadata": {},
   "outputs": [
    {
     "name": "stdout",
     "output_type": "stream",
     "text": [
      "15\n",
      "cov. for columns 1.907151950100648\n",
      "Cov using stats library 1.8424838280758913\n"
     ]
    }
   ],
   "source": [
    "# For Misc.\n",
    "arr = [3,4,7,1,1,67,5,29,3,2,3,2,1,4,5]\n",
    "print(len(arr))\n",
    "print('cov. for columns',coefficientOfVariation(arr,len(arr)))\n",
    "print('Cov using stats library',variation(arr,axis=0))"
   ]
  },
  {
   "cell_type": "code",
   "execution_count": 4,
   "metadata": {},
   "outputs": [
    {
     "data": {
      "text/plain": [
       "15"
      ]
     },
     "execution_count": 4,
     "metadata": {},
     "output_type": "execute_result"
    }
   ],
   "source": [
    "D2 = [32.2, 60.5, 67.1, 8.3, 8.6, 17.5, 2.8, 2.6, 4.42, 6.88, 56.1, 53.4, 10.1, 28.19, 10.32]\n",
    "len(D2)"
   ]
  },
  {
   "cell_type": "code",
   "execution_count": 5,
   "metadata": {},
   "outputs": [
    {
     "data": {
      "text/plain": [
       "15"
      ]
     },
     "execution_count": 5,
     "metadata": {},
     "output_type": "execute_result"
    }
   ],
   "source": [
    "C4 = [27.01, 16.7, 5.1, 6.4, 8.4, 4.57, 1.90, 1.97, 6.15, 10.46, 23.9, 13.2, 8.4, 18.23, 6.0]\n",
    "len(C4)"
   ]
  },
  {
   "cell_type": "code",
   "execution_count": 6,
   "metadata": {},
   "outputs": [],
   "source": [
    "# For Columns\n",
    "x=0.01\n",
    "m=[]\n",
    "cov={}\n",
    "while x<1.0:\n",
    "    x=round(x,2)\n",
    "    m=[]\n",
    "    for i in range(15):\n",
    "        if D2[i]!=0:\n",
    "            m.append(C4[i]*x/D2[i])\n",
    "        else:\n",
    "            m.append(0)\n",
    "    cov[x]=variation(m,axis=0)\n",
    "#     cov.append(round(variation(m, axis = 0),3))\n",
    "    x+=0.01"
   ]
  },
  {
   "cell_type": "code",
   "execution_count": 7,
   "metadata": {},
   "outputs": [
    {
     "name": "stdout",
     "output_type": "stream",
     "text": [
      "temp 0.5748600024339988\n",
      "[0.05, 0.1, 0.2, 0.4, 0.41, 0.79, 0.8, 0.82, 0.85, 0.91]\n"
     ]
    }
   ],
   "source": [
    "temp=min(cov.values())\n",
    "res = [key for key in cov if cov[key] == temp] \n",
    "print('temp',temp)\n",
    "print(res)"
   ]
  },
  {
   "cell_type": "code",
   "execution_count": null,
   "metadata": {},
   "outputs": [],
   "source": []
  },
  {
   "cell_type": "code",
   "execution_count": 8,
   "metadata": {},
   "outputs": [
    {
     "data": {
      "text/plain": [
       "15"
      ]
     },
     "execution_count": 8,
     "metadata": {},
     "output_type": "execute_result"
    }
   ],
   "source": [
    "#For E2\n",
    "E2 = [49.9, 61.0, 44.5, 3.3, 9.9, 3.9, 3.8, 4.0, 1.62, 1.87, 31.2, 33.2, 2.8, 7.44, 1.93]  # Heat Exchangers\n",
    "len(E2)"
   ]
  },
  {
   "cell_type": "code",
   "execution_count": 9,
   "metadata": {},
   "outputs": [
    {
     "data": {
      "text/plain": [
       "15"
      ]
     },
     "execution_count": 9,
     "metadata": {},
     "output_type": "execute_result"
    }
   ],
   "source": [
    "F2 = [11.9, 11.7, 7.4, 4.3, 5.4, 1.5, 0.9, 0.4, 4.62, 3.75, 19.3, 15.2, 3.8, 5.11, 6.56]  #Pumps\n",
    "len(F2)"
   ]
  },
  {
   "cell_type": "code",
   "execution_count": 10,
   "metadata": {},
   "outputs": [
    {
     "data": {
      "text/plain": [
       "15"
      ]
     },
     "execution_count": 10,
     "metadata": {},
     "output_type": "execute_result"
    }
   ],
   "source": [
    "G2 = [41.5, 105.2, 12.8, 16.5, 38.6, 15, 0, 4.3, 3.35, 2.79, 54.3, 42.7, 0.1, 26.01, 0.44]  #Compressors\n",
    "len(G2)"
   ]
  },
  {
   "cell_type": "code",
   "execution_count": 11,
   "metadata": {},
   "outputs": [
    {
     "data": {
      "text/plain": [
       "15"
      ]
     },
     "execution_count": 11,
     "metadata": {},
     "output_type": "execute_result"
    }
   ],
   "source": [
    "H2 = [42.7, 51.2, 0, 0, 0, 0.6, 0, 1.8, 0, 0, 0, 0, 0, 1.55, 2.94]   #Furnance\n",
    "len(H2)"
   ]
  },
  {
   "cell_type": "code",
   "execution_count": 12,
   "metadata": {},
   "outputs": [
    {
     "data": {
      "text/plain": [
       "15"
      ]
     },
     "execution_count": 12,
     "metadata": {},
     "output_type": "execute_result"
    }
   ],
   "source": [
    "I2 = [70.8, 37.5, 6.7, 62.3, 77.9, 0.6, 4.1, 0.6, 21.86, 51.87, 79.7, 57.1, 95.8, 45.80, 10.37] #Misc\n",
    "len(I2)"
   ]
  },
  {
   "cell_type": "code",
   "execution_count": null,
   "metadata": {},
   "outputs": [],
   "source": []
  },
  {
   "cell_type": "code",
   "execution_count": 13,
   "metadata": {},
   "outputs": [],
   "source": [
    "# For Heat Exchangers\n",
    "x=0.01\n",
    "m=[]\n",
    "cov={}\n",
    "while x<1.0:\n",
    "    x=round(x,2)\n",
    "    m=[]\n",
    "    for i in range(15):\n",
    "        if E2[i]!=0:\n",
    "            m.append(C4[i]*x/E2[i])\n",
    "        else:\n",
    "            m.append(0)\n",
    "    cov[x]=variation(m,axis=0)\n",
    "#     cov.append(round(variation(m, axis = 0),3))\n",
    "    x+=0.01"
   ]
  },
  {
   "cell_type": "code",
   "execution_count": 14,
   "metadata": {},
   "outputs": [
    {
     "name": "stdout",
     "output_type": "stream",
     "text": [
      "temp 0.9322167582829809\n",
      "[0.27, 0.54]\n"
     ]
    }
   ],
   "source": [
    "temp=min(cov.values())\n",
    "res = [key for key in cov if cov[key] == temp] \n",
    "print('temp',temp)\n",
    "print(res)"
   ]
  },
  {
   "cell_type": "code",
   "execution_count": 15,
   "metadata": {
    "jupyter": {
     "source_hidden": true
    }
   },
   "outputs": [],
   "source": [
    "# For Pumps\n",
    "x=0.01\n",
    "m=[]\n",
    "cov={}\n",
    "while x<1.0:\n",
    "    x=round(x,2)\n",
    "    m=[]\n",
    "    for i in range(15):\n",
    "        if F2[i]!=0:\n",
    "            m.append(C4[i]*x/F2[i])\n",
    "        else:\n",
    "            m.append(0)\n",
    "    cov[x]=variation(m,axis=0)\n",
    "#     cov.append(round(variation(m, axis = 0),3))\n",
    "    x+=0.01"
   ]
  },
  {
   "cell_type": "code",
   "execution_count": 16,
   "metadata": {},
   "outputs": [
    {
     "name": "stdout",
     "output_type": "stream",
     "text": [
      "temp 0.5523798576728449\n",
      "[0.25, 0.33, 0.39, 0.5, 0.66, 0.67, 0.69, 0.78, 0.83, 0.93, 0.99]\n"
     ]
    }
   ],
   "source": [
    "temp=min(cov.values())\n",
    "res = [key for key in cov if cov[key] == temp] \n",
    "print('temp',temp)\n",
    "print(res)"
   ]
  },
  {
   "cell_type": "code",
   "execution_count": 17,
   "metadata": {},
   "outputs": [
    {
     "name": "stdout",
     "output_type": "stream",
     "text": [
      "temp 2.910240040893378\n",
      "[0.11, 0.22, 0.35, 0.39, 0.43, 0.44, 0.59, 0.7, 0.77, 0.78, 0.86, 0.88]\n"
     ]
    }
   ],
   "source": [
    "# For Compressors\n",
    "x=0.01\n",
    "m=[]\n",
    "cov={}\n",
    "while x<1.0:\n",
    "    x=round(x,2)\n",
    "    m=[]\n",
    "    for i in range(15):\n",
    "        if G2[i]!=0:\n",
    "            m.append(C4[i]*x/G2[i])\n",
    "        else:\n",
    "            m.append(0)\n",
    "    cov[x]=variation(m,axis=0)\n",
    "#     cov.append(round(variation(m, axis = 0),3))\n",
    "    x+=0.01\n",
    "    \n",
    "temp=min(cov.values())\n",
    "res = [key for key in cov if cov[key] == temp] \n",
    "print('temp',temp)\n",
    "print(res)"
   ]
  },
  {
   "cell_type": "code",
   "execution_count": 18,
   "metadata": {},
   "outputs": [
    {
     "name": "stdout",
     "output_type": "stream",
     "text": [
      "temp 2.1226187186627588\n",
      "[0.17, 0.21, 0.34, 0.37, 0.39, 0.41, 0.42, 0.47, 0.51, 0.53, 0.55, 0.63, 0.68, 0.69, 0.74, 0.77, 0.78, 0.82, 0.84, 0.85, 0.87, 0.91, 0.94, 0.99]\n"
     ]
    }
   ],
   "source": [
    "# For Furnaces\n",
    "x=0.01\n",
    "m=[]\n",
    "cov={}\n",
    "while x<1.0:\n",
    "    x=round(x,2)\n",
    "    m=[]\n",
    "    for i in range(15):\n",
    "        if H2[i]!=0:\n",
    "            m.append(C4[i]*x/H2[i])\n",
    "        else:\n",
    "            m.append(0)\n",
    "    cov[x]=variation(m,axis=0)\n",
    "#     cov.append(round(variation(m, axis = 0),3))\n",
    "    x+=0.01\n",
    "    \n",
    "temp=min(cov.values())\n",
    "res = [key for key in cov if cov[key] == temp] \n",
    "print('temp',temp)\n",
    "print(res)"
   ]
  },
  {
   "cell_type": "code",
   "execution_count": 19,
   "metadata": {},
   "outputs": [
    {
     "name": "stdout",
     "output_type": "stream",
     "text": [
      "temp 1.8886542024584358\n",
      "[0.41, 0.82, 0.99]\n"
     ]
    }
   ],
   "source": [
    "# For Misc\n",
    "x=0.01\n",
    "m=[]\n",
    "cov={}\n",
    "while x<1.0:\n",
    "    x=round(x,2)\n",
    "    m=[]\n",
    "    for i in range(15):\n",
    "        if I2[i]!=0:\n",
    "            m.append(C4[i]*x/I2[i])\n",
    "        else:\n",
    "            m.append(0)\n",
    "    cov[x]=variation(m,axis=0)\n",
    "#     cov.append(round(variation(m, axis = 0),3))\n",
    "    x+=0.01\n",
    "    \n",
    "temp=min(cov.values())\n",
    "res = [key for key in cov if cov[key] == temp] \n",
    "print('temp',temp)\n",
    "print(res)"
   ]
  },
  {
   "cell_type": "code",
   "execution_count": null,
   "metadata": {},
   "outputs": [],
   "source": [
    "arr=[4,1,0,4,5,1,4,3,6,7,2,1,4,3,3]"
   ]
  },
  {
   "cell_type": "code",
   "execution_count": null,
   "metadata": {},
   "outputs": [],
   "source": [
    "# For Columns\n",
    "[0.41, 0.57, 0.82]\n",
    "\n",
    "# For heatex\n",
    "[0.27, 0.54]"
   ]
  },
  {
   "cell_type": "code",
   "execution_count": 20,
   "metadata": {},
   "outputs": [],
   "source": [
    "# For rest in similar way_For particulars_B\n",
    "C6 = [50.98, 64.4, 17.3, 16.9, 14.5, 12.79, 4.28, 2.79, 10.97, 20.25, 50.7, 39.3, 4.5, 27.20, 12.50]\n",
    "\n",
    "\n",
    "# for Part. C\n",
    "C8 = [11.00, 16.2, 5.1, 2.2, 2.7, 2.74, 0.96, 0.66, 0.17, 1.59, 4.0, 3.0, 1.3, 4.86, 1.54]\n",
    "\n",
    "# For Part. D\n",
    "C10 = [0.0, 0.6, 0.8, 0.0, 0.0, 0.0, 0.0, 0.0, 0.24, 1.24, 1.7, 0.1, 0.0, 0.16, 0.0]\n",
    "\n",
    "# For Part. E\n",
    "C12 = [60.37, 88.7, 25.5, 13.3, 10.3, 6.42, 3.16, 2.75, 11.32, 16.34, 67.2, 55.8, 2.2, 33.09, 16.80]\n",
    "\n",
    "# For Part. F\n",
    "C14 = [7.15, 2.3, 0.3, 0.3, 0.1, 0.05, 0.00, 0.00, 0.1, 0.0, 0.5, 0.0, 0.0, 1.21, 0.50]\n",
    "\n",
    "# For Part. G\n",
    "C16 = [48.32, 35.8, 10.5, 14.9, 9.8, 4.45, 1.86, 1.46, 6.31, 11.62, 35.3, 21.0, 10.2, 16.94, 8.34]\n",
    "\n",
    "# For Part. H\n",
    "C18 = [20.63, 25.1, 5.1, 7.7, 6.1, 5.21, 1.35, 1.81, 1.71, 6.54, 19.2, 10.0, 12.0, 22.16, 6.03]\n",
    "\n",
    "# For Part. I\n",
    "C20 = [3.82, 6.9, 1.9, 1.0, 0.7, 1.17, 0.80, 0.44, 1.44, 2.64, 2.5, 7.2, 1.2, 2.67, 1.25]\n",
    "\n",
    "# For Part. J\n",
    "C22 = [223.92, 269.90, 54.20, 52.60, 47.40, 44.58, 12.82, 10.26, 12.41, 30.58, 80.11, 80.12, 19.38, 147.84, 39.5]\n"
   ]
  },
  {
   "cell_type": "code",
   "execution_count": 21,
   "metadata": {},
   "outputs": [
    {
     "name": "stdout",
     "output_type": "stream",
     "text": [
      "C6 15\n",
      "C8 15\n",
      "C10 15\n",
      "C12 15\n",
      "C14 15\n",
      "C16 15\n",
      "C18 15\n",
      "C20 15\n",
      "C22 15\n"
     ]
    }
   ],
   "source": [
    "print('C6',len(C6))\n",
    "print('C8',len(C8))\n",
    "print('C10',len(C10))\n",
    "print('C12',len(C12))\n",
    "print('C14',len(C14))\n",
    "print('C16',len(C16))\n",
    "print('C18',len(C18))\n",
    "print('C20',len(C20))\n",
    "print('C22',len(C22))"
   ]
  },
  {
   "cell_type": "markdown",
   "metadata": {},
   "source": [
    "### For Particulars B"
   ]
  },
  {
   "cell_type": "code",
   "execution_count": 22,
   "metadata": {},
   "outputs": [
    {
     "name": "stdout",
     "output_type": "stream",
     "text": [
      "15\n",
      "cov. for columns 0.5991589683306701\n",
      "Cov using stats library 0.5788425560625284\n"
     ]
    }
   ],
   "source": [
    "# for Vessel\n",
    "arr = [7,5,1,9,8,3,8,5,11,14,4,3,2,4,5]\n",
    "print(len(arr))\n",
    "print('cov. for columns',coefficientOfVariation(arr,len(arr)))\n",
    "print('Cov using stats library',variation(arr,axis=0))"
   ]
  },
  {
   "cell_type": "code",
   "execution_count": 23,
   "metadata": {},
   "outputs": [
    {
     "name": "stdout",
     "output_type": "stream",
     "text": [
      "15\n",
      "cov. for columns 0.9601068927654433\n",
      "Cov using stats library 0.9275513799784895\n"
     ]
    }
   ],
   "source": [
    "# For Heat.Ex\n",
    "arr = [3,3,1,14,4,9,4,2,19,30,5,3,4,10,17]\n",
    "print(len(arr))\n",
    "print('cov. for columns',coefficientOfVariation(arr,len(arr)))\n",
    "print('Cov using stats library',variation(arr,axis=0))"
   ]
  },
  {
   "cell_type": "code",
   "execution_count": 24,
   "metadata": {},
   "outputs": [
    {
     "name": "stdout",
     "output_type": "stream",
     "text": [
      "15\n",
      "cov. for columns 0.4922957554496398\n",
      "Cov using stats library 0.4756028841847116\n"
     ]
    }
   ],
   "source": [
    "# For Pumps\n",
    "arr = [285,365,162,273,186,556,336,464,165,375,183,180,82,354,126]\n",
    "print(len(arr))\n",
    "print('cov. for columns',coefficientOfVariation(arr,len(arr)))\n",
    "print('Cov using stats library',variation(arr,axis=0))"
   ]
  },
  {
   "cell_type": "code",
   "execution_count": 25,
   "metadata": {},
   "outputs": [
    {
     "name": "stdout",
     "output_type": "stream",
     "text": [
      "15\n",
      "cov. for columns 2.244981489444446\n",
      "Cov using stats library 2.168858170117398\n"
     ]
    }
   ],
   "source": [
    "# For Compressors\n",
    "arr = [16,8,19,14,5,11,0,9,45,101,13,13,796,14,377]\n",
    "print(len(arr))\n",
    "print('cov. for columns',coefficientOfVariation(arr,len(arr)))\n",
    "print('Cov using stats library',variation(arr,axis=0))"
   ]
  },
  {
   "cell_type": "code",
   "execution_count": 26,
   "metadata": {},
   "outputs": [
    {
     "name": "stdout",
     "output_type": "stream",
     "text": [
      "15\n",
      "cov. for columns 2.142741038235783\n",
      "Cov using stats library 2.070084510306389\n"
     ]
    }
   ],
   "source": [
    "# For Furnace\n",
    "arr = [5,6,0,0,0,94,0,7,0,0,0,0,0,78,19]\n",
    "print(len(arr))\n",
    "print('cov. for columns',coefficientOfVariation(arr,len(arr)))\n",
    "print('Cov using stats library',variation(arr,axis=0))"
   ]
  },
  {
   "cell_type": "code",
   "execution_count": 27,
   "metadata": {},
   "outputs": [
    {
     "name": "stdout",
     "output_type": "stream",
     "text": [
      "15\n",
      "cov. for columns 2.1626152786135613\n",
      "Cov using stats library 2.0892848506303037\n"
     ]
    }
   ],
   "source": [
    "# For Misc\n",
    "arr = [6,15,24,3,2,189,11,42,5,4,6,6,0,5,11]\n",
    "print(len(arr))\n",
    "print('cov. for columns',coefficientOfVariation(arr,len(arr)))\n",
    "print('Cov using stats library',variation(arr,axis=0))"
   ]
  },
  {
   "cell_type": "code",
   "execution_count": null,
   "metadata": {},
   "outputs": [],
   "source": []
  },
  {
   "cell_type": "code",
   "execution_count": null,
   "metadata": {},
   "outputs": [],
   "source": []
  },
  {
   "cell_type": "code",
   "execution_count": 30,
   "metadata": {},
   "outputs": [
    {
     "name": "stdout",
     "output_type": "stream",
     "text": [
      "temp 0.5492061485914344\n"
     ]
    },
    {
     "data": {
      "text/plain": [
       "[0.31, 0.39, 0.62, 0.78, 0.95, 0.99]"
      ]
     },
     "execution_count": 30,
     "metadata": {},
     "output_type": "execute_result"
    }
   ],
   "source": [
    "# For Columns\n",
    "x=0.01\n",
    "m=[]\n",
    "cov={}\n",
    "while x<1.0:\n",
    "    x=round(x,2)\n",
    "    m=[]\n",
    "    for i in range(15):\n",
    "        if D2[i]!=0:\n",
    "            m.append(C6[i]*x/D2[i])\n",
    "        else:\n",
    "            m.append(0)\n",
    "    cov[x]=variation(m,axis=0)\n",
    "#     cov.append(round(variation(m, axis = 0),3))\n",
    "    x+=0.01\n",
    "    \n",
    "    \n",
    "temp=min(cov.values())\n",
    "res = [key for key in cov if cov[key] == temp] \n",
    "print('temp',temp)\n",
    "res"
   ]
  },
  {
   "cell_type": "code",
   "execution_count": 31,
   "metadata": {},
   "outputs": [
    {
     "name": "stdout",
     "output_type": "stream",
     "text": [
      "temp 0.9363043400281559\n"
     ]
    },
    {
     "data": {
      "text/plain": [
       "[0.33, 0.66, 0.99]"
      ]
     },
     "execution_count": 31,
     "metadata": {},
     "output_type": "execute_result"
    }
   ],
   "source": [
    "# For Heat Exchangers\n",
    "x=0.01\n",
    "m=[]\n",
    "cov={}\n",
    "while x<1.0:\n",
    "    x=round(x,2)\n",
    "    m=[]\n",
    "    for i in range(15):\n",
    "        if E2[i]!=0:\n",
    "            m.append(C6[i]*x/E2[i])\n",
    "        else:\n",
    "            m.append(0)\n",
    "    cov[x]=variation(m,axis=0)\n",
    "#     cov.append(round(variation(m, axis = 0),3))\n",
    "    x+=0.01\n",
    "    \n",
    "    \n",
    "temp=min(cov.values())\n",
    "res = [key for key in cov if cov[key] == temp] \n",
    "print('temp',temp)\n",
    "res"
   ]
  },
  {
   "cell_type": "code",
   "execution_count": 32,
   "metadata": {},
   "outputs": [
    {
     "name": "stdout",
     "output_type": "stream",
     "text": [
      "temp 0.4937785623569499\n"
     ]
    },
    {
     "data": {
      "text/plain": [
       "[0.35, 0.7, 0.83]"
      ]
     },
     "execution_count": 32,
     "metadata": {},
     "output_type": "execute_result"
    }
   ],
   "source": [
    "# For Pumps\n",
    "x=0.01\n",
    "m=[]\n",
    "cov={}\n",
    "while x<1.0:\n",
    "    x=round(x,2)\n",
    "    m=[]\n",
    "    for i in range(15):\n",
    "        if F2[i]!=0:\n",
    "            m.append(C6[i]*x/F2[i])\n",
    "        else:\n",
    "            m.append(0)\n",
    "    cov[x]=variation(m,axis=0)\n",
    "#     cov.append(round(variation(m, axis = 0),3))\n",
    "    x+=0.01\n",
    "    \n",
    "    \n",
    "temp=min(cov.values())\n",
    "res = [key for key in cov if cov[key] == temp] \n",
    "print('temp',temp)\n",
    "res"
   ]
  },
  {
   "cell_type": "code",
   "execution_count": 33,
   "metadata": {},
   "outputs": [
    {
     "name": "stdout",
     "output_type": "stream",
     "text": [
      "temp 2.010980063656843\n"
     ]
    },
    {
     "data": {
      "text/plain": [
       "[0.03,\n",
       " 0.06,\n",
       " 0.09,\n",
       " 0.12,\n",
       " 0.18,\n",
       " 0.24,\n",
       " 0.25,\n",
       " 0.27,\n",
       " 0.35,\n",
       " 0.36,\n",
       " 0.37,\n",
       " 0.43,\n",
       " 0.45,\n",
       " 0.48,\n",
       " 0.49,\n",
       " 0.5,\n",
       " 0.54,\n",
       " 0.57,\n",
       " 0.63,\n",
       " 0.65,\n",
       " 0.67,\n",
       " 0.7,\n",
       " 0.72,\n",
       " 0.74,\n",
       " 0.79,\n",
       " 0.81,\n",
       " 0.86,\n",
       " 0.9,\n",
       " 0.96,\n",
       " 0.97,\n",
       " 0.98]"
      ]
     },
     "execution_count": 33,
     "metadata": {},
     "output_type": "execute_result"
    }
   ],
   "source": [
    "# For Compressors\n",
    "x=0.01\n",
    "m=[]\n",
    "cov={}\n",
    "while x<1.0:\n",
    "    x=round(x,2)\n",
    "    m=[]\n",
    "    for i in range(15):\n",
    "        if G2[i]!=0:\n",
    "            m.append(C6[i]*x/G2[i])\n",
    "        else:\n",
    "            m.append(0)\n",
    "    cov[x]=variation(m,axis=0)\n",
    "#     cov.append(round(variation(m, axis = 0),3))\n",
    "    x+=0.01\n",
    "    \n",
    "    \n",
    "temp=min(cov.values())\n",
    "res = [key for key in cov if cov[key] == temp] \n",
    "print('temp',temp)\n",
    "res"
   ]
  },
  {
   "cell_type": "code",
   "execution_count": 34,
   "metadata": {},
   "outputs": [
    {
     "name": "stdout",
     "output_type": "stream",
     "text": [
      "temp 2.075890735799906\n"
     ]
    },
    {
     "data": {
      "text/plain": [
       "[0.31, 0.53, 0.62, 0.63, 0.91, 0.93]"
      ]
     },
     "execution_count": 34,
     "metadata": {},
     "output_type": "execute_result"
    }
   ],
   "source": [
    "# For Furnaces\n",
    "x=0.01\n",
    "m=[]\n",
    "cov={}\n",
    "while x<1.0:\n",
    "    x=round(x,2)\n",
    "    m=[]\n",
    "    for i in range(15):\n",
    "        if H2[i]!=0:\n",
    "            m.append(C6[i]*x/H2[i])\n",
    "        else:\n",
    "            m.append(0)\n",
    "    cov[x]=variation(m,axis=0)\n",
    "#     cov.append(round(variation(m, axis = 0),3))\n",
    "    x+=0.01\n",
    "    \n",
    "    \n",
    "temp=min(cov.values())\n",
    "res = [key for key in cov if cov[key] == temp] \n",
    "print('temp',temp)\n",
    "res"
   ]
  },
  {
   "cell_type": "code",
   "execution_count": 35,
   "metadata": {},
   "outputs": [
    {
     "name": "stdout",
     "output_type": "stream",
     "text": [
      "temp 2.1229236811472587\n"
     ]
    },
    {
     "data": {
      "text/plain": [
       "[0.55]"
      ]
     },
     "execution_count": 35,
     "metadata": {},
     "output_type": "execute_result"
    }
   ],
   "source": [
    "# For Misc\n",
    "x=0.01\n",
    "m=[]\n",
    "cov={}\n",
    "while x<1.0:\n",
    "    x=round(x,2)\n",
    "    m=[]\n",
    "    for i in range(15):\n",
    "        if I2[i]!=0:\n",
    "            m.append(C6[i]*x/I2[i])\n",
    "        else:\n",
    "            m.append(0)\n",
    "    cov[x]=variation(m,axis=0)\n",
    "#     cov.append(round(variation(m, axis = 0),3))\n",
    "    x+=0.01\n",
    "    \n",
    "    \n",
    "temp=min(cov.values())\n",
    "res = [key for key in cov if cov[key] == temp] \n",
    "print('temp',temp)\n",
    "res"
   ]
  },
  {
   "cell_type": "code",
   "execution_count": null,
   "metadata": {},
   "outputs": [],
   "source": []
  },
  {
   "cell_type": "markdown",
   "metadata": {},
   "source": [
    "### For Particulars C"
   ]
  },
  {
   "cell_type": "code",
   "execution_count": 36,
   "metadata": {},
   "outputs": [
    {
     "name": "stdout",
     "output_type": "stream",
     "text": [
      "15\n",
      "cov. for columns 0.5763359358838283\n",
      "Cov using stats library 0.5567934119506824\n"
     ]
    }
   ],
   "source": [
    "# For columns\n",
    "arr = [13,10,3,11,13,6,16,9,2,10,3,2,5,6,6]\n",
    "print(len(arr))\n",
    "print('cov. for columns',coefficientOfVariation(arr,len(arr)))\n",
    "print('Cov using stats library',variation(arr,axis=0))"
   ]
  },
  {
   "cell_type": "code",
   "execution_count": 37,
   "metadata": {},
   "outputs": [
    {
     "name": "stdout",
     "output_type": "stream",
     "text": [
      "15\n",
      "cov. for columns 0.7205550411548683\n",
      "Cov using stats library 0.6961223045160821\n"
     ]
    }
   ],
   "source": [
    "# For Heat Ex.\n",
    "arr = [5,6,3,16,6,15,7,3,2,20,3,2,10,14,17]\n",
    "print(len(arr))\n",
    "print('cov. for columns',coefficientOfVariation(arr,len(arr)))\n",
    "print('Cov using stats library',variation(arr,axis=0))"
   ]
  },
  {
   "cell_type": "code",
   "execution_count": 38,
   "metadata": {},
   "outputs": [
    {
     "name": "stdout",
     "output_type": "stream",
     "text": [
      "15\n",
      "cov. for columns 0.7410150440042057\n",
      "Cov using stats library 0.7158885451506061\n"
     ]
    }
   ],
   "source": [
    "# For pumps\n",
    "arr= [10,14,8,6,6,19,13,17,0,5,2,2,4,10,2]\n",
    "print(len(arr))\n",
    "print('cov. for columns',coefficientOfVariation(arr,len(arr)))\n",
    "print('Cov using stats library',variation(arr,axis=0))"
   ]
  },
  {
   "cell_type": "code",
   "execution_count": 39,
   "metadata": {},
   "outputs": [
    {
     "name": "stdout",
     "output_type": "stream",
     "text": [
      "15\n",
      "cov. for columns 2.842395089226452\n",
      "Cov using stats library 2.746014539966617\n"
     ]
    }
   ],
   "source": [
    "# For Compressors\n",
    "arr = [3,2,5,2,1,2,0,2,1,7,1,1,187,2,37]\n",
    "print(len(arr))\n",
    "print('cov. for columns',coefficientOfVariation(arr,len(arr)))\n",
    "print('Cov using stats library',variation(arr,axis=0))"
   ]
  },
  {
   "cell_type": "code",
   "execution_count": 40,
   "metadata": {},
   "outputs": [
    {
     "name": "stdout",
     "output_type": "stream",
     "text": [
      "15\n",
      "cov. for columns 2.2244958297170556\n",
      "Cov using stats library 2.149067142583808\n"
     ]
    }
   ],
   "source": [
    "# For Furnace\n",
    "arr = [3,3,0,0,0,48,0,4,0,0,0,0,0,33,5]\n",
    "print(len(arr))\n",
    "print('cov. for columns',coefficientOfVariation(arr,len(arr)))\n",
    "print('Cov using stats library',variation(arr,axis=0))"
   ]
  },
  {
   "cell_type": "code",
   "execution_count": 41,
   "metadata": {},
   "outputs": [
    {
     "name": "stdout",
     "output_type": "stream",
     "text": [
      "15\n",
      "cov. for columns 2.188918219980119\n",
      "Cov using stats library 2.1146959061553514\n"
     ]
    }
   ],
   "source": [
    "# For Misc\n",
    "arr = [2,5,9,0,0,48,3,12,0,0,1,1,0,1,2]\n",
    "print(len(arr))\n",
    "print('cov. for columns',coefficientOfVariation(arr,len(arr)))\n",
    "print('Cov using stats library',variation(arr,axis=0))"
   ]
  },
  {
   "cell_type": "code",
   "execution_count": null,
   "metadata": {},
   "outputs": [],
   "source": []
  },
  {
   "cell_type": "code",
   "execution_count": 42,
   "metadata": {},
   "outputs": [
    {
     "name": "stdout",
     "output_type": "stream",
     "text": [
      "temp 0.5303993454570534\n"
     ]
    },
    {
     "data": {
      "text/plain": [
       "[0.27, 0.54]"
      ]
     },
     "execution_count": 42,
     "metadata": {},
     "output_type": "execute_result"
    }
   ],
   "source": [
    "# For Columns\n",
    "x=0.01\n",
    "m=[]\n",
    "cov={}\n",
    "while x<1.0:\n",
    "    x=round(x,2)\n",
    "    m=[]\n",
    "    for i in range(15):\n",
    "        if D2[i]!=0:\n",
    "            m.append(C8[i]*x/D2[i])\n",
    "        else:\n",
    "            m.append(0)\n",
    "    cov[x]=variation(m,axis=0)\n",
    "#     cov.append(round(variation(m, axis = 0),3))\n",
    "    x+=0.01\n",
    "    \n",
    "    \n",
    "temp=min(cov.values())\n",
    "res = [key for key in cov if cov[key] == temp] \n",
    "print('temp',temp)\n",
    "res"
   ]
  },
  {
   "cell_type": "code",
   "execution_count": 43,
   "metadata": {},
   "outputs": [
    {
     "name": "stdout",
     "output_type": "stream",
     "text": [
      "temp 0.6966536330041732\n"
     ]
    },
    {
     "data": {
      "text/plain": [
       "[0.05, 0.1, 0.17, 0.2, 0.33, 0.34, 0.4, 0.57, 0.66, 0.68, 0.8]"
      ]
     },
     "execution_count": 43,
     "metadata": {},
     "output_type": "execute_result"
    }
   ],
   "source": [
    "# For Heat Exchangers\n",
    "x=0.01\n",
    "m=[]\n",
    "cov={}\n",
    "while x<1.0:\n",
    "    x=round(x,2)\n",
    "    m=[]\n",
    "    for i in range(15):\n",
    "        if E2[i]!=0:\n",
    "            m.append(C8[i]*x/E2[i])\n",
    "        else:\n",
    "            m.append(0)\n",
    "    cov[x]=variation(m,axis=0)\n",
    "#     cov.append(round(variation(m, axis = 0),3))\n",
    "    x+=0.01\n",
    "    \n",
    "    \n",
    "temp=min(cov.values())\n",
    "res = [key for key in cov if cov[key] == temp] \n",
    "print('temp',temp)\n",
    "res"
   ]
  },
  {
   "cell_type": "code",
   "execution_count": 44,
   "metadata": {},
   "outputs": [
    {
     "name": "stdout",
     "output_type": "stream",
     "text": [
      "temp 0.7342487409172348\n"
     ]
    },
    {
     "data": {
      "text/plain": [
       "[0.39, 0.41, 0.55, 0.78, 0.82, 0.87]"
      ]
     },
     "execution_count": 44,
     "metadata": {},
     "output_type": "execute_result"
    }
   ],
   "source": [
    "# For Pumps\n",
    "x=0.01\n",
    "m=[]\n",
    "cov={}\n",
    "while x<1.0:\n",
    "    x=round(x,2)\n",
    "    m=[]\n",
    "    for i in range(15):\n",
    "        if F2[i]!=0:\n",
    "            m.append(C8[i]*x/F2[i])\n",
    "        else:\n",
    "            m.append(0)\n",
    "    cov[x]=variation(m,axis=0)\n",
    "#     cov.append(round(variation(m, axis = 0),3))\n",
    "    x+=0.01\n",
    "    \n",
    "    \n",
    "temp=min(cov.values())\n",
    "res = [key for key in cov if cov[key] == temp] \n",
    "print('temp',temp)\n",
    "res"
   ]
  },
  {
   "cell_type": "code",
   "execution_count": 45,
   "metadata": {},
   "outputs": [
    {
     "name": "stdout",
     "output_type": "stream",
     "text": [
      "temp 2.5913944550059886\n"
     ]
    },
    {
     "data": {
      "text/plain": [
       "[0.15, 0.27, 0.3, 0.31, 0.35, 0.54, 0.6, 0.62, 0.7, 0.73, 0.79, 0.95]"
      ]
     },
     "execution_count": 45,
     "metadata": {},
     "output_type": "execute_result"
    }
   ],
   "source": [
    "# For Compressors\n",
    "x=0.01\n",
    "m=[]\n",
    "cov={}\n",
    "while x<1.0:\n",
    "    x=round(x,2)\n",
    "    m=[]\n",
    "    for i in range(15):\n",
    "        if G2[i]!=0:\n",
    "            m.append(C8[i]*x/G2[i])\n",
    "        else:\n",
    "            m.append(0)\n",
    "    cov[x]=variation(m,axis=0)\n",
    "#     cov.append(round(variation(m, axis = 0),3))\n",
    "    x+=0.01\n",
    "    \n",
    "    \n",
    "temp=min(cov.values())\n",
    "res = [key for key in cov if cov[key] == temp] \n",
    "print('temp',temp)\n",
    "res"
   ]
  },
  {
   "cell_type": "code",
   "execution_count": 46,
   "metadata": {},
   "outputs": [
    {
     "name": "stdout",
     "output_type": "stream",
     "text": [
      "temp 2.140211092582625\n"
     ]
    },
    {
     "data": {
      "text/plain": [
       "[0.03,\n",
       " 0.06,\n",
       " 0.09,\n",
       " 0.12,\n",
       " 0.18,\n",
       " 0.24,\n",
       " 0.31,\n",
       " 0.36,\n",
       " 0.37,\n",
       " 0.43,\n",
       " 0.45,\n",
       " 0.48,\n",
       " 0.49,\n",
       " 0.55,\n",
       " 0.62,\n",
       " 0.72,\n",
       " 0.74,\n",
       " 0.86,\n",
       " 0.89,\n",
       " 0.9,\n",
       " 0.91,\n",
       " 0.96,\n",
       " 0.98]"
      ]
     },
     "execution_count": 46,
     "metadata": {},
     "output_type": "execute_result"
    }
   ],
   "source": [
    "# For Furnaces\n",
    "x=0.01\n",
    "m=[]\n",
    "cov={}\n",
    "while x<1.0:\n",
    "    x=round(x,2)\n",
    "    m=[]\n",
    "    for i in range(15):\n",
    "        if H2[i]!=0:\n",
    "            m.append(C8[i]*x/H2[i])\n",
    "        else:\n",
    "            m.append(0)\n",
    "    cov[x]=variation(m,axis=0)\n",
    "#     cov.append(round(variation(m, axis = 0),3))\n",
    "    x+=0.01\n",
    "    \n",
    "    \n",
    "temp=min(cov.values())\n",
    "res = [key for key in cov if cov[key] == temp] \n",
    "print('temp',temp)\n",
    "res"
   ]
  },
  {
   "cell_type": "code",
   "execution_count": 47,
   "metadata": {},
   "outputs": [
    {
     "name": "stdout",
     "output_type": "stream",
     "text": [
      "temp 2.182566050262832\n"
     ]
    },
    {
     "data": {
      "text/plain": [
       "[0.05, 0.1, 0.17, 0.2, 0.34, 0.35, 0.4, 0.61, 0.68, 0.7, 0.8]"
      ]
     },
     "execution_count": 47,
     "metadata": {},
     "output_type": "execute_result"
    }
   ],
   "source": [
    "# For Misc\n",
    "x=0.01\n",
    "m=[]\n",
    "cov={}\n",
    "while x<1.0:\n",
    "    x=round(x,2)\n",
    "    m=[]\n",
    "    for i in range(15):\n",
    "        if I2[i]!=0:\n",
    "            m.append(C8[i]*x/I2[i])\n",
    "        else:\n",
    "            m.append(0)\n",
    "    cov[x]=variation(m,axis=0)\n",
    "#     cov.append(round(variation(m, axis = 0),3))\n",
    "    x+=0.01\n",
    "    \n",
    "    \n",
    "temp=min(cov.values())\n",
    "res = [key for key in cov if cov[key] == temp] \n",
    "print('temp',temp)\n",
    "res"
   ]
  },
  {
   "cell_type": "markdown",
   "metadata": {},
   "source": [
    "### For Particulars E"
   ]
  },
  {
   "cell_type": "code",
   "execution_count": 48,
   "metadata": {},
   "outputs": [
    {
     "name": "stdout",
     "output_type": "stream",
     "text": [
      "15\n",
      "cov. for columns 0.5295604208126248\n",
      "Cov using stats library 0.5116039711910909\n"
     ]
    }
   ],
   "source": [
    "# For columns\n",
    "arr = [54,63,49,13,57,42,12,44,35,90,84,42,37,8,39]\n",
    "print(len(arr))\n",
    "print('cov. for columns',coefficientOfVariation(arr,len(arr)))\n",
    "print('Cov using stats library',variation(arr,axis=0))"
   ]
  },
  {
   "cell_type": "code",
   "execution_count": 49,
   "metadata": {},
   "outputs": [
    {
     "name": "stdout",
     "output_type": "stream",
     "text": [
      "15\n",
      "cov. for columns 0.9703200196947083\n",
      "Cov using stats library 0.9374181979843982\n"
     ]
    }
   ],
   "source": [
    "# For Heat Ex.\n",
    "arr = [242,34,40,17,119,31,46,27,19,206,257,63,49,23,124]\n",
    "print(len(arr))\n",
    "print('cov. for columns',coefficientOfVariation(arr,len(arr)))\n",
    "print('Cov using stats library',variation(arr,axis=0))"
   ]
  },
  {
   "cell_type": "code",
   "execution_count": 50,
   "metadata": {},
   "outputs": [
    {
     "name": "stdout",
     "output_type": "stream",
     "text": [
      "15\n",
      "cov. for columns 0.4582481309083201\n",
      "Cov using stats library 0.44270975388197353\n"
     ]
    }
   ],
   "source": [
    "# For Pumps\n",
    "arr = [43,85,126,61,55,34,71,65,115,43,77,62,65,10,108]\n",
    "print(len(arr))\n",
    "print('cov. for columns',coefficientOfVariation(arr,len(arr)))\n",
    "print('Cov using stats library',variation(arr,axis=0))"
   ]
  },
  {
   "cell_type": "code",
   "execution_count": 51,
   "metadata": {},
   "outputs": [
    {
     "name": "stdout",
     "output_type": "stream",
     "text": [
      "15\n",
      "cov. for columns 1.968592463766414\n",
      "Cov using stats library 1.9018410034765592\n"
     ]
    }
   ],
   "source": [
    "# For Compressor\n",
    "arr = [318,12,7,18,7,2,4,0,5,30,52,11,12,247,11]\n",
    "print(len(arr))\n",
    "print('cov. for columns',coefficientOfVariation(arr,len(arr)))\n",
    "print('Cov using stats library',variation(arr,axis=0))"
   ]
  },
  {
   "cell_type": "code",
   "execution_count": 52,
   "metadata": {},
   "outputs": [
    {
     "name": "stdout",
     "output_type": "stream",
     "text": [
      "15\n",
      "cov. for columns 2.0831481060026826\n",
      "Cov using stats library 2.0125122681463896\n"
     ]
    }
   ],
   "source": [
    "# For Furnace\n",
    "arr = [32,8,10,0,0,0,59,0,9,0,0,0,0,0,119]\n",
    "print(len(arr))\n",
    "print('cov. for columns',coefficientOfVariation(arr,len(arr)))\n",
    "print('Cov using stats library',variation(arr,axis=0))"
   ]
  },
  {
   "cell_type": "code",
   "execution_count": 53,
   "metadata": {},
   "outputs": [
    {
     "name": "stdout",
     "output_type": "stream",
     "text": [
      "15\n",
      "cov. for columns 1.4269460365976598\n",
      "Cov using stats library 1.3785608408545673\n"
     ]
    }
   ],
   "source": [
    "# For Misc.\n",
    "arr = [14,7,20,34,2,1,89,8,39,5,3,7,9,0,6]\n",
    "print(len(arr))\n",
    "print('cov. for columns',coefficientOfVariation(arr,len(arr)))\n",
    "print('Cov using stats library',variation(arr,axis=0))"
   ]
  },
  {
   "cell_type": "code",
   "execution_count": null,
   "metadata": {},
   "outputs": [],
   "source": []
  },
  {
   "cell_type": "code",
   "execution_count": null,
   "metadata": {},
   "outputs": [],
   "source": []
  },
  {
   "cell_type": "code",
   "execution_count": 54,
   "metadata": {},
   "outputs": [
    {
     "name": "stdout",
     "output_type": "stream",
     "text": [
      "temp 0.5075014502864762\n"
     ]
    },
    {
     "data": {
      "text/plain": [
       "[0.01, 0.02, 0.04, 0.08, 0.16, 0.23, 0.32, 0.46, 0.64, 0.92]"
      ]
     },
     "execution_count": 54,
     "metadata": {},
     "output_type": "execute_result"
    }
   ],
   "source": [
    "# For Columns\n",
    "x=0.01\n",
    "m=[]\n",
    "cov={}\n",
    "while x<1.0:\n",
    "    x=round(x,2)\n",
    "    m=[]\n",
    "    for i in range(15):\n",
    "        if D2[i]!=0:\n",
    "            m.append(C12[i]*x/D2[i])\n",
    "        else:\n",
    "            m.append(0)\n",
    "    cov[x]=variation(m,axis=0)\n",
    "#     cov.append(round(variation(m, axis = 0),3))\n",
    "    x+=0.01\n",
    "    \n",
    "    \n",
    "temp=min(cov.values())\n",
    "res = [key for key in cov if cov[key] == temp] \n",
    "print('temp',temp)\n",
    "res"
   ]
  },
  {
   "cell_type": "code",
   "execution_count": 55,
   "metadata": {},
   "outputs": [
    {
     "name": "stdout",
     "output_type": "stream",
     "text": [
      "temp 0.9398428004402324\n"
     ]
    },
    {
     "data": {
      "text/plain": [
       "[0.05, 0.1, 0.2, 0.27, 0.35, 0.4, 0.53, 0.54, 0.7, 0.8, 0.81]"
      ]
     },
     "execution_count": 55,
     "metadata": {},
     "output_type": "execute_result"
    }
   ],
   "source": [
    "# For Heat Exchangers\n",
    "x=0.01\n",
    "m=[]\n",
    "cov={}\n",
    "while x<1.0:\n",
    "    x=round(x,2)\n",
    "    m=[]\n",
    "    for i in range(15):\n",
    "        if E2[i]!=0:\n",
    "            m.append(C12[i]*x/E2[i])\n",
    "        else:\n",
    "            m.append(0)\n",
    "    cov[x]=variation(m,axis=0)\n",
    "#     cov.append(round(variation(m, axis = 0),3))\n",
    "    x+=0.01\n",
    "    \n",
    "    \n",
    "temp=min(cov.values())\n",
    "res = [key for key in cov if cov[key] == temp] \n",
    "print('temp',temp)\n",
    "res"
   ]
  },
  {
   "cell_type": "code",
   "execution_count": 60,
   "metadata": {},
   "outputs": [
    {
     "name": "stdout",
     "output_type": "stream",
     "text": [
      "temp 0.46538866024687403\n"
     ]
    },
    {
     "data": {
      "text/plain": [
       "[0.01, 0.02, 0.04, 0.08, 0.16, 0.32, 0.64]"
      ]
     },
     "execution_count": 60,
     "metadata": {},
     "output_type": "execute_result"
    }
   ],
   "source": [
    "# For Pumps\n",
    "x=0.01\n",
    "m=[]\n",
    "cov={}\n",
    "while x<1.0:\n",
    "    x=round(x,2)\n",
    "    m=[]\n",
    "    for i in range(15):\n",
    "        if F2[i]!=0:\n",
    "            m.append(C12[i]*x/F2[i])\n",
    "        else:\n",
    "            m.append(0)\n",
    "    cov[x]=variation(m,axis=0)\n",
    "#     cov.append(round(variation(m, axis = 0),3))\n",
    "    x+=0.01\n",
    "    \n",
    "    \n",
    "temp=min(cov.values())\n",
    "res = [key for key in cov if cov[key] == temp] \n",
    "print('temp',temp)\n",
    "res"
   ]
  },
  {
   "cell_type": "code",
   "execution_count": 62,
   "metadata": {},
   "outputs": [
    {
     "name": "stdout",
     "output_type": "stream",
     "text": [
      "temp 1.9308863134852092\n"
     ]
    },
    {
     "data": {
      "text/plain": [
       "[0.21, 0.42, 0.84]"
      ]
     },
     "execution_count": 62,
     "metadata": {},
     "output_type": "execute_result"
    }
   ],
   "source": [
    "# For Compressor\n",
    "x=0.01\n",
    "m=[]\n",
    "cov={}\n",
    "while x<1.0:\n",
    "    x=round(x,2)\n",
    "    m=[]\n",
    "    for i in range(15):\n",
    "        if G2[i]!=0:\n",
    "            m.append(C12[i]*x/G2[i])\n",
    "        else:\n",
    "            m.append(0)\n",
    "    cov[x]=variation(m,axis=0)\n",
    "#     cov.append(round(variation(m, axis = 0),3))\n",
    "    x+=0.01\n",
    "    \n",
    "    \n",
    "temp=min(cov.values())\n",
    "res = [key for key in cov if cov[key] == temp] \n",
    "print('temp',temp)\n",
    "res"
   ]
  },
  {
   "cell_type": "code",
   "execution_count": 63,
   "metadata": {},
   "outputs": [
    {
     "name": "stdout",
     "output_type": "stream",
     "text": [
      "temp 2.020592458386407\n"
     ]
    },
    {
     "data": {
      "text/plain": [
       "[0.01,\n",
       " 0.02,\n",
       " 0.04,\n",
       " 0.05,\n",
       " 0.08,\n",
       " 0.1,\n",
       " 0.16,\n",
       " 0.17,\n",
       " 0.19,\n",
       " 0.2,\n",
       " 0.25,\n",
       " 0.31,\n",
       " 0.32,\n",
       " 0.34,\n",
       " 0.38,\n",
       " 0.4,\n",
       " 0.47,\n",
       " 0.5,\n",
       " 0.55,\n",
       " 0.61,\n",
       " 0.62,\n",
       " 0.64,\n",
       " 0.68,\n",
       " 0.69,\n",
       " 0.71,\n",
       " 0.73,\n",
       " 0.76,\n",
       " 0.77,\n",
       " 0.8,\n",
       " 0.83,\n",
       " 0.89,\n",
       " 0.94]"
      ]
     },
     "execution_count": 63,
     "metadata": {},
     "output_type": "execute_result"
    }
   ],
   "source": [
    "# For Furnaces\n",
    "x=0.01\n",
    "m=[]\n",
    "cov={}\n",
    "while x<1.0:\n",
    "    x=round(x,2)\n",
    "    m=[]\n",
    "    for i in range(15):\n",
    "        if H2[i]!=0:\n",
    "            m.append(C12[i]*x/H2[i])\n",
    "        else:\n",
    "            m.append(0)\n",
    "    cov[x]=variation(m,axis=0)\n",
    "#     cov.append(round(variation(m, axis = 0),3))\n",
    "    x+=0.01\n",
    "    \n",
    "    \n",
    "temp=min(cov.values())\n",
    "res = [key for key in cov if cov[key] == temp] \n",
    "print('temp',temp)\n",
    "res"
   ]
  },
  {
   "cell_type": "code",
   "execution_count": 64,
   "metadata": {},
   "outputs": [
    {
     "name": "stdout",
     "output_type": "stream",
     "text": [
      "temp 1.4164820073861253\n"
     ]
    },
    {
     "data": {
      "text/plain": [
       "[0.51, 0.65]"
      ]
     },
     "execution_count": 64,
     "metadata": {},
     "output_type": "execute_result"
    }
   ],
   "source": [
    "# For Misc\n",
    "x=0.01\n",
    "m=[]\n",
    "cov={}\n",
    "while x<1.0:\n",
    "    x=round(x,2)\n",
    "    m=[]\n",
    "    for i in range(15):\n",
    "        if I2[i]!=0:\n",
    "            m.append(C12[i]*x/I2[i])\n",
    "        else:\n",
    "            m.append(0)\n",
    "    cov[x]=variation(m,axis=0)\n",
    "#     cov.append(round(variation(m, axis = 0),3))\n",
    "    x+=0.01\n",
    "    \n",
    "    \n",
    "temp=min(cov.values())\n",
    "res = [key for key in cov if cov[key] == temp] \n",
    "print('temp',temp)\n",
    "res"
   ]
  },
  {
   "cell_type": "markdown",
   "metadata": {},
   "source": [
    "### For Particulars F"
   ]
  },
  {
   "cell_type": "code",
   "execution_count": 65,
   "metadata": {},
   "outputs": [
    {
     "name": "stdout",
     "output_type": "stream",
     "text": [
      "15\n",
      "cov. for columns 1.9876853013349114\n",
      "Cov using stats library 1.9202864369671522\n"
     ]
    }
   ],
   "source": [
    "# For columns\n",
    "arr = [1,4,1,0,1,0,0,0,0,0,0,0,0,0,1]\n",
    "print(len(arr))\n",
    "print('cov. for columns',coefficientOfVariation(arr,len(arr)))\n",
    "print('Cov using stats library',variation(arr,axis=0))"
   ]
  },
  {
   "cell_type": "code",
   "execution_count": 66,
   "metadata": {},
   "outputs": [
    {
     "name": "stdout",
     "output_type": "stream",
     "text": [
      "15\n",
      "cov. for columns 1.502322800011813\n",
      "Cov using stats library 1.4513817126240929\n"
     ]
    }
   ],
   "source": [
    "# For Heat Ex.\n",
    "arr = [4,2,1,0,2,0,0,0,0,1,0,0,0,0,3]\n",
    "print(len(arr))\n",
    "print('cov. for columns',coefficientOfVariation(arr,len(arr)))\n",
    "print('Cov using stats library',variation(arr,axis=0))"
   ]
  },
  {
   "cell_type": "code",
   "execution_count": 67,
   "metadata": {},
   "outputs": [
    {
     "name": "stdout",
     "output_type": "stream",
     "text": [
      "15\n",
      "cov. for columns 1.8014653618160148\n",
      "Cov using stats library 1.7403808835524224\n"
     ]
    }
   ],
   "source": [
    "# For Pumps \n",
    "arr = [1,10,3,1,1,0,1,0,0,0,0,1,0,0,4]\n",
    "print(len(arr))\n",
    "print('cov. for columns',coefficientOfVariation(arr,len(arr)))\n",
    "print('Cov using stats library',variation(arr,axis=0))"
   ]
  },
  {
   "cell_type": "code",
   "execution_count": 68,
   "metadata": {},
   "outputs": [
    {
     "name": "stdout",
     "output_type": "stream",
     "text": [
      "15\n",
      "cov. for columns 3.0509073591778746\n",
      "Cov using stats library 2.947456530637899\n"
     ]
    }
   ],
   "source": [
    "# For Compressor\n",
    "arr = [19,3,0,0,0,0,0,0,0,1,0,0,0,0,1]\n",
    "print(len(arr))\n",
    "print('cov. for columns',coefficientOfVariation(arr,len(arr)))\n",
    "print('Cov using stats library',variation(arr,axis=0))"
   ]
  },
  {
   "cell_type": "code",
   "execution_count": 69,
   "metadata": {},
   "outputs": [
    {
     "name": "stdout",
     "output_type": "stream",
     "text": [
      "15\n",
      "cov. for columns 2.411706145162019\n",
      "Cov using stats library 2.32992949004287\n"
     ]
    }
   ],
   "source": [
    "# For Furnace\n",
    "arr = [3,3,1,0,0,0,1,0,0,0,0,0,0,0,13]\n",
    "print(len(arr))\n",
    "print('cov. for columns',coefficientOfVariation(arr,len(arr)))\n",
    "print('Cov using stats library',variation(arr,axis=0))"
   ]
  },
  {
   "cell_type": "code",
   "execution_count": 72,
   "metadata": {},
   "outputs": [
    {
     "name": "stdout",
     "output_type": "stream",
     "text": [
      "15\n",
      "cov. for columns 1.5811388300841895\n",
      "Cov using stats library 1.5275252316519468\n"
     ]
    }
   ],
   "source": [
    "# For Misc.\n",
    "arr = [1,2,1,1,0,0,1,0,0,0,0,0,0,0,0]\n",
    "print(len(arr))\n",
    "print('cov. for columns',coefficientOfVariation(arr,len(arr)))\n",
    "print('Cov using stats library',variation(arr,axis=0))"
   ]
  },
  {
   "cell_type": "code",
   "execution_count": null,
   "metadata": {},
   "outputs": [],
   "source": []
  },
  {
   "cell_type": "code",
   "execution_count": 73,
   "metadata": {},
   "outputs": [
    {
     "name": "stdout",
     "output_type": "stream",
     "text": [
      "temp 1.8588594899763502\n"
     ]
    },
    {
     "data": {
      "text/plain": [
       "[0.07,\n",
       " 0.09,\n",
       " 0.14,\n",
       " 0.18,\n",
       " 0.21,\n",
       " 0.23,\n",
       " 0.28,\n",
       " 0.36,\n",
       " 0.41,\n",
       " 0.42,\n",
       " 0.46,\n",
       " 0.56,\n",
       " 0.67,\n",
       " 0.69,\n",
       " 0.72,\n",
       " 0.82,\n",
       " 0.84,\n",
       " 0.92]"
      ]
     },
     "execution_count": 73,
     "metadata": {},
     "output_type": "execute_result"
    }
   ],
   "source": [
    "# For Columns\n",
    "x=0.01\n",
    "m=[]\n",
    "cov={}\n",
    "while x<1.0:\n",
    "    x=round(x,2)\n",
    "    m=[]\n",
    "    for i in range(15):\n",
    "        if D2[i]!=0:\n",
    "            m.append(C14[i]*x/D2[i])\n",
    "        else:\n",
    "            m.append(0)\n",
    "    cov[x]=variation(m,axis=0)\n",
    "#     cov.append(round(variation(m, axis = 0),3))\n",
    "    x+=0.01\n",
    "    \n",
    "    \n",
    "temp=min(cov.values())\n",
    "res = [key for key in cov if cov[key] == temp] \n",
    "print('temp',temp)\n",
    "res"
   ]
  },
  {
   "cell_type": "code",
   "execution_count": 74,
   "metadata": {},
   "outputs": [
    {
     "name": "stdout",
     "output_type": "stream",
     "text": [
      "temp 1.4128543489952925\n"
     ]
    },
    {
     "data": {
      "text/plain": [
       "[0.43, 0.86]"
      ]
     },
     "execution_count": 74,
     "metadata": {},
     "output_type": "execute_result"
    }
   ],
   "source": [
    "# For Heat Exchangers\n",
    "x=0.01\n",
    "m=[]\n",
    "cov={}\n",
    "while x<1.0:\n",
    "    x=round(x,2)\n",
    "    m=[]\n",
    "    for i in range(15):\n",
    "        if E2[i]!=0:\n",
    "            m.append(C14[i]*x/E2[i])\n",
    "        else:\n",
    "            m.append(0)\n",
    "    cov[x]=variation(m,axis=0)\n",
    "#     cov.append(round(variation(m, axis = 0),3))\n",
    "    x+=0.01\n",
    "    \n",
    "    \n",
    "temp=min(cov.values())\n",
    "res = [key for key in cov if cov[key] == temp] \n",
    "print('temp',temp)\n",
    "res"
   ]
  },
  {
   "cell_type": "code",
   "execution_count": 75,
   "metadata": {},
   "outputs": [
    {
     "name": "stdout",
     "output_type": "stream",
     "text": [
      "temp 1.7466395754758581\n"
     ]
    },
    {
     "data": {
      "text/plain": [
       "[0.49, 0.98]"
      ]
     },
     "execution_count": 75,
     "metadata": {},
     "output_type": "execute_result"
    }
   ],
   "source": [
    "# For Pumps\n",
    "x=0.01\n",
    "m=[]\n",
    "cov={}\n",
    "while x<1.0:\n",
    "    x=round(x,2)\n",
    "    m=[]\n",
    "    for i in range(15):\n",
    "        if F2[i]!=0:\n",
    "            m.append(C14[i]*x/F2[i])\n",
    "        else:\n",
    "            m.append(0)\n",
    "    cov[x]=variation(m,axis=0)\n",
    "#     cov.append(round(variation(m, axis = 0),3))\n",
    "    x+=0.01\n",
    "    \n",
    "    \n",
    "temp=min(cov.values())\n",
    "res = [key for key in cov if cov[key] == temp] \n",
    "print('temp',temp)\n",
    "res"
   ]
  },
  {
   "cell_type": "code",
   "execution_count": 76,
   "metadata": {},
   "outputs": [
    {
     "name": "stdout",
     "output_type": "stream",
     "text": [
      "temp 2.8777304272630433\n"
     ]
    },
    {
     "data": {
      "text/plain": [
       "[0.23, 0.46, 0.59, 0.92, 0.99]"
      ]
     },
     "execution_count": 76,
     "metadata": {},
     "output_type": "execute_result"
    }
   ],
   "source": [
    "# For Compressors\n",
    "x=0.01\n",
    "m=[]\n",
    "cov={}\n",
    "while x<1.0:\n",
    "    x=round(x,2)\n",
    "    m=[]\n",
    "    for i in range(15):\n",
    "        if G2[i]!=0:\n",
    "            m.append(C14[i]*x/G2[i])\n",
    "        else:\n",
    "            m.append(0)\n",
    "    cov[x]=variation(m,axis=0)\n",
    "#     cov.append(round(variation(m, axis = 0),3))\n",
    "    x+=0.01\n",
    "    \n",
    "    \n",
    "temp=min(cov.values())\n",
    "res = [key for key in cov if cov[key] == temp] \n",
    "print('temp',temp)\n",
    "res"
   ]
  },
  {
   "cell_type": "code",
   "execution_count": 77,
   "metadata": {},
   "outputs": [
    {
     "name": "stdout",
     "output_type": "stream",
     "text": [
      "temp 2.3495783765861082\n"
     ]
    },
    {
     "data": {
      "text/plain": [
       "[0.47, 0.53, 0.55, 0.69, 0.94, 0.97]"
      ]
     },
     "execution_count": 77,
     "metadata": {},
     "output_type": "execute_result"
    }
   ],
   "source": [
    "# For Furnaces\n",
    "x=0.01\n",
    "m=[]\n",
    "cov={}\n",
    "while x<1.0:\n",
    "    x=round(x,2)\n",
    "    m=[]\n",
    "    for i in range(15):\n",
    "        if H2[i]!=0:\n",
    "            m.append(C14[i]*x/H2[i])\n",
    "        else:\n",
    "            m.append(0)\n",
    "    cov[x]=variation(m,axis=0)\n",
    "#     cov.append(round(variation(m, axis = 0),3))\n",
    "    x+=0.01\n",
    "    \n",
    "    \n",
    "temp=min(cov.values())\n",
    "res = [key for key in cov if cov[key] == temp] \n",
    "print('temp',temp)\n",
    "res"
   ]
  },
  {
   "cell_type": "code",
   "execution_count": 78,
   "metadata": {},
   "outputs": [
    {
     "name": "stdout",
     "output_type": "stream",
     "text": [
      "temp 1.293928428123122\n"
     ]
    },
    {
     "data": {
      "text/plain": [
       "[0.07, 0.14, 0.21, 0.28, 0.42, 0.43, 0.56, 0.69, 0.84, 0.86, 0.87, 0.97]"
      ]
     },
     "execution_count": 78,
     "metadata": {},
     "output_type": "execute_result"
    }
   ],
   "source": [
    "# For Misc\n",
    "x=0.01\n",
    "m=[]\n",
    "cov={}\n",
    "while x<1.0:\n",
    "    x=round(x,2)\n",
    "    m=[]\n",
    "    for i in range(15):\n",
    "        if I2[i]!=0:\n",
    "            m.append(C14[i]*x/I2[i])\n",
    "        else:\n",
    "            m.append(0)\n",
    "    cov[x]=variation(m,axis=0)\n",
    "#     cov.append(round(variation(m, axis = 0),3))\n",
    "    x+=0.01\n",
    "    \n",
    "    \n",
    "temp=min(cov.values())\n",
    "res = [key for key in cov if cov[key] == temp] \n",
    "print('temp',temp)\n",
    "res"
   ]
  },
  {
   "cell_type": "markdown",
   "metadata": {},
   "source": [
    "### For Particulars G"
   ]
  },
  {
   "cell_type": "code",
   "execution_count": 80,
   "metadata": {},
   "outputs": [
    {
     "name": "stdout",
     "output_type": "stream",
     "text": [
      "15\n",
      "cov. for columns 0.5808236847629313\n",
      "Cov using stats library 0.5611289892673073\n"
     ]
    }
   ],
   "source": [
    "# For columns\n",
    "arr = [16,30,12,3,36,23,5,17,11,29,34,13,8,20,12]\n",
    "print(len(arr))\n",
    "print('cov. for columns',coefficientOfVariation(arr,len(arr)))\n",
    "print('Cov using stats library',variation(arr,axis=0))"
   ]
  },
  {
   "cell_type": "code",
   "execution_count": 81,
   "metadata": {},
   "outputs": [
    {
     "name": "stdout",
     "output_type": "stream",
     "text": [
      "15\n",
      "cov. for columns 0.9067727288654204\n",
      "Cov using stats library 0.8760256824772729\n"
     ]
    }
   ],
   "source": [
    "# For Heat Ex.\n",
    "arr = [144,32,20,8,151,33,38,20,12,130,207,38,21,121,76]\n",
    "print(len(arr))\n",
    "print('cov. for columns',coefficientOfVariation(arr,len(arr)))\n",
    "print('Cov using stats library',variation(arr,axis=0))"
   ]
  },
  {
   "cell_type": "code",
   "execution_count": 82,
   "metadata": {},
   "outputs": [
    {
     "name": "stdout",
     "output_type": "stream",
     "text": [
      "15\n",
      "cov. for columns 0.37575509766872933\n",
      "Cov using stats library 0.3630139123079177\n"
     ]
    }
   ],
   "source": [
    "# For Pumps\n",
    "arr = [17,54,41,19,46,24,40,33,49,18,41,24,18,36,44]\n",
    "print(len(arr))\n",
    "print('cov. for columns',coefficientOfVariation(arr,len(arr)))\n",
    "print('Cov using stats library',variation(arr,axis=0))"
   ]
  },
  {
   "cell_type": "code",
   "execution_count": 83,
   "metadata": {},
   "outputs": [
    {
     "name": "stdout",
     "output_type": "stream",
     "text": [
      "15\n",
      "cov. for columns 3.1107127435789828\n",
      "Cov using stats library 3.0052340210917077\n"
     ]
    }
   ],
   "source": [
    "# For Compressor\n",
    "arr = [379,23,7,16,18,5,6,0,7,38,83,13,10,2613,13]\n",
    "print(len(arr))\n",
    "print('cov. for columns',coefficientOfVariation(arr,len(arr)))\n",
    "print('Cov using stats library',variation(arr,axis=0))"
   ]
  },
  {
   "cell_type": "code",
   "execution_count": null,
   "metadata": {},
   "outputs": [],
   "source": [
    "# For Furnace\n",
    "arr = [0,0,0,0,0,0,0,0,0,0,0,0,0,0,0]\n",
    "print(len(arr))\n",
    "print('cov. for columns',coefficientOfVariation(arr,len(arr)))\n",
    "print('Cov using stats library',variation(arr,axis=0))"
   ]
  },
  {
   "cell_type": "code",
   "execution_count": 86,
   "metadata": {},
   "outputs": [
    {
     "name": "stdout",
     "output_type": "stream",
     "text": [
      "15\n",
      "cov. for columns 1.6647844556469504\n",
      "Cov using stats library 1.6083345831986573\n"
     ]
    }
   ],
   "source": [
    "# For Misc\n",
    "arr = [11,9,13,21,3,2,99,8,33,4,3,6,5,1,5]\n",
    "print(len(arr))\n",
    "print('cov. for columns',coefficientOfVariation(arr,len(arr)))\n",
    "print('Cov using stats library',variation(arr,axis=0))"
   ]
  },
  {
   "cell_type": "code",
   "execution_count": null,
   "metadata": {},
   "outputs": [],
   "source": []
  },
  {
   "cell_type": "code",
   "execution_count": null,
   "metadata": {},
   "outputs": [],
   "source": []
  },
  {
   "cell_type": "code",
   "execution_count": 87,
   "metadata": {},
   "outputs": [
    {
     "name": "stdout",
     "output_type": "stream",
     "text": [
      "temp 0.5702746565869312\n"
     ]
    },
    {
     "data": {
      "text/plain": [
       "[0.23, 0.46, 0.92]"
      ]
     },
     "execution_count": 87,
     "metadata": {},
     "output_type": "execute_result"
    }
   ],
   "source": [
    "# For Columns\n",
    "x=0.01\n",
    "m=[]\n",
    "cov={}\n",
    "while x<1.0:\n",
    "    x=round(x,2)\n",
    "    m=[]\n",
    "    for i in range(15):\n",
    "        if D2[i]!=0:\n",
    "            m.append(C16[i]*x/D2[i])\n",
    "        else:\n",
    "            m.append(0)\n",
    "    cov[x]=variation(m,axis=0)\n",
    "#     cov.append(round(variation(m, axis = 0),3))\n",
    "    x+=0.01\n",
    "    \n",
    "    \n",
    "temp=min(cov.values())\n",
    "res = [key for key in cov if cov[key] == temp] \n",
    "print('temp',temp)\n",
    "res"
   ]
  },
  {
   "cell_type": "code",
   "execution_count": 88,
   "metadata": {},
   "outputs": [
    {
     "name": "stdout",
     "output_type": "stream",
     "text": [
      "temp 0.8825613415389318\n"
     ]
    },
    {
     "data": {
      "text/plain": [
       "[0.55]"
      ]
     },
     "execution_count": 88,
     "metadata": {},
     "output_type": "execute_result"
    }
   ],
   "source": [
    "# For Heat Exchangers\n",
    "x=0.01\n",
    "m=[]\n",
    "cov={}\n",
    "while x<1.0:\n",
    "    x=round(x,2)\n",
    "    m=[]\n",
    "    for i in range(15):\n",
    "        if E2[i]!=0:\n",
    "            m.append(C16[i]*x/E2[i])\n",
    "        else:\n",
    "            m.append(0)\n",
    "    cov[x]=variation(m,axis=0)\n",
    "#     cov.append(round(variation(m, axis = 0),3))\n",
    "    x+=0.01\n",
    "    \n",
    "    \n",
    "temp=min(cov.values())\n",
    "res = [key for key in cov if cov[key] == temp] \n",
    "print('temp',temp)\n",
    "res"
   ]
  },
  {
   "cell_type": "code",
   "execution_count": 89,
   "metadata": {},
   "outputs": [
    {
     "name": "stdout",
     "output_type": "stream",
     "text": [
      "temp 0.36711157168866354\n"
     ]
    },
    {
     "data": {
      "text/plain": [
       "[0.53]"
      ]
     },
     "execution_count": 89,
     "metadata": {},
     "output_type": "execute_result"
    }
   ],
   "source": [
    "# For Pumps\n",
    "x=0.01\n",
    "m=[]\n",
    "cov={}\n",
    "while x<1.0:\n",
    "    x=round(x,2)\n",
    "    m=[]\n",
    "    for i in range(15):\n",
    "        if F2[i]!=0:\n",
    "            m.append(C16[i]*x/F2[i])\n",
    "        else:\n",
    "            m.append(0)\n",
    "    cov[x]=variation(m,axis=0)\n",
    "#     cov.append(round(variation(m, axis = 0),3))\n",
    "    x+=0.01\n",
    "    \n",
    "    \n",
    "temp=min(cov.values())\n",
    "res = [key for key in cov if cov[key] == temp] \n",
    "print('temp',temp)\n",
    "res"
   ]
  },
  {
   "cell_type": "code",
   "execution_count": 90,
   "metadata": {},
   "outputs": [
    {
     "name": "stdout",
     "output_type": "stream",
     "text": [
      "temp 2.8566197902628243\n"
     ]
    },
    {
     "data": {
      "text/plain": [
       "[0.01,\n",
       " 0.02,\n",
       " 0.04,\n",
       " 0.08,\n",
       " 0.09,\n",
       " 0.11,\n",
       " 0.15,\n",
       " 0.16,\n",
       " 0.18,\n",
       " 0.22,\n",
       " 0.27,\n",
       " 0.3,\n",
       " 0.32,\n",
       " 0.36,\n",
       " 0.39,\n",
       " 0.44,\n",
       " 0.54,\n",
       " 0.6,\n",
       " 0.64,\n",
       " 0.72,\n",
       " 0.77,\n",
       " 0.78,\n",
       " 0.88,\n",
       " 0.89,\n",
       " 0.99]"
      ]
     },
     "execution_count": 90,
     "metadata": {},
     "output_type": "execute_result"
    }
   ],
   "source": [
    "# For Compressors\n",
    "x=0.01\n",
    "m=[]\n",
    "cov={}\n",
    "while x<1.0:\n",
    "    x=round(x,2)\n",
    "    m=[]\n",
    "    for i in range(15):\n",
    "        if G2[i]!=0:\n",
    "            m.append(C16[i]*x/G2[i])\n",
    "        else:\n",
    "            m.append(0)\n",
    "    cov[x]=variation(m,axis=0)\n",
    "#     cov.append(round(variation(m, axis = 0),3))\n",
    "    x+=0.01\n",
    "    \n",
    "    \n",
    "temp=min(cov.values())\n",
    "res = [key for key in cov if cov[key] == temp] \n",
    "print('temp',temp)\n",
    "res"
   ]
  },
  {
   "cell_type": "code",
   "execution_count": 91,
   "metadata": {},
   "outputs": [
    {
     "name": "stdout",
     "output_type": "stream",
     "text": [
      "temp 1.9715522637675922\n"
     ]
    },
    {
     "data": {
      "text/plain": [
       "[0.21, 0.42, 0.51, 0.67, 0.84]"
      ]
     },
     "execution_count": 91,
     "metadata": {},
     "output_type": "execute_result"
    }
   ],
   "source": [
    "# For Furnaces\n",
    "x=0.01\n",
    "m=[]\n",
    "cov={}\n",
    "while x<1.0:\n",
    "    x=round(x,2)\n",
    "    m=[]\n",
    "    for i in range(15):\n",
    "        if H2[i]!=0:\n",
    "            m.append(C16[i]*x/H2[i])\n",
    "        else:\n",
    "            m.append(0)\n",
    "    cov[x]=variation(m,axis=0)\n",
    "#     cov.append(round(variation(m, axis = 0),3))\n",
    "    x+=0.01\n",
    "    \n",
    "    \n",
    "temp=min(cov.values())\n",
    "res = [key for key in cov if cov[key] == temp] \n",
    "print('temp',temp)\n",
    "res"
   ]
  },
  {
   "cell_type": "code",
   "execution_count": 92,
   "metadata": {},
   "outputs": [
    {
     "name": "stdout",
     "output_type": "stream",
     "text": [
      "temp 1.6319141462450824\n"
     ]
    },
    {
     "data": {
      "text/plain": [
       "[0.17, 0.27, 0.34, 0.35, 0.54, 0.65, 0.67, 0.68, 0.7, 0.77, 0.81]"
      ]
     },
     "execution_count": 92,
     "metadata": {},
     "output_type": "execute_result"
    }
   ],
   "source": [
    "# For Misc\n",
    "x=0.01\n",
    "m=[]\n",
    "cov={}\n",
    "while x<1.0:\n",
    "    x=round(x,2)\n",
    "    m=[]\n",
    "    for i in range(15):\n",
    "        if I2[i]!=0:\n",
    "            m.append(C16[i]*x/I2[i])\n",
    "        else:\n",
    "            m.append(0)\n",
    "    cov[x]=variation(m,axis=0)\n",
    "#     cov.append(round(variation(m, axis = 0),3))\n",
    "    x+=0.01\n",
    "    \n",
    "    \n",
    "temp=min(cov.values())\n",
    "res = [key for key in cov if cov[key] == temp] \n",
    "print('temp',temp)\n",
    "res"
   ]
  },
  {
   "cell_type": "markdown",
   "metadata": {},
   "source": [
    "### Particulars H"
   ]
  },
  {
   "cell_type": "code",
   "execution_count": 93,
   "metadata": {},
   "outputs": [
    {
     "name": "stdout",
     "output_type": "stream",
     "text": [
      "15\n",
      "cov. for columns 0.5938985320337389\n",
      "Cov using stats library 0.5737604917806511\n"
     ]
    }
   ],
   "source": [
    "# For Columns\n",
    "arr = [15,16,10,3,31,24,7,19,17,13,32,11,6,40,20]\n",
    "print(len(arr))\n",
    "print('cov. for columns',coefficientOfVariation(arr,len(arr)))\n",
    "print('Cov using stats library',variation(arr,axis=0))"
   ]
  },
  {
   "cell_type": "code",
   "execution_count": 94,
   "metadata": {},
   "outputs": [
    {
     "name": "stdout",
     "output_type": "stream",
     "text": [
      "15\n",
      "cov. for columns 0.9881959351048191\n",
      "Cov using stats library 0.9546879729771269\n"
     ]
    }
   ],
   "source": [
    "# For Heat Ex.\n",
    "arr = [39,5,5,2,39,10,17,7,6,18,58,10,5,71,37]\n",
    "print(len(arr))\n",
    "print('cov. for columns',coefficientOfVariation(arr,len(arr)))\n",
    "print('Cov using stats library',variation(arr,axis=0))"
   ]
  },
  {
   "cell_type": "code",
   "execution_count": 95,
   "metadata": {},
   "outputs": [
    {
     "name": "stdout",
     "output_type": "stream",
     "text": [
      "15\n",
      "cov. for columns 0.599993540798612\n",
      "Cov using stats library 0.5796488296661912\n"
     ]
    }
   ],
   "source": [
    "# For Pumps\n",
    "arr = [11,22,27,11,30,19,43,29,57,6,29,17,11,52,54]\n",
    "print(len(arr))\n",
    "print('cov. for columns',coefficientOfVariation(arr,len(arr)))\n",
    "print('Cov using stats library',variation(arr,axis=0))"
   ]
  },
  {
   "cell_type": "code",
   "execution_count": 96,
   "metadata": {},
   "outputs": [
    {
     "name": "stdout",
     "output_type": "stream",
     "text": [
      "15\n",
      "cov. for columns 3.477615648078038\n",
      "Cov using stats library 3.3596959023161728\n"
     ]
    }
   ],
   "source": [
    "# For Comp.\n",
    "arr = [171,6,3,7,8,3,4,0,5,8,39,6,4,2558,11]\n",
    "print(len(arr))\n",
    "print('cov. for columns',coefficientOfVariation(arr,len(arr)))\n",
    "print('Cov using stats library',variation(arr,axis=0))"
   ]
  },
  {
   "cell_type": "code",
   "execution_count": 97,
   "metadata": {},
   "outputs": [
    {
     "name": "stdout",
     "output_type": "stream",
     "text": [
      "15\n",
      "cov. for columns 2.2841710043404433\n",
      "Cov using stats library 2.2067188384412852\n"
     ]
    }
   ],
   "source": [
    "# For Furn.\n",
    "arr = [51,12,12,0,0,0,217,0,26,0,0,0,0,0,358]\n",
    "print(len(arr))\n",
    "print('cov. for columns',coefficientOfVariation(arr,len(arr)))\n",
    "print('Cov using stats library',variation(arr,axis=0))"
   ]
  },
  {
   "cell_type": "code",
   "execution_count": 98,
   "metadata": {},
   "outputs": [
    {
     "name": "stdout",
     "output_type": "stream",
     "text": [
      "15\n",
      "cov. for columns 2.0210581605824225\n",
      "Cov using stats library 1.9525276820640347\n"
     ]
    }
   ],
   "source": [
    "# For Misc.\n",
    "arr = [7,4,8,13,2,1,109,7,38,1,2,4,3,2,6]\n",
    "print(len(arr))\n",
    "print('cov. for columns',coefficientOfVariation(arr,len(arr)))\n",
    "print('Cov using stats library',variation(arr,axis=0))"
   ]
  },
  {
   "cell_type": "code",
   "execution_count": 99,
   "metadata": {},
   "outputs": [
    {
     "name": "stdout",
     "output_type": "stream",
     "text": [
      "temp 0.5138041333360398\n"
     ]
    },
    {
     "data": {
      "text/plain": [
       "[0.01,\n",
       " 0.02,\n",
       " 0.04,\n",
       " 0.08,\n",
       " 0.16,\n",
       " 0.17,\n",
       " 0.25,\n",
       " 0.32,\n",
       " 0.34,\n",
       " 0.45,\n",
       " 0.47,\n",
       " 0.5,\n",
       " 0.51,\n",
       " 0.53,\n",
       " 0.64,\n",
       " 0.68,\n",
       " 0.89,\n",
       " 0.9,\n",
       " 0.91,\n",
       " 0.94,\n",
       " 0.95,\n",
       " 0.99]"
      ]
     },
     "execution_count": 99,
     "metadata": {},
     "output_type": "execute_result"
    }
   ],
   "source": [
    "# For Columns\n",
    "x=0.01\n",
    "m=[]\n",
    "cov={}\n",
    "while x<1.0:\n",
    "    x=round(x,2)\n",
    "    m=[]\n",
    "    for i in range(15):\n",
    "        if D2[i]!=0:\n",
    "            m.append(C18[i]*x/D2[i])\n",
    "        else:\n",
    "            m.append(0)\n",
    "    cov[x]=variation(m,axis=0)\n",
    "#     cov.append(round(variation(m, axis = 0),3))\n",
    "    x+=0.01\n",
    "    \n",
    "    \n",
    "temp=min(cov.values())\n",
    "res = [key for key in cov if cov[key] == temp] \n",
    "print('temp',temp)\n",
    "res"
   ]
  },
  {
   "cell_type": "code",
   "execution_count": 100,
   "metadata": {},
   "outputs": [
    {
     "name": "stdout",
     "output_type": "stream",
     "text": [
      "temp 0.9220676295029516\n"
     ]
    },
    {
     "data": {
      "text/plain": [
       "[0.15, 0.27, 0.3, 0.45, 0.54, 0.6, 0.63, 0.69, 0.75, 0.9, 0.93, 0.95, 0.97]"
      ]
     },
     "execution_count": 100,
     "metadata": {},
     "output_type": "execute_result"
    }
   ],
   "source": [
    "# For Heat Exchangers\n",
    "x=0.01\n",
    "m=[]\n",
    "cov={}\n",
    "while x<1.0:\n",
    "    x=round(x,2)\n",
    "    m=[]\n",
    "    for i in range(15):\n",
    "        if E2[i]!=0:\n",
    "            m.append(C18[i]*x/E2[i])\n",
    "        else:\n",
    "            m.append(0)\n",
    "    cov[x]=variation(m,axis=0)\n",
    "#     cov.append(round(variation(m, axis = 0),3))\n",
    "    x+=0.01\n",
    "    \n",
    "    \n",
    "temp=min(cov.values())\n",
    "res = [key for key in cov if cov[key] == temp] \n",
    "print('temp',temp)\n",
    "res"
   ]
  },
  {
   "cell_type": "code",
   "execution_count": 101,
   "metadata": {},
   "outputs": [
    {
     "name": "stdout",
     "output_type": "stream",
     "text": [
      "temp 0.6621161022629392\n"
     ]
    },
    {
     "data": {
      "text/plain": [
       "[0.95]"
      ]
     },
     "execution_count": 101,
     "metadata": {},
     "output_type": "execute_result"
    }
   ],
   "source": [
    "# For Pumps\n",
    "x=0.01\n",
    "m=[]\n",
    "cov={}\n",
    "while x<1.0:\n",
    "    x=round(x,2)\n",
    "    m=[]\n",
    "    for i in range(15):\n",
    "        if F2[i]!=0:\n",
    "            m.append(C18[i]*x/F2[i])\n",
    "        else:\n",
    "            m.append(0)\n",
    "    cov[x]=variation(m,axis=0)\n",
    "#     cov.append(round(variation(m, axis = 0),3))\n",
    "    x+=0.01\n",
    "    \n",
    "    \n",
    "temp=min(cov.values())\n",
    "res = [key for key in cov if cov[key] == temp] \n",
    "print('temp',temp)\n",
    "res"
   ]
  },
  {
   "cell_type": "code",
   "execution_count": 102,
   "metadata": {},
   "outputs": [
    {
     "name": "stdout",
     "output_type": "stream",
     "text": [
      "temp 3.1759336371572315\n"
     ]
    },
    {
     "data": {
      "text/plain": [
       "[0.55]"
      ]
     },
     "execution_count": 102,
     "metadata": {},
     "output_type": "execute_result"
    }
   ],
   "source": [
    "# For Compressors\n",
    "x=0.01\n",
    "m=[]\n",
    "cov={}\n",
    "while x<1.0:\n",
    "    x=round(x,2)\n",
    "    m=[]\n",
    "    for i in range(15):\n",
    "        if G2[i]!=0:\n",
    "            m.append(C18[i]*x/G2[i])\n",
    "        else:\n",
    "            m.append(0)\n",
    "    cov[x]=variation(m,axis=0)\n",
    "#     cov.append(round(variation(m, axis = 0),3))\n",
    "    x+=0.01\n",
    "    \n",
    "    \n",
    "temp=min(cov.values())\n",
    "res = [key for key in cov if cov[key] == temp] \n",
    "print('temp',temp)\n",
    "res"
   ]
  },
  {
   "cell_type": "code",
   "execution_count": 104,
   "metadata": {},
   "outputs": [
    {
     "name": "stdout",
     "output_type": "stream",
     "text": [
      "temp 2.206784660474909\n"
     ]
    },
    {
     "data": {
      "text/plain": [
       "[0.67]"
      ]
     },
     "execution_count": 104,
     "metadata": {},
     "output_type": "execute_result"
    }
   ],
   "source": [
    "# For Furnaces\n",
    "x=0.01\n",
    "m=[]\n",
    "cov={}\n",
    "while x<1.0:\n",
    "    x=round(x,2)\n",
    "    m=[]\n",
    "    for i in range(15):\n",
    "        if H2[i]!=0:\n",
    "            m.append(C18[i]*x/H2[i])\n",
    "        else:\n",
    "            m.append(0)\n",
    "    cov[x]=variation(m,axis=0)\n",
    "#     cov.append(round(variation(m, axis = 0),3))\n",
    "    x+=0.01\n",
    "    \n",
    "    \n",
    "temp=min(cov.values())\n",
    "res = [key for key in cov if cov[key] == temp] \n",
    "print('temp',temp)\n",
    "res"
   ]
  },
  {
   "cell_type": "code",
   "execution_count": 105,
   "metadata": {},
   "outputs": [
    {
     "name": "stdout",
     "output_type": "stream",
     "text": [
      "temp 2.053704190436844\n"
     ]
    },
    {
     "data": {
      "text/plain": [
       "[0.15, 0.23, 0.27, 0.3, 0.46, 0.54, 0.6, 0.71, 0.92, 0.97]"
      ]
     },
     "execution_count": 105,
     "metadata": {},
     "output_type": "execute_result"
    }
   ],
   "source": [
    "# For Misc\n",
    "x=0.01\n",
    "m=[]\n",
    "cov={}\n",
    "while x<1.0:\n",
    "    x=round(x,2)\n",
    "    m=[]\n",
    "    for i in range(15):\n",
    "        if I2[i]!=0:\n",
    "            m.append(C18[i]*x/I2[i])\n",
    "        else:\n",
    "            m.append(0)\n",
    "    cov[x]=variation(m,axis=0)\n",
    "#     cov.append(round(variation(m, axis = 0),3))\n",
    "    x+=0.01\n",
    "    \n",
    "    \n",
    "temp=min(cov.values())\n",
    "res = [key for key in cov if cov[key] == temp] \n",
    "print('temp',temp)\n",
    "res"
   ]
  },
  {
   "cell_type": "markdown",
   "metadata": {},
   "source": [
    "### Particulars I"
   ]
  },
  {
   "cell_type": "code",
   "execution_count": 106,
   "metadata": {},
   "outputs": [
    {
     "name": "stdout",
     "output_type": "stream",
     "text": [
      "15\n",
      "cov. for columns 0.8304034836302825\n",
      "Cov using stats library 0.8022459821756385\n"
     ]
    }
   ],
   "source": [
    "# For Columns\n",
    "arr = [2,2,2,1,3,2,1,9,3,8,9,1,3,2,3]\n",
    "print(len(arr))\n",
    "print('cov. for columns',coefficientOfVariation(arr,len(arr)))\n",
    "print('Cov using stats library',variation(arr,axis=0))"
   ]
  },
  {
   "cell_type": "code",
   "execution_count": 107,
   "metadata": {},
   "outputs": [
    {
     "name": "stdout",
     "output_type": "stream",
     "text": [
      "15\n",
      "cov. for columns 1.1001442906807544\n",
      "Cov using stats library 1.0628403594282774\n"
     ]
    }
   ],
   "source": [
    "# For Heat Ex.\n",
    "arr = [4,0,1,0,2,0,2,2,1,6,10,1,2,3,2]\n",
    "print(len(arr))\n",
    "print('cov. for columns',coefficientOfVariation(arr,len(arr)))\n",
    "print('Cov using stats library',variation(arr,axis=0))"
   ]
  },
  {
   "cell_type": "code",
   "execution_count": 108,
   "metadata": {},
   "outputs": [
    {
     "name": "stdout",
     "output_type": "stream",
     "text": [
      "15\n",
      "cov. for columns 0.6763170487413538\n",
      "Cov using stats library 0.6533843435454616\n"
     ]
    }
   ],
   "source": [
    "# For Pumps\n",
    "arr = [4,6,11,6,5,3,15,26,21,7,16,3,11,7,10]\n",
    "print(len(arr))\n",
    "print('cov. for columns',coefficientOfVariation(arr,len(arr)))\n",
    "print('Cov using stats library',variation(arr,axis=0))"
   ]
  },
  {
   "cell_type": "code",
   "execution_count": 109,
   "metadata": {},
   "outputs": [
    {
     "name": "stdout",
     "output_type": "stream",
     "text": [
      "15\n",
      "cov. for columns 2.9776706741874515\n",
      "Cov using stats library 2.876703171048684\n"
     ]
    }
   ],
   "source": [
    "# For Comp.\n",
    "arr = [54,2,1,3,1,0,1,0,2,10,22,1,4,356,2]\n",
    "print(len(arr))\n",
    "print('cov. for columns',coefficientOfVariation(arr,len(arr)))\n",
    "print('Cov using stats library',variation(arr,axis=0))"
   ]
  },
  {
   "cell_type": "code",
   "execution_count": 110,
   "metadata": {},
   "outputs": [
    {
     "name": "stdout",
     "output_type": "stream",
     "text": [
      "15\n",
      "cov. for columns 2.059475753147877\n",
      "Cov using stats library 1.9896426025672083\n"
     ]
    }
   ],
   "source": [
    "# For Furn.\n",
    "arr = [8,2,3,0,0,0,37,0,5,0,0,0,0,0,33]\n",
    "print(len(arr))\n",
    "print('cov. for columns',coefficientOfVariation(arr,len(arr)))\n",
    "print('Cov using stats library',variation(arr,axis=0))"
   ]
  },
  {
   "cell_type": "code",
   "execution_count": 111,
   "metadata": {},
   "outputs": [
    {
     "name": "stdout",
     "output_type": "stream",
     "text": [
      "14\n",
      "cov. for columns 1.5442632326206345\n",
      "Cov using stats library 1.4880892857023809\n"
     ]
    }
   ],
   "source": [
    "# For Misc.\n",
    "arr = [2,1,3,7,0,0,37,6,14,21,1,3,0,1]\n",
    "print(len(arr))\n",
    "print('cov. for columns',coefficientOfVariation(arr,len(arr)))\n",
    "print('Cov using stats library',variation(arr,axis=0))"
   ]
  },
  {
   "cell_type": "code",
   "execution_count": null,
   "metadata": {},
   "outputs": [],
   "source": []
  },
  {
   "cell_type": "code",
   "execution_count": 112,
   "metadata": {},
   "outputs": [
    {
     "name": "stdout",
     "output_type": "stream",
     "text": [
      "temp 0.6792391015049661\n"
     ]
    },
    {
     "data": {
      "text/plain": [
       "[0.01, 0.02, 0.04, 0.08, 0.16, 0.32, 0.41, 0.64, 0.69, 0.77, 0.82]"
      ]
     },
     "execution_count": 112,
     "metadata": {},
     "output_type": "execute_result"
    }
   ],
   "source": [
    "# For Columns\n",
    "x=0.01\n",
    "m=[]\n",
    "cov={}\n",
    "while x<1.0:\n",
    "    x=round(x,2)\n",
    "    m=[]\n",
    "    for i in range(15):\n",
    "        if D2[i]!=0:\n",
    "            m.append(C20[i]*x/D2[i])\n",
    "        else:\n",
    "            m.append(0)\n",
    "    cov[x]=variation(m,axis=0)\n",
    "#     cov.append(round(variation(m, axis = 0),3))\n",
    "    x+=0.01\n",
    "    \n",
    "    \n",
    "temp=min(cov.values())\n",
    "res = [key for key in cov if cov[key] == temp] \n",
    "print('temp',temp)\n",
    "res"
   ]
  },
  {
   "cell_type": "code",
   "execution_count": 113,
   "metadata": {},
   "outputs": [
    {
     "name": "stdout",
     "output_type": "stream",
     "text": [
      "temp 1.0383525076422082\n"
     ]
    },
    {
     "data": {
      "text/plain": [
       "[0.03,\n",
       " 0.06,\n",
       " 0.12,\n",
       " 0.19,\n",
       " 0.21,\n",
       " 0.23,\n",
       " 0.24,\n",
       " 0.38,\n",
       " 0.39,\n",
       " 0.41,\n",
       " 0.42,\n",
       " 0.43,\n",
       " 0.46,\n",
       " 0.48,\n",
       " 0.76,\n",
       " 0.77,\n",
       " 0.78,\n",
       " 0.82,\n",
       " 0.84,\n",
       " 0.86,\n",
       " 0.92,\n",
       " 0.93,\n",
       " 0.96]"
      ]
     },
     "execution_count": 113,
     "metadata": {},
     "output_type": "execute_result"
    }
   ],
   "source": [
    "# For Heat Exchangers\n",
    "x=0.01\n",
    "m=[]\n",
    "cov={}\n",
    "while x<1.0:\n",
    "    x=round(x,2)\n",
    "    m=[]\n",
    "    for i in range(15):\n",
    "        if E2[i]!=0:\n",
    "            m.append(C20[i]*x/E2[i])\n",
    "        else:\n",
    "            m.append(0)\n",
    "    cov[x]=variation(m,axis=0)\n",
    "#     cov.append(round(variation(m, axis = 0),3))\n",
    "    x+=0.01\n",
    "    \n",
    "    \n",
    "temp=min(cov.values())\n",
    "res = [key for key in cov if cov[key] == temp] \n",
    "print('temp',temp)\n",
    "res"
   ]
  },
  {
   "cell_type": "code",
   "execution_count": 114,
   "metadata": {},
   "outputs": [
    {
     "name": "stdout",
     "output_type": "stream",
     "text": [
      "temp 0.616441121529638\n"
     ]
    },
    {
     "data": {
      "text/plain": [
       "[0.03, 0.06, 0.12, 0.24, 0.48, 0.85, 0.93, 0.96]"
      ]
     },
     "execution_count": 114,
     "metadata": {},
     "output_type": "execute_result"
    }
   ],
   "source": [
    "# For Pumps\n",
    "x=0.01\n",
    "m=[]\n",
    "cov={}\n",
    "while x<1.0:\n",
    "    x=round(x,2)\n",
    "    m=[]\n",
    "    for i in range(15):\n",
    "        if F2[i]!=0:\n",
    "            m.append(C20[i]*x/F2[i])\n",
    "        else:\n",
    "            m.append(0)\n",
    "    cov[x]=variation(m,axis=0)\n",
    "#     cov.append(round(variation(m, axis = 0),3))\n",
    "    x+=0.01\n",
    "    \n",
    "    \n",
    "temp=min(cov.values())\n",
    "res = [key for key in cov if cov[key] == temp] \n",
    "print('temp',temp)\n",
    "res"
   ]
  },
  {
   "cell_type": "code",
   "execution_count": 115,
   "metadata": {},
   "outputs": [
    {
     "name": "stdout",
     "output_type": "stream",
     "text": [
      "temp 2.6194968581244433\n"
     ]
    },
    {
     "data": {
      "text/plain": [
       "[0.15, 0.3, 0.35, 0.37, 0.41, 0.6, 0.7, 0.74, 0.82]"
      ]
     },
     "execution_count": 115,
     "metadata": {},
     "output_type": "execute_result"
    }
   ],
   "source": [
    "# For Compressors\n",
    "x=0.01\n",
    "m=[]\n",
    "cov={}\n",
    "while x<1.0:\n",
    "    x=round(x,2)\n",
    "    m=[]\n",
    "    for i in range(15):\n",
    "        if G2[i]!=0:\n",
    "            m.append(C20[i]*x/G2[i])\n",
    "        else:\n",
    "            m.append(0)\n",
    "    cov[x]=variation(m,axis=0)\n",
    "#     cov.append(round(variation(m, axis = 0),3))\n",
    "    x+=0.01\n",
    "    \n",
    "    \n",
    "temp=min(cov.values())\n",
    "res = [key for key in cov if cov[key] == temp] \n",
    "print('temp',temp)\n",
    "res"
   ]
  },
  {
   "cell_type": "code",
   "execution_count": 116,
   "metadata": {},
   "outputs": [
    {
     "name": "stdout",
     "output_type": "stream",
     "text": [
      "temp 2.0153593165177686\n"
     ]
    },
    {
     "data": {
      "text/plain": [
       "[0.03, 0.06, 0.12, 0.21, 0.24, 0.42, 0.48, 0.84, 0.89, 0.96, 0.97, 0.99]"
      ]
     },
     "execution_count": 116,
     "metadata": {},
     "output_type": "execute_result"
    }
   ],
   "source": [
    "# For Furnaces\n",
    "x=0.01\n",
    "m=[]\n",
    "cov={}\n",
    "while x<1.0:\n",
    "    x=round(x,2)\n",
    "    m=[]\n",
    "    for i in range(15):\n",
    "        if H2[i]!=0:\n",
    "            m.append(C20[i]*x/H2[i])\n",
    "        else:\n",
    "            m.append(0)\n",
    "    cov[x]=variation(m,axis=0)\n",
    "#     cov.append(round(variation(m, axis = 0),3))\n",
    "    x+=0.01\n",
    "    \n",
    "    \n",
    "temp=min(cov.values())\n",
    "res = [key for key in cov if cov[key] == temp] \n",
    "print('temp',temp)\n",
    "res"
   ]
  },
  {
   "cell_type": "code",
   "execution_count": 117,
   "metadata": {},
   "outputs": [
    {
     "name": "stdout",
     "output_type": "stream",
     "text": [
      "temp 1.8699505208971947\n"
     ]
    },
    {
     "data": {
      "text/plain": [
       "[0.37, 0.74]"
      ]
     },
     "execution_count": 117,
     "metadata": {},
     "output_type": "execute_result"
    }
   ],
   "source": [
    "# For Misc\n",
    "x=0.01\n",
    "m=[]\n",
    "cov={}\n",
    "while x<1.0:\n",
    "    x=round(x,2)\n",
    "    m=[]\n",
    "    for i in range(15):\n",
    "        if I2[i]!=0:\n",
    "            m.append(C20[i]*x/I2[i])\n",
    "        else:\n",
    "            m.append(0)\n",
    "    cov[x]=variation(m,axis=0)\n",
    "#     cov.append(round(variation(m, axis = 0),3))\n",
    "    x+=0.01\n",
    "    \n",
    "    \n",
    "temp=min(cov.values())\n",
    "res = [key for key in cov if cov[key] == temp] \n",
    "print('temp',temp)\n",
    "res"
   ]
  },
  {
   "cell_type": "markdown",
   "metadata": {},
   "source": [
    "### Particulars J"
   ]
  },
  {
   "cell_type": "code",
   "execution_count": 118,
   "metadata": {},
   "outputs": [
    {
     "name": "stdout",
     "output_type": "stream",
     "text": [
      "15\n",
      "cov. for columns 1.888464216640124\n",
      "Cov using stats library 1.8244297623353032\n"
     ]
    }
   ],
   "source": [
    "# For columns\n",
    "arr = [1.38,2.52,1.61,0.31,20.04,2.10,0.92,1.9,1.42,1.07,1.69,0.54,0.57,0.73,1.90]\n",
    "print(len(arr))\n",
    "print('cov. for columns',coefficientOfVariation(arr,len(arr)))\n",
    "print('Cov using stats library',variation(arr,axis=0))"
   ]
  },
  {
   "cell_type": "code",
   "execution_count": 119,
   "metadata": {},
   "outputs": [
    {
     "name": "stdout",
     "output_type": "stream",
     "text": [
      "15\n",
      "cov. for columns 1.2563233401506722\n",
      "Cov using stats library 1.2137236558102995\n"
     ]
    }
   ],
   "source": [
    "# For Heat Ex.\n",
    "arr = [6.35,1.40,1.38,0.40,17.26,1.57,3.56,1.21,0.81,2.51,5.37,0.54,0.79,2.26,6.19]\n",
    "print(len(arr))\n",
    "print('cov. for columns',coefficientOfVariation(arr,len(arr)))\n",
    "print('Cov using stats library',variation(arr,axis=0))"
   ]
  },
  {
   "cell_type": "code",
   "execution_count": 120,
   "metadata": {},
   "outputs": [
    {
     "name": "stdout",
     "output_type": "stream",
     "text": [
      "15\n",
      "cov. for columns 0.8708421876353187\n",
      "Cov using stats library 0.8413134818332798\n"
     ]
    }
   ],
   "source": [
    "# For Pumps\n",
    "arr = [0.6,1.89,2.32,0.78,5.57,0.93,2.99,1.56,2.58,0.25,0.86,0.44,0.56,0.54,2.91]\n",
    "print(len(arr))\n",
    "print('cov. for columns',coefficientOfVariation(arr,len(arr)))\n",
    "print('Cov using stats library',variation(arr,axis=0))"
   ]
  },
  {
   "cell_type": "code",
   "execution_count": 121,
   "metadata": {},
   "outputs": [
    {
     "name": "stdout",
     "output_type": "stream",
     "text": [
      "15\n",
      "cov. for columns 2.291564095125749\n",
      "Cov using stats library 2.2138612427005286\n"
     ]
    }
   ],
   "source": [
    "# For Comp.\n",
    "arr = [6.74,0.41,0.19,0.34,4.17,0.1,0.22,0,0.18,0.29,0.87,0.12,0.15,19.7,0.43]\n",
    "print(len(arr))\n",
    "print('cov. for columns',coefficientOfVariation(arr,len(arr)))\n",
    "print('Cov using stats library',variation(arr,axis=0))"
   ]
  },
  {
   "cell_type": "code",
   "execution_count": 122,
   "metadata": {},
   "outputs": [
    {
     "name": "stdout",
     "output_type": "stream",
     "text": [
      "15\n",
      "cov. for columns 2.2284725847785523\n",
      "Cov using stats library 2.152909052972039\n"
     ]
    }
   ],
   "source": [
    "# For Furn.\n",
    "arr = [0.67,0.26,0.26,0,0,0,3.73,0,0.29,0,0,0,0,0,4.81]\n",
    "print(len(arr))\n",
    "print('cov. for columns',coefficientOfVariation(arr,len(arr)))\n",
    "print('Cov using stats library',variation(arr,axis=0))"
   ]
  },
  {
   "cell_type": "code",
   "execution_count": 123,
   "metadata": {},
   "outputs": [
    {
     "name": "stdout",
     "output_type": "stream",
     "text": [
      "15\n",
      "cov. for columns 1.83789594652871\n",
      "Cov using stats library 1.7755761720961314\n"
     ]
    }
   ],
   "source": [
    "# For Misc.\n",
    "arr = [0.38,0.32,0.72,0.86,5.57,0.06,7.47,0.36,1.73,0.06,0.06,0.11,0.15,0.02,0.32]\n",
    "print(len(arr))\n",
    "print('cov. for columns',coefficientOfVariation(arr,len(arr)))\n",
    "print('Cov using stats library',variation(arr,axis=0))"
   ]
  },
  {
   "cell_type": "code",
   "execution_count": null,
   "metadata": {},
   "outputs": [],
   "source": []
  },
  {
   "cell_type": "code",
   "execution_count": null,
   "metadata": {},
   "outputs": [],
   "source": []
  },
  {
   "cell_type": "code",
   "execution_count": 124,
   "metadata": {},
   "outputs": [
    {
     "name": "stdout",
     "output_type": "stream",
     "text": [
      "temp 0.48048894331803915\n"
     ]
    },
    {
     "data": {
      "text/plain": [
       "[0.63]"
      ]
     },
     "execution_count": 124,
     "metadata": {},
     "output_type": "execute_result"
    }
   ],
   "source": [
    "# For Columns\n",
    "x=0.01\n",
    "m=[]\n",
    "cov={}\n",
    "while x<1.0:\n",
    "    x=round(x,2)\n",
    "    m=[]\n",
    "    for i in range(15):\n",
    "        if D2[i]!=0:\n",
    "            m.append(C22[i]*x/D2[i])\n",
    "        else:\n",
    "            m.append(0)\n",
    "    cov[x]=variation(m,axis=0)\n",
    "#     cov.append(round(variation(m, axis = 0),3))\n",
    "    x+=0.01\n",
    "    \n",
    "    \n",
    "temp=min(cov.values())\n",
    "res = [key for key in cov if cov[key] == temp] \n",
    "print('temp',temp)\n",
    "res"
   ]
  },
  {
   "cell_type": "code",
   "execution_count": 125,
   "metadata": {},
   "outputs": [
    {
     "name": "stdout",
     "output_type": "stream",
     "text": [
      "temp 0.7833811049070286\n"
     ]
    },
    {
     "data": {
      "text/plain": [
       "[0.31, 0.62]"
      ]
     },
     "execution_count": 125,
     "metadata": {},
     "output_type": "execute_result"
    }
   ],
   "source": [
    "# For Heat Exchangers\n",
    "x=0.01\n",
    "m=[]\n",
    "cov={}\n",
    "while x<1.0:\n",
    "    x=round(x,2)\n",
    "    m=[]\n",
    "    for i in range(15):\n",
    "        if E2[i]!=0:\n",
    "            m.append(C22[i]*x/E2[i])\n",
    "        else:\n",
    "            m.append(0)\n",
    "    cov[x]=variation(m,axis=0)\n",
    "#     cov.append(round(variation(m, axis = 0),3))\n",
    "    x+=0.01\n",
    "    \n",
    "    \n",
    "temp=min(cov.values())\n",
    "res = [key for key in cov if cov[key] == temp] \n",
    "print('temp',temp)\n",
    "res"
   ]
  },
  {
   "cell_type": "code",
   "execution_count": 126,
   "metadata": {},
   "outputs": [
    {
     "name": "stdout",
     "output_type": "stream",
     "text": [
      "temp 0.6863323761381145\n"
     ]
    },
    {
     "data": {
      "text/plain": [
       "[0.07,\n",
       " 0.11,\n",
       " 0.13,\n",
       " 0.14,\n",
       " 0.22,\n",
       " 0.23,\n",
       " 0.26,\n",
       " 0.28,\n",
       " 0.31,\n",
       " 0.44,\n",
       " 0.46,\n",
       " 0.51,\n",
       " 0.52,\n",
       " 0.56,\n",
       " 0.57,\n",
       " 0.62,\n",
       " 0.75,\n",
       " 0.85,\n",
       " 0.87,\n",
       " 0.88,\n",
       " 0.91,\n",
       " 0.92]"
      ]
     },
     "execution_count": 126,
     "metadata": {},
     "output_type": "execute_result"
    }
   ],
   "source": [
    "# For Pumps\n",
    "x=0.01\n",
    "m=[]\n",
    "cov={}\n",
    "while x<1.0:\n",
    "    x=round(x,2)\n",
    "    m=[]\n",
    "    for i in range(15):\n",
    "        if F2[i]!=0:\n",
    "            m.append(C22[i]*x/F2[i])\n",
    "        else:\n",
    "            m.append(0)\n",
    "    cov[x]=variation(m,axis=0)\n",
    "#     cov.append(round(variation(m, axis = 0),3))\n",
    "    x+=0.01\n",
    "    \n",
    "    \n",
    "temp=min(cov.values())\n",
    "res = [key for key in cov if cov[key] == temp] \n",
    "print('temp',temp)\n",
    "res"
   ]
  },
  {
   "cell_type": "code",
   "execution_count": 127,
   "metadata": {},
   "outputs": [
    {
     "name": "stdout",
     "output_type": "stream",
     "text": [
      "temp 2.312394750103832\n"
     ]
    },
    {
     "data": {
      "text/plain": [
       "[0.23, 0.45, 0.46, 0.69, 0.75, 0.9, 0.92]"
      ]
     },
     "execution_count": 127,
     "metadata": {},
     "output_type": "execute_result"
    }
   ],
   "source": [
    "# For Compressors\n",
    "x=0.01\n",
    "m=[]\n",
    "cov={}\n",
    "while x<1.0:\n",
    "    x=round(x,2)\n",
    "    m=[]\n",
    "    for i in range(15):\n",
    "        if G2[i]!=0:\n",
    "            m.append(C22[i]*x/G2[i])\n",
    "        else:\n",
    "            m.append(0)\n",
    "    cov[x]=variation(m,axis=0)\n",
    "#     cov.append(round(variation(m, axis = 0),3))\n",
    "    x+=0.01\n",
    "    \n",
    "    \n",
    "temp=min(cov.values())\n",
    "res = [key for key in cov if cov[key] == temp] \n",
    "print('temp',temp)\n",
    "res"
   ]
  },
  {
   "cell_type": "code",
   "execution_count": 128,
   "metadata": {},
   "outputs": [
    {
     "name": "stdout",
     "output_type": "stream",
     "text": [
      "temp 2.149382708266626\n"
     ]
    },
    {
     "data": {
      "text/plain": [
       "[0.11,\n",
       " 0.13,\n",
       " 0.19,\n",
       " 0.22,\n",
       " 0.25,\n",
       " 0.26,\n",
       " 0.29,\n",
       " 0.33,\n",
       " 0.35,\n",
       " 0.37,\n",
       " 0.38,\n",
       " 0.44,\n",
       " 0.47,\n",
       " 0.5,\n",
       " 0.51,\n",
       " 0.52,\n",
       " 0.53,\n",
       " 0.58,\n",
       " 0.59,\n",
       " 0.61,\n",
       " 0.63,\n",
       " 0.65,\n",
       " 0.66,\n",
       " 0.7,\n",
       " 0.74,\n",
       " 0.75,\n",
       " 0.76,\n",
       " 0.81,\n",
       " 0.85,\n",
       " 0.87,\n",
       " 0.88,\n",
       " 0.89,\n",
       " 0.94,\n",
       " 0.99]"
      ]
     },
     "execution_count": 128,
     "metadata": {},
     "output_type": "execute_result"
    }
   ],
   "source": [
    "# For Furnaces\n",
    "x=0.01\n",
    "m=[]\n",
    "cov={}\n",
    "while x<1.0:\n",
    "    x=round(x,2)\n",
    "    m=[]\n",
    "    for i in range(15):\n",
    "        if H2[i]!=0:\n",
    "            m.append(C22[i]*x/H2[i])\n",
    "        else:\n",
    "            m.append(0)\n",
    "    cov[x]=variation(m,axis=0)\n",
    "#     cov.append(round(variation(m, axis = 0),3))\n",
    "    x+=0.01\n",
    "    \n",
    "    \n",
    "temp=min(cov.values())\n",
    "res = [key for key in cov if cov[key] == temp] \n",
    "print('temp',temp)\n",
    "res"
   ]
  },
  {
   "cell_type": "code",
   "execution_count": 129,
   "metadata": {},
   "outputs": [
    {
     "name": "stdout",
     "output_type": "stream",
     "text": [
      "temp 2.172326268256659\n"
     ]
    },
    {
     "data": {
      "text/plain": [
       "[0.31, 0.59, 0.61, 0.62]"
      ]
     },
     "execution_count": 129,
     "metadata": {},
     "output_type": "execute_result"
    }
   ],
   "source": [
    "# For Misc\n",
    "x=0.01\n",
    "m=[]\n",
    "cov={}\n",
    "while x<1.0:\n",
    "    x=round(x,2)\n",
    "    m=[]\n",
    "    for i in range(15):\n",
    "        if I2[i]!=0:\n",
    "            m.append(C22[i]*x/I2[i])\n",
    "        else:\n",
    "            m.append(0)\n",
    "    cov[x]=variation(m,axis=0)\n",
    "#     cov.append(round(variation(m, axis = 0),3))\n",
    "    x+=0.01\n",
    "    \n",
    "    \n",
    "temp=min(cov.values())\n",
    "res = [key for key in cov if cov[key] == temp] \n",
    "print('temp',temp)\n",
    "res"
   ]
  },
  {
   "cell_type": "code",
   "execution_count": null,
   "metadata": {},
   "outputs": [],
   "source": []
  }
 ],
 "metadata": {
  "kernelspec": {
   "display_name": "Python 3",
   "language": "python",
   "name": "python3"
  },
  "language_info": {
   "codemirror_mode": {
    "name": "ipython",
    "version": 3
   },
   "file_extension": ".py",
   "mimetype": "text/x-python",
   "name": "python",
   "nbconvert_exporter": "python",
   "pygments_lexer": "ipython3",
   "version": "3.7.3"
  }
 },
 "nbformat": 4,
 "nbformat_minor": 4
}
